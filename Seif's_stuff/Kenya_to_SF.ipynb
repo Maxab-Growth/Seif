{
 "cells": [
  {
   "cell_type": "code",
   "execution_count": 3,
   "id": "86f9b52a-7c98-4137-9b20-447e478c65eb",
   "metadata": {
    "tags": []
   },
   "outputs": [
    {
     "name": "stderr",
     "output_type": "stream",
     "text": [
      "/home/ec2-user/anaconda3/envs/python3/lib/python3.10/site-packages/pandas/core/computation/expressions.py:21: UserWarning: Pandas requires version '2.8.4' or newer of 'numexpr' (version '2.7.3' currently installed).\n",
      "  from pandas.core.computation.check import NUMEXPR_INSTALLED\n"
     ]
    }
   ],
   "source": [
    "from common_functions import google_sheets, get_secret, ret_metabase, upload_dataframe_to_snowflake\n",
    "from datetime import datetime, timedelta\n",
    "import os\n",
    "import sqlalchemy\n",
    "import requests\n",
    "import psycopg2\n",
    "import json\n",
    "from pathlib import Path\n",
    "import pandas as pd\n",
    "import numpy as np\n",
    "import pytz\n",
    "import logging\n",
    "logging.basicConfig(level=logging.WARNING)\n",
    "logger = logging.getLogger(__name__)\n"
   ]
  },
  {
   "cell_type": "code",
   "execution_count": 4,
   "id": "5048e434-6b41-4927-b996-79598d406daf",
   "metadata": {
    "tags": []
   },
   "outputs": [],
   "source": [
    "def assign_data_equal_projects(df, list):\n",
    "    \"\"\"\n",
    "    Distribute rows of a DataFrame equally among a list of agents, grouped by Region name.\n",
    "    Args:\n",
    "        df (pd.DataFrame): DataFrame with 'Reigon_name'\n",
    "        list (list): List of agent IDs or names\n",
    "    Returns:\n",
    "        pd.DataFrame: DataFrame with 'agent_assigned' column\n",
    "    \"\"\"\n",
    "    df = df.sample(frac=1)  # Shuffle the data\n",
    "    project_types = df['REGION_NAME'].unique()\n",
    "    \n",
    "    assigned_data = pd.DataFrame()\n",
    "    \n",
    "    for project in project_types:\n",
    "        project_df = df[df['REGION_NAME'] == project]\n",
    "        project_df = project_df.reset_index(drop=True)\n",
    "        rows_per_agent = len(project_df) // len(list)\n",
    "        remainder = len(project_df) % len(list)\n",
    "        \n",
    "        # Distribute rows equally\n",
    "        for i, agent in enumerate(list):\n",
    "            start_idx = i * rows_per_agent\n",
    "            end_idx = start_idx + rows_per_agent\n",
    "            agent_data = project_df.iloc[start_idx:end_idx].copy()\n",
    "            agent_data['agent_assigned'] = agent\n",
    "            \n",
    "            # Handle remainder\n",
    "            if i < remainder:\n",
    "                extra_row = project_df.iloc[end_idx:end_idx+1].copy()\n",
    "                extra_row['agent_assigned'] = agent\n",
    "                agent_data = pd.concat([agent_data, extra_row])\n",
    "            \n",
    "            assigned_data = pd.concat([assigned_data, agent_data])\n",
    "    \n",
    "    assigned_data = assigned_data.reset_index(drop=True)\n",
    "    print(\"Assignment by project complete.\")\n",
    "    return assigned_data\n"
   ]
  },
  {
   "cell_type": "code",
   "execution_count": 5,
   "id": "1bbccfbc-2239-4b2a-90bb-fb770a54ad07",
   "metadata": {
    "tags": []
   },
   "outputs": [
    {
     "name": "stdout",
     "output_type": "stream",
     "text": [
      "/home/ec2-user/service_account_key.json\n",
      "/home/ec2-user/service_account_key.json\n",
      "Assignment by project complete.\n"
     ]
    }
   ],
   "source": [
    "agents = google_sheets(\"Telesales_daily_plan\", \"Agents_Structuer\", \"get\")\n",
    "active_Agents = agents[agents[\"Status\"] == \"Active\"]\n",
    "active_agents_list = active_Agents[\"AD Name\"].tolist()\n",
    "\n",
    "data = ret_metabase(\"Kenya\", 19230)\n",
    "divided_data = assign_data_equal_projects(data, active_agents_list)\n",
    "\n",
    "\n",
    "# google_sheets(\"Telesales_daily_plan\", \"Main_sheet\", \"overwrite\", df=divided_data)\n",
    "\n"
   ]
  },
  {
   "cell_type": "code",
   "execution_count": 6,
   "id": "1ea5e383-0bfc-41d3-98fa-80f40cf3d0bf",
   "metadata": {
    "tags": []
   },
   "outputs": [],
   "source": [
    "now = datetime.now() + timedelta(hours=3)"
   ]
  },
  {
   "cell_type": "code",
   "execution_count": 7,
   "id": "805cdbf2-8c30-4e1b-aa4e-52f8d916c745",
   "metadata": {
    "tags": []
   },
   "outputs": [
    {
     "data": {
      "text/plain": [
       "datetime.datetime(2025, 7, 30, 11, 30, 51, 423660)"
      ]
     },
     "execution_count": 7,
     "metadata": {},
     "output_type": "execute_result"
    }
   ],
   "source": [
    "now"
   ]
  },
  {
   "cell_type": "code",
   "execution_count": 8,
   "id": "0ee582c1-d7e4-4a9b-bd2a-f6c542746b2b",
   "metadata": {
    "tags": []
   },
   "outputs": [],
   "source": [
    "snowflake_data = divided_data[['RETAILER_ID', 'agent_assigned', 'OFFER']]"
   ]
  },
  {
   "cell_type": "code",
   "execution_count": 9,
   "id": "37db34a1-aa3a-4704-a737-5e8ba9f60c43",
   "metadata": {
    "tags": []
   },
   "outputs": [
    {
     "name": "stderr",
     "output_type": "stream",
     "text": [
      "/tmp/ipykernel_21515/4012331295.py:1: SettingWithCopyWarning: \n",
      "A value is trying to be set on a copy of a slice from a DataFrame.\n",
      "Try using .loc[row_indexer,col_indexer] = value instead\n",
      "\n",
      "See the caveats in the documentation: https://pandas.pydata.org/pandas-docs/stable/user_guide/indexing.html#returning-a-view-versus-a-copy\n",
      "  snowflake_data['dispatched_at'] =  now\n"
     ]
    }
   ],
   "source": [
    "snowflake_data['dispatched_at'] =  now"
   ]
  },
  {
   "cell_type": "code",
   "execution_count": 10,
   "id": "00a285e4-28f8-4957-a1a0-da18c64a3b95",
   "metadata": {
    "tags": []
   },
   "outputs": [
    {
     "data": {
      "text/html": [
       "<div>\n",
       "<style scoped>\n",
       "    .dataframe tbody tr th:only-of-type {\n",
       "        vertical-align: middle;\n",
       "    }\n",
       "\n",
       "    .dataframe tbody tr th {\n",
       "        vertical-align: top;\n",
       "    }\n",
       "\n",
       "    .dataframe thead th {\n",
       "        text-align: right;\n",
       "    }\n",
       "</style>\n",
       "<table border=\"1\" class=\"dataframe\">\n",
       "  <thead>\n",
       "    <tr style=\"text-align: right;\">\n",
       "      <th></th>\n",
       "      <th>RETAILER_ID</th>\n",
       "      <th>agent_assigned</th>\n",
       "      <th>OFFER</th>\n",
       "      <th>dispatched_at</th>\n",
       "    </tr>\n",
       "  </thead>\n",
       "  <tbody>\n",
       "    <tr>\n",
       "      <th>0</th>\n",
       "      <td>193323</td>\n",
       "      <td>Amos Leteipa</td>\n",
       "      <td>Order now with 5000 get 50 instantly!</td>\n",
       "      <td>2025-07-30 11:30:51.423660</td>\n",
       "    </tr>\n",
       "    <tr>\n",
       "      <th>1</th>\n",
       "      <td>39598</td>\n",
       "      <td>Amos Leteipa</td>\n",
       "      <td>Order now with 2500 get 25 instantly! Plus enj...</td>\n",
       "      <td>2025-07-30 11:30:51.423660</td>\n",
       "    </tr>\n",
       "    <tr>\n",
       "      <th>2</th>\n",
       "      <td>63681</td>\n",
       "      <td>Amos Leteipa</td>\n",
       "      <td>Order now with 3500 get 35 instantly! Plus enj...</td>\n",
       "      <td>2025-07-30 11:30:51.423660</td>\n",
       "    </tr>\n",
       "    <tr>\n",
       "      <th>3</th>\n",
       "      <td>50284</td>\n",
       "      <td>Amos Leteipa</td>\n",
       "      <td>Order now with 13500 get 135 instantly! Plus e...</td>\n",
       "      <td>2025-07-30 11:30:51.423660</td>\n",
       "    </tr>\n",
       "    <tr>\n",
       "      <th>4</th>\n",
       "      <td>198815</td>\n",
       "      <td>Amos Leteipa</td>\n",
       "      <td>Order now with 4500 get 35 instantly!</td>\n",
       "      <td>2025-07-30 11:30:51.423660</td>\n",
       "    </tr>\n",
       "    <tr>\n",
       "      <th>...</th>\n",
       "      <td>...</td>\n",
       "      <td>...</td>\n",
       "      <td>...</td>\n",
       "      <td>...</td>\n",
       "    </tr>\n",
       "    <tr>\n",
       "      <th>1995</th>\n",
       "      <td>118776</td>\n",
       "      <td>Betilla Kerubo</td>\n",
       "      <td>Order now with 27000 get 270 instantly!</td>\n",
       "      <td>2025-07-30 11:30:51.423660</td>\n",
       "    </tr>\n",
       "    <tr>\n",
       "      <th>1996</th>\n",
       "      <td>101803</td>\n",
       "      <td>Betilla Kerubo</td>\n",
       "      <td>Order now with 30000 get 300 instantly!</td>\n",
       "      <td>2025-07-30 11:30:51.423660</td>\n",
       "    </tr>\n",
       "    <tr>\n",
       "      <th>1997</th>\n",
       "      <td>213237</td>\n",
       "      <td>Betilla Kerubo</td>\n",
       "      <td>Order now with 10500 get 105 instantly! Plus e...</td>\n",
       "      <td>2025-07-30 11:30:51.423660</td>\n",
       "    </tr>\n",
       "    <tr>\n",
       "      <th>1998</th>\n",
       "      <td>125198</td>\n",
       "      <td>Betilla Kerubo</td>\n",
       "      <td>Order now with 14000 get 105 instantly! Plus e...</td>\n",
       "      <td>2025-07-30 11:30:51.423660</td>\n",
       "    </tr>\n",
       "    <tr>\n",
       "      <th>1999</th>\n",
       "      <td>118455</td>\n",
       "      <td>Betilla Kerubo</td>\n",
       "      <td>enjoy 3% cashback from your order split across...</td>\n",
       "      <td>2025-07-30 11:30:51.423660</td>\n",
       "    </tr>\n",
       "  </tbody>\n",
       "</table>\n",
       "<p>2000 rows × 4 columns</p>\n",
       "</div>"
      ],
      "text/plain": [
       "      RETAILER_ID  agent_assigned  \\\n",
       "0          193323    Amos Leteipa   \n",
       "1           39598    Amos Leteipa   \n",
       "2           63681    Amos Leteipa   \n",
       "3           50284    Amos Leteipa   \n",
       "4          198815    Amos Leteipa   \n",
       "...           ...             ...   \n",
       "1995       118776  Betilla Kerubo   \n",
       "1996       101803  Betilla Kerubo   \n",
       "1997       213237  Betilla Kerubo   \n",
       "1998       125198  Betilla Kerubo   \n",
       "1999       118455  Betilla Kerubo   \n",
       "\n",
       "                                                  OFFER  \\\n",
       "0                 Order now with 5000 get 50 instantly!   \n",
       "1     Order now with 2500 get 25 instantly! Plus enj...   \n",
       "2     Order now with 3500 get 35 instantly! Plus enj...   \n",
       "3     Order now with 13500 get 135 instantly! Plus e...   \n",
       "4                 Order now with 4500 get 35 instantly!   \n",
       "...                                                 ...   \n",
       "1995            Order now with 27000 get 270 instantly!   \n",
       "1996            Order now with 30000 get 300 instantly!   \n",
       "1997  Order now with 10500 get 105 instantly! Plus e...   \n",
       "1998  Order now with 14000 get 105 instantly! Plus e...   \n",
       "1999  enjoy 3% cashback from your order split across...   \n",
       "\n",
       "                  dispatched_at  \n",
       "0    2025-07-30 11:30:51.423660  \n",
       "1    2025-07-30 11:30:51.423660  \n",
       "2    2025-07-30 11:30:51.423660  \n",
       "3    2025-07-30 11:30:51.423660  \n",
       "4    2025-07-30 11:30:51.423660  \n",
       "...                         ...  \n",
       "1995 2025-07-30 11:30:51.423660  \n",
       "1996 2025-07-30 11:30:51.423660  \n",
       "1997 2025-07-30 11:30:51.423660  \n",
       "1998 2025-07-30 11:30:51.423660  \n",
       "1999 2025-07-30 11:30:51.423660  \n",
       "\n",
       "[2000 rows x 4 columns]"
      ]
     },
     "execution_count": 10,
     "metadata": {},
     "output_type": "execute_result"
    }
   ],
   "source": [
    "snowflake_data"
   ]
  },
  {
   "cell_type": "code",
   "execution_count": 11,
   "id": "a6c2905b-69a3-40ee-8729-0853331423c5",
   "metadata": {
    "tags": []
   },
   "outputs": [
    {
     "name": "stderr",
     "output_type": "stream",
     "text": [
      "/home/ec2-user/anaconda3/envs/python3/lib/python3.10/site-packages/snowflake/connector/options.py:104: UserWarning: You have an incompatible version of 'pyarrow' installed (20.0.0), please install a version that adheres to: 'pyarrow<19.0.0; extra == \"pandas\"'\n",
      "  warn_incompatible_dep(\n"
     ]
    },
    {
     "name": "stdout",
     "output_type": "stream",
     "text": [
      "/home/ec2-user/service_account_key.json\n"
     ]
    },
    {
     "data": {
      "text/plain": [
       "True"
      ]
     },
     "execution_count": 11,
     "metadata": {},
     "output_type": "execute_result"
    }
   ],
   "source": [
    "upload_dataframe_to_snowflake(country='Kenya', df=snowflake_data, schema_name='MATERIALIZED_VIEWS' , table_name='task_based_am_projects', method='append')\n"
   ]
  },
  {
   "cell_type": "code",
   "execution_count": null,
   "id": "e7aa387b-08ab-4715-8f43-e8d659b705cf",
   "metadata": {},
   "outputs": [],
   "source": []
  }
 ],
 "metadata": {
  "kernelspec": {
   "display_name": "conda_python3",
   "language": "python",
   "name": "conda_python3"
  },
  "language_info": {
   "codemirror_mode": {
    "name": "ipython",
    "version": 3
   },
   "file_extension": ".py",
   "mimetype": "text/x-python",
   "name": "python",
   "nbconvert_exporter": "python",
   "pygments_lexer": "ipython3",
   "version": "3.10.18"
  }
 },
 "nbformat": 4,
 "nbformat_minor": 5
}
