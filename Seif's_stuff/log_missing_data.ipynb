{
 "cells": [
  {
   "cell_type": "code",
   "execution_count": 7,
   "id": "bebc183e-16ce-4fd8-8b4c-784c1edf203d",
   "metadata": {
    "tags": []
   },
   "outputs": [],
   "source": [
    "from common_functions import google_sheets, get_secret, ret_metabase\n",
    "from datetime import datetime, timedelta\n",
    "import os\n",
    "import sqlalchemy\n",
    "import psycopg2\n",
    "import json\n",
    "from pathlib import Path\n",
    "import pandas as pd"
   ]
  },
  {
   "cell_type": "code",
   "execution_count": 2,
   "id": "d86bf7cb-c692-41e5-bf82-84eb0f0c464e",
   "metadata": {
    "tags": []
   },
   "outputs": [],
   "source": [
    "def initialize_env():\n",
    "    \"\"\"\n",
    "    Initialize environment variables and credentials for Snowflake, Slack, Metabase, and Google Sheets.\n",
    "    Reads secrets and sets them as environment variables for use in other functions.\n",
    "    \"\"\"\n",
    "    snowflake_sg_secret = json.loads(get_secret(\"Snowflake-sagemaker\"))\n",
    "    slack_secret = json.loads(get_secret(\"prod/slack/reports\"))\n",
    "    fintech_service_account = json.loads(get_secret(\"prod/fintechServiceEmail/credentials\"))\n",
    "    dwh_writer_secret = json.loads(get_secret(\"prod/db/datawarehouse/sagemaker\"))\n",
    "\n",
    "    os.environ[\"SNOWFLAKE_USERNAME\"] = snowflake_sg_secret[\"username\"]\n",
    "    os.environ[\"SNOWFLAKE_PASSWORD\"] = snowflake_sg_secret[\"password\"]\n",
    "    os.environ[\"SNOWFLAKE_ACCOUNT\"] = snowflake_sg_secret[\"account\"]\n",
    "    os.environ[\"SNOWFLAKE_DATABASE\"] = snowflake_sg_secret[\"database\"]\n",
    "\n",
    "    os.environ[\"SLACK_TOKEN\"] = slack_secret[\"token\"]\n",
    "\n",
    "    os.environ[\"FINTECH_EMONEY_EMAIL\"] = fintech_service_account[\"email_name\"]\n",
    "    os.environ[\"FINTECH_EMONEY_PASSWORD\"] = fintech_service_account[\"email_password\"]\n",
    "\n",
    "    metabase_secret = json.loads(get_secret(\"prod/metabase/maxab_config\"))\n",
    "    os.environ[\"EGYPT_METABASE_USERNAME\"] = metabase_secret[\"metabase_user\"]\n",
    "    os.environ[\"EGYPT_METABASE_PASSWORD\"] = metabase_secret[\"metabase_password\"]\n",
    "\n",
    "    os.environ[\"DWH_WRITER_HOST_NEW\"] = dwh_writer_secret[\"host\"]\n",
    "    os.environ[\"DWH_WRITER_NAME_NEW\"] = dwh_writer_secret[\"dbname\"]\n",
    "    os.environ[\"DWH_WRITER_USER_NAME_NEW\"] = dwh_writer_secret[\"username\"]\n",
    "    os.environ[\"DWH_WRITER_PASSWORD_NEW\"] = dwh_writer_secret[\"password\"] \n",
    "\n",
    "    json_path_sheets = str(Path.home()) + \"/service_account_key_sheets.json\"\n",
    "    sheets_key = get_secret(\"prod/maxab-sheets\")\n",
    "    f = open(json_path_sheets, \"w\")\n",
    "    f.write(sheets_key)\n",
    "    f.close()\n",
    "    os.environ[\"GOOGLE_APPLICATION_CREDENTIALS_SHEETS\"] = json_path_sheets"
   ]
  },
  {
   "cell_type": "code",
   "execution_count": 3,
   "id": "05865475-b9a9-479f-af4c-2bd9244471e3",
   "metadata": {
    "tags": []
   },
   "outputs": [],
   "source": [
    "initialize_env()"
   ]
  },
  {
   "cell_type": "code",
   "execution_count": 4,
   "id": "ed3aa9f1-e233-4c46-9981-2c47aa7461fb",
   "metadata": {
    "tags": []
   },
   "outputs": [],
   "source": [
    "def clean_column_id(df, column_name):\n",
    "    \"\"\"\n",
    "    Clean a DataFrame column by removing commas and converting to integer type if possible.\n",
    "    Args:\n",
    "        df (pd.DataFrame): DataFrame to clean\n",
    "        column_name (str): Name of the column to clean\n",
    "    Returns:\n",
    "        pd.DataFrame: DataFrame with cleaned column\n",
    "    \"\"\"\n",
    "    # Ensure the column is treated as a string\n",
    "    df[column_name] = df[column_name].astype(str)\n",
    "    \n",
    "    # Replace commas in the string\n",
    "    df[column_name] = df[column_name].str.replace(',', '')\n",
    "    \n",
    "    # Convert back to an integer, if appropriate\n",
    "    df[column_name] = df[column_name].astype('Int64', errors='ignore')\n",
    "    \n",
    "    return df"
   ]
  },
  {
   "cell_type": "code",
   "execution_count": 24,
   "id": "e2fdc31a-91ed-469d-9b16-1b965f725603",
   "metadata": {
    "tags": []
   },
   "outputs": [
    {
     "name": "stdout",
     "output_type": "stream",
     "text": [
      "2025-06-22 11:25:19.025049\n"
     ]
    }
   ],
   "source": [
    "date = \"June 22\"\n",
    "day = -1\n",
    "now = datetime.now() + timedelta(days=day)\n",
    "print(now)\n"
   ]
  },
  {
   "cell_type": "code",
   "execution_count": 14,
   "id": "c2639029-ff16-42f1-9b18-b0c77efce5dc",
   "metadata": {
    "tags": []
   },
   "outputs": [
    {
     "name": "stdout",
     "output_type": "stream",
     "text": [
      "/home/ec2-user/service_account_key.json\n"
     ]
    }
   ],
   "source": [
    "agents = google_sheets(date, \"Data\", \"get\")"
   ]
  },
  {
   "cell_type": "code",
   "execution_count": 16,
   "id": "8d92397e-34c7-4057-af0a-07c809df5efa",
   "metadata": {
    "tags": []
   },
   "outputs": [],
   "source": [
    "agents = agents[[\"Agent\", \"Agent_id\"]]"
   ]
  },
  {
   "cell_type": "code",
   "execution_count": null,
   "id": "346112b3-be22-43b1-a339-ad7ac6608ee0",
   "metadata": {},
   "outputs": [],
   "source": []
  },
  {
   "cell_type": "code",
   "execution_count": 9,
   "id": "9b6fbc5a-7769-4f8d-b76d-3a6092a80ec3",
   "metadata": {
    "tags": []
   },
   "outputs": [
    {
     "name": "stdout",
     "output_type": "stream",
     "text": [
      "Successfully connected to DB\n",
      "/home/ec2-user/service_account_key.json\n",
      "True\n",
      "start\n",
      "end\n",
      "2025-06-24 17:59:51.276536\n",
      "Agent dispatching process complete.\n"
     ]
    }
   ],
   "source": [
    "\n",
    "    host = os.environ[\"DWH_WRITER_HOST_NEW\"]\n",
    "    database = os.environ[\"DWH_WRITER_NAME_NEW\"]\n",
    "    user = os.environ[\"DWH_WRITER_USER_NAME_NEW\"]\n",
    "    password = os.environ[\"DWH_WRITER_PASSWORD_NEW\"]\n",
    "\n",
    "    conn = psycopg2.connect(host=host, database=database, user=user, password=password)\n",
    "    print(\"Successfully connected to DB\")\n",
    "\n",
    "    now = datetime.now() + timedelta(hours = 3)\n",
    "    df = ret_metabase(\"Egypt\", 61071)\n",
    "    df.columns = df.columns.str.lower()\n",
    "\n",
    "    df['dispatched_at'] = now\n",
    " \n",
    "    # db connection:\n",
    "    engine = sqlalchemy.create_engine(f\"postgresql+psycopg2://{user}:{password}@{host}/{database}\")\n",
    "    print(bool(engine))\n",
    "\n",
    "\n",
    "\n",
    "    # update the table on db:\n",
    "    with engine.connect() as conn:\n",
    "        print(\"start\")\n",
    "        df.to_sql(name='task_based_am_projects', schema='fintech', con=engine, if_exists='append', chunksize=1000, method='multi', index=False)\n",
    "        print(\"end\")\n",
    "        conn.close()\n",
    "\n",
    "        # close the connection:\n",
    "        conn.close()\n",
    "    print(now)\n",
    "    print(\"Agent dispatching process complete.\")"
   ]
  }
 ],
 "metadata": {
  "kernelspec": {
   "display_name": "conda_python3",
   "language": "python",
   "name": "conda_python3"
  },
  "language_info": {
   "codemirror_mode": {
    "name": "ipython",
    "version": 3
   },
   "file_extension": ".py",
   "mimetype": "text/x-python",
   "name": "python",
   "nbconvert_exporter": "python",
   "pygments_lexer": "ipython3",
   "version": "3.10.18"
  }
 },
 "nbformat": 4,
 "nbformat_minor": 5
}
