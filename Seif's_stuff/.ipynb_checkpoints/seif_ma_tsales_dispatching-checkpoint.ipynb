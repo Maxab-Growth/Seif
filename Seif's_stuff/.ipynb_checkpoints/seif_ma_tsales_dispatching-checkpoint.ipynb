{
 "cells": [
  {
   "cell_type": "markdown",
   "id": "cde0546a-aadb-4ec1-9a56-5c3da47d98ed",
   "metadata": {},
   "source": [
    "## Seif MA Dispatching"
   ]
  },
  {
   "cell_type": "code",
   "execution_count": 1,
   "id": "72efefc8-6b61-4a8f-8ec9-4d21d0f4ab15",
   "metadata": {
    "tags": []
   },
   "outputs": [
    {
     "name": "stdout",
     "output_type": "stream",
     "text": [
      "Requirement already satisfied: gspread_dataframe in /home/ec2-user/anaconda3/envs/python3/lib/python3.10/site-packages (4.0.0)\n",
      "Requirement already satisfied: gspread>=3.0.0 in /home/ec2-user/anaconda3/envs/python3/lib/python3.10/site-packages (from gspread_dataframe) (6.2.1)\n",
      "Requirement already satisfied: pandas>=0.24.0 in /home/ec2-user/anaconda3/envs/python3/lib/python3.10/site-packages (from gspread_dataframe) (2.2.3)\n",
      "Requirement already satisfied: six>=1.12.0 in /home/ec2-user/anaconda3/envs/python3/lib/python3.10/site-packages (from gspread_dataframe) (1.17.0)\n",
      "Requirement already satisfied: google-auth>=1.12.0 in /home/ec2-user/anaconda3/envs/python3/lib/python3.10/site-packages (from gspread>=3.0.0->gspread_dataframe) (2.40.3)\n",
      "Requirement already satisfied: google-auth-oauthlib>=0.4.1 in /home/ec2-user/anaconda3/envs/python3/lib/python3.10/site-packages (from gspread>=3.0.0->gspread_dataframe) (1.2.2)\n",
      "Requirement already satisfied: cachetools<6.0,>=2.0.0 in /home/ec2-user/anaconda3/envs/python3/lib/python3.10/site-packages (from google-auth>=1.12.0->gspread>=3.0.0->gspread_dataframe) (5.5.2)\n",
      "Requirement already satisfied: pyasn1-modules>=0.2.1 in /home/ec2-user/anaconda3/envs/python3/lib/python3.10/site-packages (from google-auth>=1.12.0->gspread>=3.0.0->gspread_dataframe) (0.4.2)\n",
      "Requirement already satisfied: rsa<5,>=3.1.4 in /home/ec2-user/anaconda3/envs/python3/lib/python3.10/site-packages (from google-auth>=1.12.0->gspread>=3.0.0->gspread_dataframe) (4.7.2)\n",
      "Requirement already satisfied: pyasn1>=0.1.3 in /home/ec2-user/anaconda3/envs/python3/lib/python3.10/site-packages (from rsa<5,>=3.1.4->google-auth>=1.12.0->gspread>=3.0.0->gspread_dataframe) (0.6.1)\n",
      "Requirement already satisfied: requests-oauthlib>=0.7.0 in /home/ec2-user/anaconda3/envs/python3/lib/python3.10/site-packages (from google-auth-oauthlib>=0.4.1->gspread>=3.0.0->gspread_dataframe) (2.0.0)\n",
      "Requirement already satisfied: numpy>=1.22.4 in /home/ec2-user/anaconda3/envs/python3/lib/python3.10/site-packages (from pandas>=0.24.0->gspread_dataframe) (1.26.4)\n",
      "Requirement already satisfied: python-dateutil>=2.8.2 in /home/ec2-user/anaconda3/envs/python3/lib/python3.10/site-packages (from pandas>=0.24.0->gspread_dataframe) (2.9.0.post0)\n",
      "Requirement already satisfied: pytz>=2020.1 in /home/ec2-user/anaconda3/envs/python3/lib/python3.10/site-packages (from pandas>=0.24.0->gspread_dataframe) (2024.1)\n",
      "Requirement already satisfied: tzdata>=2022.7 in /home/ec2-user/anaconda3/envs/python3/lib/python3.10/site-packages (from pandas>=0.24.0->gspread_dataframe) (2025.2)\n",
      "Requirement already satisfied: oauthlib>=3.0.0 in /home/ec2-user/anaconda3/envs/python3/lib/python3.10/site-packages (from requests-oauthlib>=0.7.0->google-auth-oauthlib>=0.4.1->gspread>=3.0.0->gspread_dataframe) (3.2.2)\n",
      "Requirement already satisfied: requests>=2.0.0 in /home/ec2-user/anaconda3/envs/python3/lib/python3.10/site-packages (from requests-oauthlib>=0.7.0->google-auth-oauthlib>=0.4.1->gspread>=3.0.0->gspread_dataframe) (2.32.3)\n",
      "Requirement already satisfied: charset_normalizer<4,>=2 in /home/ec2-user/anaconda3/envs/python3/lib/python3.10/site-packages (from requests>=2.0.0->requests-oauthlib>=0.7.0->google-auth-oauthlib>=0.4.1->gspread>=3.0.0->gspread_dataframe) (3.4.2)\n",
      "Requirement already satisfied: idna<4,>=2.5 in /home/ec2-user/anaconda3/envs/python3/lib/python3.10/site-packages (from requests>=2.0.0->requests-oauthlib>=0.7.0->google-auth-oauthlib>=0.4.1->gspread>=3.0.0->gspread_dataframe) (3.10)\n",
      "Requirement already satisfied: urllib3<3,>=1.21.1 in /home/ec2-user/anaconda3/envs/python3/lib/python3.10/site-packages (from requests>=2.0.0->requests-oauthlib>=0.7.0->google-auth-oauthlib>=0.4.1->gspread>=3.0.0->gspread_dataframe) (2.4.0)\n",
      "Requirement already satisfied: certifi>=2017.4.17 in /home/ec2-user/anaconda3/envs/python3/lib/python3.10/site-packages (from requests>=2.0.0->requests-oauthlib>=0.7.0->google-auth-oauthlib>=0.4.1->gspread>=3.0.0->gspread_dataframe) (2025.4.26)\n"
     ]
    }
   ],
   "source": [
    "!pip install gspread_dataframe\n"
   ]
  },
  {
   "cell_type": "code",
   "execution_count": 2,
   "id": "01437d63-573e-456a-a817-feb24352083e",
   "metadata": {
    "tags": []
   },
   "outputs": [
    {
     "name": "stdout",
     "output_type": "stream",
     "text": [
      "Requirement already satisfied: oauth2client in /home/ec2-user/anaconda3/envs/python3/lib/python3.10/site-packages (4.1.3)\n",
      "Requirement already satisfied: httplib2>=0.9.1 in /home/ec2-user/anaconda3/envs/python3/lib/python3.10/site-packages (from oauth2client) (0.22.0)\n",
      "Requirement already satisfied: pyasn1>=0.1.7 in /home/ec2-user/anaconda3/envs/python3/lib/python3.10/site-packages (from oauth2client) (0.6.1)\n",
      "Requirement already satisfied: pyasn1-modules>=0.0.5 in /home/ec2-user/anaconda3/envs/python3/lib/python3.10/site-packages (from oauth2client) (0.4.2)\n",
      "Requirement already satisfied: rsa>=3.1.4 in /home/ec2-user/anaconda3/envs/python3/lib/python3.10/site-packages (from oauth2client) (4.7.2)\n",
      "Requirement already satisfied: six>=1.6.1 in /home/ec2-user/anaconda3/envs/python3/lib/python3.10/site-packages (from oauth2client) (1.17.0)\n",
      "Requirement already satisfied: pyparsing!=3.0.0,!=3.0.1,!=3.0.2,!=3.0.3,<4,>=2.4.2 in /home/ec2-user/anaconda3/envs/python3/lib/python3.10/site-packages (from httplib2>=0.9.1->oauth2client) (3.2.3)\n"
     ]
    }
   ],
   "source": [
    "!pip install oauth2client\n"
   ]
  },
  {
   "cell_type": "code",
   "execution_count": 9,
   "id": "ec37b512-a4da-42e6-b889-e38080a25fab",
   "metadata": {
    "tags": []
   },
   "outputs": [
    {
     "name": "stdout",
     "output_type": "stream",
     "text": [
      "percentage of taks done 33.1%\n"
     ]
    }
   ],
   "source": [
    "progress_perc = round((Done / Tasks) * 100, 1)\n",
    "\n",
    "print(f\"percentage of taks done {progress_perc}%\")"
   ]
  },
  {
   "cell_type": "code",
   "execution_count": 11,
   "id": "14357324-66ba-4821-a50a-555f023db757",
   "metadata": {
    "tags": []
   },
   "outputs": [
    {
     "name": "stdout",
     "output_type": "stream",
     "text": [
      "[]\n"
     ]
    }
   ],
   "source": [
    "    # test = ret_metabase('MOROCCO', 18879)\n",
    "    # test2 = ret_metabase('MOROCCO', 10368)\n",
    "    # test3 =ret_metabase('MOROCCO', 10728)\n",
    "    \n",
    "    # print(\"10410: \\n\", test)\n",
    "    test\n",
    "    # print(\"10368: \\n\", test2.columns.tolist())\n",
    "    # print(\"10728: \\n\", test3.columns.tolist())\n",
    "    print(data_assigned.columns.tolist())"
   ]
  },
  {
   "cell_type": "code",
   "execution_count": 12,
   "id": "f062fa2e-58a4-4bba-9ef6-828c05fbaace",
   "metadata": {
    "tags": []
   },
   "outputs": [
    {
     "name": "stdout",
     "output_type": "stream",
     "text": [
      "Monday\n",
      "/home/ec2-user/service_account_key.json\n",
      "10\n",
      "/home/ec2-user/service_account_key.json\n"
     ]
    }
   ],
   "source": [
    "import pytz\n",
    "from datetime import datetime\n",
    "import pandas as pd\n",
    "import numpy as np\n",
    "\n",
    "morocco_tz = pytz.timezone('Africa/Casablanca')\n",
    "now = datetime.now(morocco_tz)\n",
    "current_time = now.time()\n",
    "current_day = now.strftime('%A')\n",
    "print(current_day)\n",
    "hour = int(str(now.time())[0:2])\n",
    "\n",
    "agents_df = google_sheets('MA daily_automatic_assignment', 'attendance_filtered', 'get')\n",
    "# print(agents_df)\n",
    "print(hour)\n",
    "\n",
    "agents_df_copy = agents_df.copy() \n",
    "agents_df.columns = agents_df.columns.str.strip().str.lower()\n",
    "agents_df_copy['assignment_start_time'] = agents_df['start_time'].astype(int)\n",
    "agents_df_copy['assignment_end_time'] = agents_df['end_time'].astype(int)\n",
    "agents_df_copy['current_day'] = agents_df['day'].astype(str).str.lower() == 'true'\n",
    "\n",
    "\n",
    "# Fetch data for mapped retailer-agent \n",
    "mapping_df = google_sheets('MA Telesales Cycle Assignment', 'Sheet1', 'get')\n",
    "\n",
    "\n",
    "agents_df_copy['assign_data'] =  np.where(\n",
    "    (hour >= agents_df_copy['assignment_start_time'])\n",
    "    & (hour <= agents_df_copy['assignment_end_time'])\n",
    "    & (agents_df['day'] == True),\n",
    "    'yes',\n",
    "    'no' )\n",
    "\n",
    "# store all available clocked-in agents for today\n",
    "available_agents = agents_df_copy.loc[agents_df_copy['assign_data'] == 'yes']\n",
    "available_agents_list = available_agents['agent_id'].values.tolist()\n",
    "number_of_available_agents = len(available_agents_list)"
   ]
  },
  {
   "cell_type": "code",
   "execution_count": 14,
   "id": "f08f436f-d552-4856-a9cc-854ebbfa509c",
   "metadata": {
    "tags": []
   },
   "outputs": [
    {
     "name": "stdout",
     "output_type": "stream",
     "text": [
      "/home/ec2-user/service_account_key.json\n",
      "/home/ec2-user/service_account_key.json\n",
      "/home/ec2-user/service_account_key.json\n"
     ]
    }
   ],
   "source": [
    "# Retention & Reactivation Tasks for 1st time slot\n",
    "Retention_dfs = [\n",
    "    ret_metabase('MOROCCO', 18879),\n",
    "    # ret_metabase('MOROCCO', \"<query_id>\"),\n",
    "    # ret_metabase('MOROCCO', \"<query_id>\"),\n",
    "    # ret_metabase('MOROCCO', \"<query_id>\"),\n",
    "    # ret_metabase('MOROCCO', \"<query_id>\")\n",
    "]\n",
    "\n",
    "for df in Retention_dfs:\n",
    "    df.columns = map(str.lower, df.columns)\n",
    "\n",
    "# Marketing Tasks for 2nd time slot\n",
    "Marketing_dfs = [\n",
    "    ret_metabase('MOROCCO', 10368),\n",
    "    # ret_metabase('MOROCCO', \"<query_id>\"),\n",
    "    # ret_metabase('MOROCCO', \"<query_id>\"),\n",
    "    # ret_metabase('MOROCCO', \"<query_id>\"),\n",
    "    # ret_metabase('MOROCCO', \"<query_id>\")\n",
    "]\n",
    "\n",
    "for df in Marketing_dfs:\n",
    "    df.columns = map(str.lower, df.columns)\n",
    "\n",
    "# Marketing & E-commerce  Tasks for 3rd time slot \n",
    "Ecom_dfs = [\n",
    "    ret_metabase('MOROCCO', 10728),\n",
    "    # ret_metabase('MOROCCO', \"<query_id>\"),\n",
    "    # ret_metabase('MOROCCO', \"<query_id>\"),\n",
    "    # ret_metabase('MOROCCO', \"<query_id>\"),\n",
    "    # ret_metabase('MOROCCO', \"<query_id>\")\n",
    "]\n",
    "\n",
    "for df in Ecom_dfs:\n",
    "    df.columns = map(str.lower, df.columns)"
   ]
  },
  {
   "cell_type": "code",
   "execution_count": 15,
   "id": "99cc3081-04e3-4d22-a271-a66bb9e0287f",
   "metadata": {
    "tags": []
   },
   "outputs": [
    {
     "name": "stdout",
     "output_type": "stream",
     "text": [
      "/home/ec2-user/service_account_key.json\n",
      "/home/ec2-user/service_account_key.json\n",
      "percentage of taks done 82.3%\n"
     ]
    }
   ],
   "source": [
    "# Call the Fintech Runsheet to check for retailers already assignied \n",
    "# if not data_instance_df.empty:\n",
    "data_instance = google_sheets('Fintech Runsheet', 'Data', 'get')\n",
    "progress      = google_sheets('Fintech Runsheet', 'Dashboard', 'get')\n",
    "data_instance_df = data_instance.drop(columns=['Unnamed: 0'])\n",
    "data_instance_df.columns = data_instance_df.iloc[0]\n",
    "data_instance_df = data_instance_df[1:].reset_index(drop=True)\n",
    "data_instance_df = data_instance_df.dropna(subset=['Retailer ID']).reset_index(drop=True)\n",
    "\n",
    "# Convert to set of already assigned retailer IDs\n",
    "already_assigned_retailers = set(data_instance_df['Retailer ID'].astype(int).unique())\n",
    "\n",
    "# simple math\n",
    "correct_table = progress.iloc[4:9, 7:9]  # Rows 6-9 (index 5-8), Columns G-N (index 6-12)\n",
    "correct_table.columns = [\"Total Assigned\", \"Total Calls Done\"]\n",
    "\n",
    "Tasks = correct_table[\"Total Assigned\"].sum()\n",
    "Done  = correct_table[\"Total Calls Done\"].sum()\n",
    "\n",
    "if Done > 0:\n",
    "    progress_perc = round((Done / Tasks) * 100, 1)\n",
    "    print(f\"percentage of taks done {progress_perc}%\")"
   ]
  },
  {
   "cell_type": "code",
   "execution_count": 26,
   "id": "519496af-e6bd-42e9-a2fa-dbe668aedd6b",
   "metadata": {
    "tags": []
   },
   "outputs": [
    {
     "data": {
      "text/html": [
       "<div>\n",
       "<style scoped>\n",
       "    .dataframe tbody tr th:only-of-type {\n",
       "        vertical-align: middle;\n",
       "    }\n",
       "\n",
       "    .dataframe tbody tr th {\n",
       "        vertical-align: top;\n",
       "    }\n",
       "\n",
       "    .dataframe thead th {\n",
       "        text-align: right;\n",
       "    }\n",
       "</style>\n",
       "<table border=\"1\" class=\"dataframe\">\n",
       "  <thead>\n",
       "    <tr style=\"text-align: right;\">\n",
       "      <th></th>\n",
       "      <th>retailer_id</th>\n",
       "      <th>name</th>\n",
       "      <th>mobile</th>\n",
       "      <th>sales_order_id</th>\n",
       "      <th>created_at</th>\n",
       "      <th>project_name</th>\n",
       "      <th>description</th>\n",
       "      <th>last_call_date</th>\n",
       "      <th>balance</th>\n",
       "      <th>priority</th>\n",
       "    </tr>\n",
       "  </thead>\n",
       "  <tbody>\n",
       "  </tbody>\n",
       "</table>\n",
       "</div>"
      ],
      "text/plain": [
       "Empty DataFrame\n",
       "Columns: [retailer_id, name, mobile, sales_order_id, created_at, project_name, description, last_call_date, balance, priority]\n",
       "Index: []"
      ]
     },
     "execution_count": 26,
     "metadata": {},
     "output_type": "execute_result"
    }
   ],
   "source": [
    "df_Retention"
   ]
  },
  {
   "cell_type": "code",
   "execution_count": 28,
   "id": "d8c20c02-c9e0-413f-9c72-38e267a10066",
   "metadata": {
    "tags": []
   },
   "outputs": [],
   "source": [
    "df_Retention = pd.concat(Retention_dfs, ignore_index=True)\n",
    "df_Retention = df_Retention[~df_Retention['retailer_id'].isin(already_assigned_retailers)]\n",
    "data_assigned = assign_data_equal_projects(df_Retention, available_agents_list)"
   ]
  },
  {
   "cell_type": "code",
   "execution_count": 30,
   "id": "5ec520ea-8d8f-4765-882f-d590b3524e74",
   "metadata": {
    "tags": []
   },
   "outputs": [
    {
     "name": "stdout",
     "output_type": "stream",
     "text": [
      "youre good\n"
     ]
    }
   ],
   "source": [
    "if data_assigned.empty:\n",
    "    print(\"youre good\")\n",
    "else:\n",
    "    print(\"no\")"
   ]
  },
  {
   "cell_type": "code",
   "execution_count": 43,
   "id": "8e03fdbe-dacd-46d9-990e-5cbae2a4af37",
   "metadata": {
    "tags": []
   },
   "outputs": [
    {
     "name": "stdout",
     "output_type": "stream",
     "text": [
      "Monday\n",
      "/home/ec2-user/service_account_key.json\n",
      "12\n",
      "/home/ec2-user/service_account_key.json\n",
      "/home/ec2-user/service_account_key.json\n",
      "/home/ec2-user/service_account_key.json\n",
      "/home/ec2-user/service_account_key.json\n",
      "379\n",
      "303\n",
      "79.94722955145119\n",
      "/home/ec2-user/service_account_key.json\n",
      "/home/ec2-user/service_account_key.json\n",
      "     retailer_id         name     mobile sales_order_id created_at  \\\n",
      "0          45395       rachid  664394910              0              \n",
      "1          69497         لحسن  619676309              0              \n",
      "2          19529  البصري سعيد  639941444              0              \n",
      "3          56577        salah  720191020              0              \n",
      "4          65759         محمد  783466966              0              \n",
      "..           ...          ...        ...            ...        ...   \n",
      "233        70244       بوجمعة  780480993              0              \n",
      "234        38575         ياسر  696523872              0              \n",
      "235        10665      mohamad  639391825              0              \n",
      "236        59485      mostafa  655043011              0              \n",
      "237        22061       abdlah  700290588              0              \n",
      "\n",
      "        project_name                    description last_call_date  balance  \\\n",
      "0    app_acquisition   NMV des 3 dernier mois: 2934                       0   \n",
      "1    app_acquisition   NMV des 3 dernier mois: 3988                       0   \n",
      "2    app_acquisition   NMV des 3 dernier mois: 2469                       0   \n",
      "3    app_acquisition   NMV des 3 dernier mois: 5447                       0   \n",
      "4    app_acquisition   NMV des 3 dernier mois: 1837                       0   \n",
      "..               ...                            ...            ...      ...   \n",
      "233  app_acquisition    NMV des 3 dernier mois: 724                       0   \n",
      "234  app_acquisition   NMV des 3 dernier mois: 1390                       0   \n",
      "235  app_acquisition  NMV des 3 dernier mois: 12808                       0   \n",
      "236  app_acquisition  NMV des 3 dernier mois: 12298                       0   \n",
      "237  app_acquisition    NMV des 3 dernier mois: 732                       0   \n",
      "\n",
      "     priority  agent_assigned  \n",
      "0         NaN           128.0  \n",
      "1         NaN           128.0  \n",
      "2         NaN           128.0  \n",
      "3         NaN           128.0  \n",
      "4         NaN           128.0  \n",
      "..        ...             ...  \n",
      "233       NaN           144.0  \n",
      "234       NaN           144.0  \n",
      "235       NaN           144.0  \n",
      "236       NaN           144.0  \n",
      "237       NaN           144.0  \n",
      "\n",
      "[238 rows x 11 columns]\n",
      "    retailer_id         name     mobile sales_order_id created_at  \\\n",
      "0         45395       rachid  664394910              0              \n",
      "1         69497         لحسن  619676309              0              \n",
      "2         19529  البصري سعيد  639941444              0              \n",
      "3         56577        salah  720191020              0              \n",
      "4         65759         محمد  783466966              0              \n",
      "..          ...          ...        ...            ...        ...   \n",
      "233       70244       بوجمعة  780480993              0              \n",
      "234       38575         ياسر  696523872              0              \n",
      "235       10665      mohamad  639391825              0              \n",
      "236       59485      mostafa  655043011              0              \n",
      "237       22061       abdlah  700290588              0              \n",
      "\n",
      "        project_name                    description last_call_date balance  \\\n",
      "0    app_acquisition   NMV des 3 dernier mois: 2934                      0   \n",
      "1    app_acquisition   NMV des 3 dernier mois: 3988                      0   \n",
      "2    app_acquisition   NMV des 3 dernier mois: 2469                      0   \n",
      "3    app_acquisition   NMV des 3 dernier mois: 5447                      0   \n",
      "4    app_acquisition   NMV des 3 dernier mois: 1837                      0   \n",
      "..               ...                            ...            ...     ...   \n",
      "233  app_acquisition    NMV des 3 dernier mois: 724                      0   \n",
      "234  app_acquisition   NMV des 3 dernier mois: 1390                      0   \n",
      "235  app_acquisition  NMV des 3 dernier mois: 12808                      0   \n",
      "236  app_acquisition  NMV des 3 dernier mois: 12298                      0   \n",
      "237  app_acquisition    NMV des 3 dernier mois: 732                      0   \n",
      "\n",
      "    agent_assigned          added_at priority  \n",
      "0            128.0  2025-06-02 12:17      nan  \n",
      "1            128.0  2025-06-02 12:17      nan  \n",
      "2            128.0  2025-06-02 12:17      nan  \n",
      "3            128.0  2025-06-02 12:17      nan  \n",
      "4            128.0  2025-06-02 12:17      nan  \n",
      "..             ...               ...      ...  \n",
      "233          144.0  2025-06-02 12:17      nan  \n",
      "234          144.0  2025-06-02 12:17      nan  \n",
      "235          144.0  2025-06-02 12:17      nan  \n",
      "236          144.0  2025-06-02 12:17      nan  \n",
      "237          144.0  2025-06-02 12:17      nan  \n",
      "\n",
      "[238 rows x 12 columns]\n"
     ]
    },
    {
     "name": "stderr",
     "output_type": "stream",
     "text": [
      "/tmp/ipykernel_31237/1036716469.py:220: SettingWithCopyWarning: \n",
      "A value is trying to be set on a copy of a slice from a DataFrame.\n",
      "Try using .loc[row_indexer,col_indexer] = value instead\n",
      "\n",
      "See the caveats in the documentation: https://pandas.pydata.org/pandas-docs/stable/user_guide/indexing.html#returning-a-view-versus-a-copy\n",
      "  df_filtered['retailer_id'] = df_filtered['retailer_id'].replace(',', '', regex=True).astype('int')\n"
     ]
    }
   ],
   "source": [
    "# from airflow import DAG\n",
    "# from airflow.operators.python import PythonOperator\n",
    "from common_functions import ret_metabase, google_sheets, send_text_slack\n",
    "from datetime import datetime, timedelta\n",
    "import pandas as pd\n",
    "\n",
    "    \n",
    "\n",
    "def assign_data_equal_projects(df, list):\n",
    "    df = df.sample(frac=1)  # Shuffle the data\n",
    "    project_types = df['project_name'].unique()\n",
    "    \n",
    "    assigned_data = pd.DataFrame()\n",
    "    \n",
    "    for project in project_types:\n",
    "        project_df = df[df['project_name'] == project]\n",
    "        project_df = project_df.reset_index(drop=True)\n",
    "        rows_per_agent = len(project_df) // len(list)\n",
    "        remainder = len(project_df) % len(list)\n",
    "        \n",
    "        # Distribute rows equally\n",
    "        for i, agent in enumerate(list):\n",
    "            start_idx = i * rows_per_agent\n",
    "            end_idx = start_idx + rows_per_agent\n",
    "            agent_data = project_df.iloc[start_idx:end_idx].copy()\n",
    "            agent_data['agent_assigned'] = agent\n",
    "            \n",
    "            # Handle remainder\n",
    "            if i < remainder:\n",
    "                extra_row = project_df.iloc[end_idx:end_idx+1].copy()\n",
    "                extra_row['agent_assigned'] = agent\n",
    "                agent_data = pd.concat([agent_data, extra_row])\n",
    "            \n",
    "            assigned_data = pd.concat([assigned_data, agent_data])\n",
    "    \n",
    "    assigned_data = assigned_data.reset_index(drop=True)\n",
    "    \n",
    "    return assigned_data\n",
    "\n",
    "def assign_data_by_mapping(df, mapping_df):\n",
    "    # store retail-agent mapping in a dictionary \n",
    "    mapping_dict = dict(zip(mapping_df['main_system_id'], mapping_df['agent_assigned']))\n",
    "    \n",
    "    \n",
    "    assigned_agents = []\n",
    "    # missing_retailers = [] could use it later for viewing errors\n",
    "\n",
    "    for retailer_id in df['retailer_id']:\n",
    "        if retailer_id in mapping_dict:\n",
    "            assigned_agents.append(mapping_dict[retailer_id])\n",
    "        else:\n",
    "            assigned_agents.append(None)\n",
    "    \n",
    "    df['agent_assigned'] = assigned_agents\n",
    "\n",
    "    df = df.reset_index(drop=True)\n",
    "\n",
    "    return df\n",
    "\n",
    "            \n",
    "\n",
    "import pytz\n",
    "from datetime import datetime\n",
    "import pandas as pd\n",
    "import numpy as np\n",
    "\n",
    "morocco_tz = pytz.timezone('Africa/Casablanca')\n",
    "now = datetime.now(morocco_tz)\n",
    "current_time = now.time()\n",
    "current_day = now.strftime('%A')\n",
    "print(current_day)\n",
    "hour = int(str(now.time())[0:2])\n",
    "\n",
    "agents_df = google_sheets('MA daily_automatic_assignment', 'attendance_filtered', 'get')\n",
    "# print(agents_df)\n",
    "print(hour)\n",
    "\n",
    "agents_df_copy = agents_df.copy() \n",
    "agents_df.columns = agents_df.columns.str.strip().str.lower()\n",
    "agents_df_copy['assignment_start_time'] = agents_df['start_time'].astype(int)\n",
    "agents_df_copy['assignment_end_time'] = agents_df['end_time'].astype(int)\n",
    "agents_df_copy['current_day'] = agents_df['day'].astype(str).str.lower() == 'true'\n",
    "\n",
    "# Fetch data for mapped retailer-agent \n",
    "mapping_df = google_sheets('MA Telesales Cycle Assignment', 'Sheet1', 'get')\n",
    "\n",
    "# print(mapping_df['agent_assigned'])\n",
    "agents_df_copy['assign_data'] =  np.where(\n",
    "    (hour >= agents_df_copy['assignment_start_time'])\n",
    "    & (hour <= agents_df_copy['assignment_end_time'])\n",
    "    & (agents_df['day'] == True),\n",
    "    'yes',\n",
    "    'no' )\n",
    "\n",
    "# store all available clocked-in agents for today\n",
    "available_agents = agents_df_copy.loc[agents_df_copy['assign_data'] == 'yes']\n",
    "available_agents_list = available_agents['agent_id'].values.tolist()\n",
    "number_of_available_agents = len(available_agents_list)\n",
    "# print(available_agents['agent_id'])\n",
    "if number_of_available_agents != 0:\n",
    "\n",
    "\n",
    "#     # Retention & Reactivation Tasks for 1st time slot\n",
    "#     Retention_dfs = [\n",
    "#         ret_metabase('MOROCCO', 18879),\n",
    "#         # ret_metabase('MOROCCO', \"<query_id>\"),\n",
    "#         # ret_metabase('MOROCCO', \"<query_id>\"),\n",
    "#         # ret_metabase('MOROCCO', \"<query_id>\"),\n",
    "#         # ret_metabase('MOROCCO', \"<query_id>\")\n",
    "#     ]\n",
    "\n",
    "#     for df in Retention_dfs:\n",
    "#         df.columns = map(str.lower, df.columns)\n",
    "\n",
    "#     # Marketing Tasks for 2nd time slot\n",
    "#     Marketing_dfs = [\n",
    "#         ret_metabase('MOROCCO', 10368),\n",
    "#         # ret_metabase('MOROCCO', \"<query_id>\"),\n",
    "#         # ret_metabase('MOROCCO', \"<query_id>\"),\n",
    "#         # ret_metabase('MOROCCO', \"<query_id>\"),\n",
    "#         # ret_metabase('MOROCCO', \"<query_id>\")\n",
    "#     ]\n",
    "\n",
    "#     for df in Marketing_dfs:\n",
    "#         df.columns = map(str.lower, df.columns)\n",
    "\n",
    "    # Marketing & E-commerce  Tasks for 3rd time slot \n",
    "    Ecom_dfs = [\n",
    "        ret_metabase('MOROCCO', 10728),\n",
    "        # ret_metabase('MOROCCO', \"<query_id>\"),\n",
    "        # ret_metabase('MOROCCO', \"<query_id>\"),\n",
    "        # ret_metabase('MOROCCO', \"<query_id>\"),\n",
    "        # ret_metabase('MOROCCO', \"<query_id>\")\n",
    "    ]\n",
    "\n",
    "    for df in Ecom_dfs:\n",
    "        df.columns = map(str.lower, df.columns)\n",
    "\n",
    "\n",
    "    # Call the Fintech Runsheet to check for retailers already assignied \n",
    "    # if not data_instance_df.empty:\n",
    "    data_instance = google_sheets('Fintech Runsheet', 'Data', 'get')\n",
    "    progress = google_sheets('Fintech Runsheet', 'Dashboard', 'get')\n",
    "    data_instance_df = data_instance.drop(columns=['Unnamed: 0'])\n",
    "    data_instance_df.columns = data_instance_df.iloc[0]\n",
    "    data_instance_df = data_instance_df[1:].reset_index(drop=True)\n",
    "    data_instance_df = data_instance_df.dropna(subset=['Retailer ID']).reset_index(drop=True)\n",
    "\n",
    "    # Convert to set of already assigned retailer IDs\n",
    "    already_assigned_retailers = set(data_instance_df['Retailer ID'].astype(int).unique())\n",
    "\n",
    "\n",
    "    \n",
    "    # some math\n",
    "    correct_table = progress.iloc[4:9, 7:9]  # Rows 6-9 (index 5-8), Columns G-N (index 6-12)\n",
    "    correct_table.columns = [\"Total Assigned\", \"Total Calls Done\"]\n",
    "\n",
    "    Tasks = correct_table[\"Total Assigned\"].sum()\n",
    "    Done  = correct_table[\"Total Calls Done\"].sum()\n",
    "    print(Tasks)\n",
    "    print(Done)\n",
    "    if Done > 0:\n",
    "        progress_perc= (Done/Tasks) * 100\n",
    "        print(progress_perc)\n",
    "        \n",
    "    data_assigned = pd.DataFrame()\n",
    "        \n",
    "    if hour < 12:\n",
    "        # Retention & Reactivation Tasks for 1st time slot\n",
    "        Retention_dfs = [ret_metabase('MOROCCO', 18879)]\n",
    "        for df in Retention_dfs:\n",
    "            df.columns = map(str.lower, df.columns)\n",
    "            \n",
    "        df_Retention = pd.concat(Retention_dfs, ignore_index=True)\n",
    "        df_Retention = df_Retention[~df_Retention['retailer_id'].isin(already_assigned_retailers)]\n",
    "        retention_assigned = assign_data_equal_projects(df_Retention, available_agents_list)\n",
    "        data_assigned = pd.concat([data_assigned, retention_assigned], ignore_index=True)\n",
    "\n",
    "    if hour >= 13 or progress_perc > 70:\n",
    "       # Marketing Tasks for 2nd time slot\n",
    "        Marketing_dfs = [ret_metabase('MOROCCO', 10368)]\n",
    "        for df in Marketing_dfs:\n",
    "            df.columns = map(str.lower, df.columns)\n",
    "            \n",
    "        if hour < 15:\n",
    "            df_Marketing = pd.concat(Marketing_dfs, ignore_index=True)\n",
    "            df_Marketing = df_Marketing[~df_Marketing['retailer_id'].isin(already_assigned_retailers)]\n",
    "            marketing_assigned = assign_data_equal_projects(df_Marketing, available_agents_list)\n",
    "            data_assigned = pd.concat([data_assigned, marketing_assigned], ignore_index=True)\n",
    "        \n",
    "        if hour >= 15 or progress_perc > 90:\n",
    "            # Marketing & E-commerce  Tasks for 3rd time slot \n",
    "            Ecom_dfs = [ret_metabase('MOROCCO', 10728)]\n",
    "            for df in Ecom_dfs:\n",
    "                df.columns = map(str.lower, df.columns)\n",
    "        \n",
    "            df_Marketing = pd.concat(Marketing_dfs, ignore_index=True)\n",
    "            df_Ecom = pd.concat(Ecom_dfs, ignore_index=True)\n",
    "            df_marketing_ecom = pd.concat([df_Marketing, df_Ecom], ignore_index=True)\n",
    "            df_marketing_ecom = df_marketing_ecom[~df_marketing_ecom['retailer_id'].isin(already_assigned_retailers)]\n",
    "            marketing_ecom_assigned = assign_data_equal_projects(df_marketing_ecom, available_agents_list)\n",
    "            data_assigned = pd.concat([data_assigned, marketing_ecom_assigned], ignore_index=True)\n",
    "\n",
    "        if data_assigned.empty:\n",
    "            print(\"No Data to assign\")\n",
    "            return \n",
    "            \n",
    "\n",
    "    # test = ret_metabase('MOROCCO', 18879)\n",
    "#     test2 = ret_metabase('MOROCCO', 10368)\n",
    "#     test3 =ret_metabase('MOROCCO', 10728)\n",
    "    \n",
    "    # print(\"10410: \\n\", test.columns.tolist())\n",
    "#     print(\"10368: \\n\", test2.columns.tolist())\n",
    "#     print(\"10728: \\n\", test3.columns.tolist())\n",
    "#     print(data_assigned.columns.tolist())\n",
    "\n",
    "    df_filtered = data_assigned.drop_duplicates(subset=['retailer_id'], keep=\"first\")\n",
    "    if not df_filtered.empty:\n",
    "        df_filtered['retailer_id'] = df_filtered['retailer_id'].replace(',', '', regex=True).astype('int')\n",
    "    else:\n",
    "        print(\"df_filtered is empty, skipping replacement\")\n",
    "    df_filtered = df_filtered.reset_index(drop=True)\n",
    "    print(df_filtered)\n",
    "\n",
    "\n",
    "\n",
    "    final_data_to_assign = df_filtered.copy()\n",
    "    final_data_to_assign['added_at'] = now.strftime('%Y-%m-%d %H:%M')\n",
    "    # sheet_df = final_data_to_assign[[\"main_system_id\", \"retailer_mobile_number\",\"retailer_name\",\"description\",\"reward\",\"balance\",\"offer\",\"agent_assigned\",\"added_at\"]]\n",
    "    if final_data_to_assign.columns[0] == 'index':\n",
    "        final_data_to_assign = final_data_to_assign.drop(labels='index', axis=1)\n",
    "    pass\n",
    "    # Sort by 'priority' in ascending order\n",
    "    if \"priority\" in final_data_to_assign.columns:\n",
    "        final_data_to_assign = final_data_to_assign.sort_values(by='priority', ascending=True)\n",
    "    \n",
    "    final_data_to_assign = final_data_to_assign.astype(str)\n",
    "    if \"priority\" in final_data_to_assign.columns:\n",
    "        final_data_to_assign = final_data_to_assign[['retailer_id', 'name', 'mobile', 'sales_order_id', 'created_at', 'project_name', 'description', 'last_call_date', 'balance', 'agent_assigned', 'added_at', 'priority']]\n",
    "\n",
    "    # google_sheets('Fintech Runsheet', 'raw_data', 'append', df=final_data_to_assign)\n",
    "    \n",
    "    print(final_data_to_assign)\n",
    "\n",
    "else:\n",
    "    print(\"no agents available\")\n",
    "\n"
   ]
  },
  {
   "cell_type": "code",
   "execution_count": 41,
   "id": "0f86b604-e73a-48fb-9f71-6a53a6bbf354",
   "metadata": {
    "tags": []
   },
   "outputs": [
    {
     "data": {
      "text/html": [
       "<div>\n",
       "<style scoped>\n",
       "    .dataframe tbody tr th:only-of-type {\n",
       "        vertical-align: middle;\n",
       "    }\n",
       "\n",
       "    .dataframe tbody tr th {\n",
       "        vertical-align: top;\n",
       "    }\n",
       "\n",
       "    .dataframe thead th {\n",
       "        text-align: right;\n",
       "    }\n",
       "</style>\n",
       "<table border=\"1\" class=\"dataframe\">\n",
       "  <thead>\n",
       "    <tr style=\"text-align: right;\">\n",
       "      <th></th>\n",
       "      <th>retailer_id</th>\n",
       "      <th>name</th>\n",
       "      <th>mobile</th>\n",
       "      <th>sales_order_id</th>\n",
       "      <th>created_at</th>\n",
       "      <th>project_name</th>\n",
       "      <th>description</th>\n",
       "      <th>last_call_date</th>\n",
       "      <th>balance</th>\n",
       "      <th>priority</th>\n",
       "    </tr>\n",
       "  </thead>\n",
       "  <tbody>\n",
       "  </tbody>\n",
       "</table>\n",
       "</div>"
      ],
      "text/plain": [
       "Empty DataFrame\n",
       "Columns: [retailer_id, name, mobile, sales_order_id, created_at, project_name, description, last_call_date, balance, priority]\n",
       "Index: []"
      ]
     },
     "execution_count": 41,
     "metadata": {},
     "output_type": "execute_result"
    }
   ],
   "source": [
    "df_Retention"
   ]
  },
  {
   "cell_type": "code",
   "execution_count": 48,
   "id": "4ae7299c-1ec8-4083-8534-ecc57d067cca",
   "metadata": {
    "tags": []
   },
   "outputs": [],
   "source": [
    "def morocco_account_mgmt_dispatching():\n",
    "    import pytz\n",
    "    from datetime import datetime\n",
    "    import pandas as pd\n",
    "    import numpy as np\n",
    "\n",
    "    morocco_tz = pytz.timezone('Africa/Casablanca')\n",
    "    now = datetime.now(morocco_tz)\n",
    "    current_time = now.time()\n",
    "    current_day = now.strftime('%A')\n",
    "    print(current_day)\n",
    "    hour = int(str(now.time())[0:2])\n",
    "\n",
    "    agents_df = google_sheets('MA daily_automatic_assignment', 'attendance_filtered', 'get')\n",
    "    # print(agents_df)\n",
    "    print(hour)\n",
    "\n",
    "    agents_df_copy = agents_df.copy() \n",
    "    agents_df.columns = agents_df.columns.str.strip().str.lower()\n",
    "    agents_df_copy['assignment_start_time'] = agents_df['start_time'].astype(int)\n",
    "    agents_df_copy['assignment_end_time'] = agents_df['end_time'].astype(int)\n",
    "    agents_df_copy['current_day'] = agents_df['day'].astype(str).str.lower() == 'true'\n",
    "\n",
    "\n",
    "    # Fetch data for mapped retailer-agent \n",
    "    mapping_df = google_sheets('MA Telesales Cycle Assignment', 'Sheet1', 'get')\n",
    "\n",
    "\n",
    "    agents_df_copy['assign_data'] =  np.where(\n",
    "        (hour >= agents_df_copy['assignment_start_time'])\n",
    "        & (hour <= agents_df_copy['assignment_end_time'])\n",
    "        & (agents_df['day'] == True),\n",
    "        'yes',\n",
    "        'no' )\n",
    "\n",
    "    # store all available clocked-in agents for today\n",
    "    available_agents = agents_df_copy.loc[agents_df_copy['assign_data'] == 'yes']\n",
    "    available_agents_list = available_agents['agent_id'].values.tolist()\n",
    "    number_of_available_agents = len(available_agents_list)\n",
    "\n",
    "    if number_of_available_agents != 0:\n",
    "\n",
    "        # Call the Fintech Runsheet to check for retailers already assignied \n",
    "        # if not data_instance_df.empty:\n",
    "        data_instance = google_sheets('Fintech Runsheet', 'Data', 'get')\n",
    "        progress      = google_sheets('Fintech Runsheet', 'Dashboard', 'get')\n",
    "        data_instance_df = data_instance.drop(columns=['Unnamed: 0'])\n",
    "        data_instance_df.columns = data_instance_df.iloc[0]\n",
    "        data_instance_df = data_instance_df[1:].reset_index(drop=True)\n",
    "        data_instance_df = data_instance_df.dropna(subset=['Retailer ID']).reset_index(drop=True)\n",
    "\n",
    "        # Convert to set of already assigned retailer IDs\n",
    "        already_assigned_retailers = set(data_instance_df['Retailer ID'].astype(int).unique())\n",
    "        \n",
    "        # simple math\n",
    "        correct_table = progress.iloc[4:9, 7:9]  # Rows 6-9 (index 5-8), Columns G-N (index 6-12)\n",
    "        correct_table.columns = [\"Total Assigned\", \"Total Calls Done\"]\n",
    "\n",
    "        Tasks = correct_table[\"Total Assigned\"].sum()\n",
    "        Done  = correct_table[\"Total Calls Done\"].sum()\n",
    "        print(f\"Total Tasks: {Tasks}\")\n",
    "        print(f\"Tasks Done: {Done}\")\n",
    "        if Done > 0:\n",
    "            progress_perc = round((Done / Tasks) * 100, 1)\n",
    "            print(f\"percentage of taks done {progress_perc}%\")\n",
    "\n",
    "        data_assigned = pd.DataFrame()\n",
    "        \n",
    "        if hour < 12:\n",
    "            # Retention & Reactivation Tasks for 1st time slot\n",
    "            Retention_dfs = [ret_metabase('MOROCCO', 18879)]\n",
    "            for df in Retention_dfs:\n",
    "                df.columns = map(str.lower, df.columns)\n",
    "                \n",
    "            df_Retention = pd.concat(Retention_dfs, ignore_index=True)\n",
    "            df_Retention = df_Retention[~df_Retention['retailer_id'].isin(already_assigned_retailers)]\n",
    "            retention_assigned = assign_data_equal_projects(df_Retention, available_agents_list)\n",
    "            data_assigned = pd.concat([data_assigned, retention_assigned], ignore_index=True)\n",
    "\n",
    "            if not retention_assigned.empty:\n",
    "                print(f\"{len(retention_assigned)} data available in Retention\")\n",
    "\n",
    "        if hour >= 13 or progress_perc > 70:\n",
    "        # Marketing Tasks for 2nd time slot\n",
    "            Marketing_dfs = [ret_metabase('MOROCCO', 10368)]\n",
    "            for df in Marketing_dfs:\n",
    "                df.columns = map(str.lower, df.columns)\n",
    "                \n",
    "            if hour < 15 and progress_perc < 90:\n",
    "                df_Marketing = pd.concat(Marketing_dfs, ignore_index=True)\n",
    "                df_Marketing = df_Marketing[~df_Marketing['retailer_id'].isin(already_assigned_retailers)]\n",
    "                marketing_assigned = assign_data_equal_projects(df_Marketing, available_agents_list)\n",
    "                data_assigned = pd.concat([data_assigned, marketing_assigned], ignore_index=True)\n",
    "                if not marketing_assigned.empty:\n",
    "                    print(f\"{len(marketing_assigned)} data available in Marketing\")\n",
    "            \n",
    "            if hour >= 15 or progress_perc >= 90:\n",
    "                # Marketing & E-commerce  Tasks for 3rd time slot \n",
    "                Ecom_dfs = [ret_metabase('MOROCCO', 10728)]\n",
    "                for df in Ecom_dfs:\n",
    "                    df.columns = map(str.lower, df.columns)\n",
    "            \n",
    "                df_Marketing = pd.concat(Marketing_dfs, ignore_index=True)\n",
    "                df_Ecom = pd.concat(Ecom_dfs, ignore_index=True)\n",
    "                df_marketing_ecom = pd.concat([df_Marketing, df_Ecom], ignore_index=True)\n",
    "                df_marketing_ecom = df_marketing_ecom[~df_marketing_ecom['retailer_id'].isin(already_assigned_retailers)]\n",
    "                marketing_ecom_assigned = assign_data_equal_projects(df_marketing_ecom, available_agents_list)\n",
    "                data_assigned = pd.concat([data_assigned, marketing_ecom_assigned], ignore_index=True)\n",
    "                if not marketing_ecom_assigned.empty:\n",
    "                    print(f\"{len(marketing_ecom_assigned)} data available in Marketing and E-com\")\n",
    "\n",
    "            if data_assigned.empty:\n",
    "                print(\"No Data to assign\")\n",
    "                return        \n",
    "\n",
    "        # Concatenate the dataframes along the rows (union all)\n",
    "        # df_unfiltered = pd.concat([data_asigned,recharge_data_assigned], ignore_index=True)\n",
    "        df_filtered = data_assigned.drop_duplicates(subset=['retailer_id'], keep=\"first\")\n",
    "        if not df_filtered.empty:\n",
    "            df_filtered['retailer_id'] = df_filtered['retailer_id'].replace(',', '', regex=True).astype('int')\n",
    "        else:\n",
    "            print(\"df_filtered is empty, skipping replacement\")\n",
    "        df_filtered = df_filtered.reset_index(drop=True)\n",
    "        # print(df_filtered)\n",
    "\n",
    "\n",
    "        #Dispatching data to agents' sheet \n",
    "        final_data_to_assign = df_filtered.copy()\n",
    "        final_data_to_assign['added_at'] = now.strftime('%Y-%m-%d %H:%M')\n",
    "        if final_data_to_assign.columns[0] == 'index':\n",
    "            final_data_to_assign = final_data_to_assign.drop(labels='index', axis=1)\n",
    "        pass\n",
    "        \n",
    "        # Sort by 'priority' in ascending order\n",
    "        if \"priority\" in final_data_to_assign.columns:\n",
    "            final_data_to_assign = final_data_to_assign.sort_values(by='priority', ascending=True)\n",
    "\n",
    "        final_data_to_assign = final_data_to_assign.astype(str)\n",
    "\n",
    "        if \"priority\" in final_data_to_assign.columns:\n",
    "            final_data_to_assign = final_data_to_assign[['retailer_id', 'name', 'mobile', 'sales_order_id', 'created_at', 'project_name', 'description', 'last_call_date', 'balance', 'agent_assigned', 'added_at', 'priority']]\n",
    "        print(final_data_to_assign)\n",
    "       \n",
    "        # google_sheets('Fintech Runsheet', 'raw_data', 'append', df=final_data_to_assign)\n",
    "\n",
    "#         file_name = f'''{now.strftime(\"%Y\")}/{now.strftime(\"%m\")}/{now.strftime(\"%d\")}/account_mgmt_dispatched_data'''\n",
    "\n",
    "#         try:\n",
    "#             hist_data_from_s3 = pd.read_excel(f'''s3://snowflake-maxabdwh-morocco/dwh-initial-load/fintech/account_mgmt_dispatching/{file_name}.xlsx''')\n",
    "#             hist_data_from_s3 = pd.concat([hist_data_from_s3, final_data_to_assign], ignore_index=True)\n",
    "#         except Exception as e:\n",
    "#             print(e)\n",
    "#             hist_data_from_s3 = final_data_to_assign.copy()\n",
    "\n",
    "#         hist_data_from_s3.to_excel(\n",
    "#             f'''s3://snowflake-maxabdwh-morocco/dwh-initial-load/fintech/account_mgmt_dispatching/{file_name}.xlsx''',\n",
    "#             index=False)\n",
    "    else:\n",
    "        print(\"no agents available\")"
   ]
  },
  {
   "cell_type": "code",
   "execution_count": 50,
   "id": "6e2c06c3-cb82-4672-9ad4-2703a600262e",
   "metadata": {
    "tags": []
   },
   "outputs": [
    {
     "name": "stdout",
     "output_type": "stream",
     "text": [
      "Monday\n",
      "/home/ec2-user/service_account_key.json\n",
      "14\n",
      "/home/ec2-user/service_account_key.json\n",
      "/home/ec2-user/service_account_key.json\n",
      "/home/ec2-user/service_account_key.json\n",
      "Total Tasks: 550\n",
      "Tasks Done: 375\n",
      "percentage of taks done 68.2%\n",
      "/home/ec2-user/service_account_key.json\n",
      "1 data available in Marketing\n",
      "  retailer_id   name     mobile sales_order_id  created_at  \\\n",
      "0       74609  سعيد   784166355                 2025-06-02   \n",
      "\n",
      "            project_name                                        description  \\\n",
      "0  marketing_acquisition  Digital Acquisition + District(si existe): 31....   \n",
      "\n",
      "  last_call_date balance agent_assigned          added_at priority  \n",
      "0            nan       0          128.0  2025-06-02 14:21        2  \n"
     ]
    }
   ],
   "source": [
    "morocco_account_mgmt_dispatching()"
   ]
  },
  {
   "cell_type": "code",
   "execution_count": 4,
   "id": "608a8683-4124-484e-910c-11e7efd1e112",
   "metadata": {
    "tags": []
   },
   "outputs": [],
   "source": [
    "from common_functions import google_sheets"
   ]
  },
  {
   "cell_type": "code",
   "execution_count": 5,
   "id": "907a10bd-96cc-4a9c-aac4-875a6fca6660",
   "metadata": {
    "tags": []
   },
   "outputs": [
    {
     "name": "stderr",
     "output_type": "stream",
     "text": [
      "/home/ec2-user/anaconda3/envs/python3/lib/python3.10/site-packages/pandas/core/computation/expressions.py:21: UserWarning: Pandas requires version '2.8.4' or newer of 'numexpr' (version '2.7.3' currently installed).\n",
      "  from pandas.core.computation.check import NUMEXPR_INSTALLED\n"
     ]
    },
    {
     "name": "stdout",
     "output_type": "stream",
     "text": [
      "/home/ec2-user/service_account_key.json\n"
     ]
    }
   ],
   "source": [
    "progress      = google_sheets('Fintech Runsheet', 'Dashboard', 'get')"
   ]
  },
  {
   "cell_type": "code",
   "execution_count": 7,
   "id": "42658955-7039-4703-ab53-5dc78e4ef44a",
   "metadata": {
    "tags": []
   },
   "outputs": [
    {
     "data": {
      "text/html": [
       "<div>\n",
       "<style scoped>\n",
       "    .dataframe tbody tr th:only-of-type {\n",
       "        vertical-align: middle;\n",
       "    }\n",
       "\n",
       "    .dataframe tbody tr th {\n",
       "        vertical-align: top;\n",
       "    }\n",
       "\n",
       "    .dataframe thead th {\n",
       "        text-align: right;\n",
       "    }\n",
       "</style>\n",
       "<table border=\"1\" class=\"dataframe\">\n",
       "  <thead>\n",
       "    <tr style=\"text-align: right;\">\n",
       "      <th></th>\n",
       "      <th>Total Assigned</th>\n",
       "      <th>Total Calls Done</th>\n",
       "    </tr>\n",
       "  </thead>\n",
       "  <tbody>\n",
       "    <tr>\n",
       "      <th>6</th>\n",
       "      <td>98</td>\n",
       "      <td>91</td>\n",
       "    </tr>\n",
       "    <tr>\n",
       "      <th>7</th>\n",
       "      <td>102</td>\n",
       "      <td>94</td>\n",
       "    </tr>\n",
       "    <tr>\n",
       "      <th>8</th>\n",
       "      <td>98</td>\n",
       "      <td>91</td>\n",
       "    </tr>\n",
       "    <tr>\n",
       "      <th>9</th>\n",
       "      <td>98</td>\n",
       "      <td>61</td>\n",
       "    </tr>\n",
       "    <tr>\n",
       "      <th>10</th>\n",
       "      <td>98</td>\n",
       "      <td>24</td>\n",
       "    </tr>\n",
       "  </tbody>\n",
       "</table>\n",
       "</div>"
      ],
      "text/plain": [
       "   Total Assigned Total Calls Done\n",
       "6              98               91\n",
       "7             102               94\n",
       "8              98               91\n",
       "9              98               61\n",
       "10             98               24"
      ]
     },
     "execution_count": 7,
     "metadata": {},
     "output_type": "execute_result"
    }
   ],
   "source": [
    "correct_table = progress.iloc[4:9, 7:9]  # Rows 6-9 (index 5-8), Columns G-N (index 6-12)\n",
    "correct_table.columns = [\"Total Assigned\", \"Total Calls Done\"]\n",
    "correct_table"
   ]
  },
  {
   "cell_type": "code",
   "execution_count": 8,
   "id": "b3cfd55f-1b06-46d6-9361-d738f57e1dc0",
   "metadata": {
    "tags": []
   },
   "outputs": [
    {
     "data": {
      "text/html": [
       "<div>\n",
       "<style scoped>\n",
       "    .dataframe tbody tr th:only-of-type {\n",
       "        vertical-align: middle;\n",
       "    }\n",
       "\n",
       "    .dataframe tbody tr th {\n",
       "        vertical-align: top;\n",
       "    }\n",
       "\n",
       "    .dataframe thead th {\n",
       "        text-align: right;\n",
       "    }\n",
       "</style>\n",
       "<table border=\"1\" class=\"dataframe\">\n",
       "  <thead>\n",
       "    <tr style=\"text-align: right;\">\n",
       "      <th></th>\n",
       "      <th>Total Assigned</th>\n",
       "      <th>Total Calls Done</th>\n",
       "    </tr>\n",
       "  </thead>\n",
       "  <tbody>\n",
       "    <tr>\n",
       "      <th>7</th>\n",
       "      <td>102</td>\n",
       "      <td>94</td>\n",
       "    </tr>\n",
       "    <tr>\n",
       "      <th>6</th>\n",
       "      <td>98</td>\n",
       "      <td>91</td>\n",
       "    </tr>\n",
       "    <tr>\n",
       "      <th>8</th>\n",
       "      <td>98</td>\n",
       "      <td>91</td>\n",
       "    </tr>\n",
       "  </tbody>\n",
       "</table>\n",
       "</div>"
      ],
      "text/plain": [
       "  Total Assigned Total Calls Done\n",
       "7            102               94\n",
       "6             98               91\n",
       "8             98               91"
      ]
     },
     "execution_count": 8,
     "metadata": {},
     "output_type": "execute_result"
    }
   ],
   "source": [
    "# Sort by \"Total Calls Done\" in descending order and get the top 3\n",
    "top_3_done = correct_table.sort_values(by=\"Total Calls Done\", ascending=False).head(3)\n",
    "top_3_done\n"
   ]
  },
  {
   "cell_type": "code",
   "execution_count": 10,
   "id": "5aa64a27-9697-457a-a36c-035c21065b4f",
   "metadata": {
    "tags": []
   },
   "outputs": [
    {
     "name": "stdout",
     "output_type": "stream",
     "text": [
      "Total Tasks: 298\n",
      "Tasks Done: 276\n"
     ]
    }
   ],
   "source": [
    "Tasks = top_3_done[\"Total Assigned\"].sum()\n",
    "Done  = top_3_done[\"Total Calls Done\"].sum()\n",
    "print(f\"Total Tasks: {Tasks}\")\n",
    "print(f\"Tasks Done: {Done}\")"
   ]
  },
  {
   "cell_type": "code",
   "execution_count": 11,
   "id": "9575b4a9-e756-4cf0-8fc3-59b3b9cacd49",
   "metadata": {
    "tags": []
   },
   "outputs": [
    {
     "name": "stdout",
     "output_type": "stream",
     "text": [
      "percentage of taks done 92.6%\n"
     ]
    }
   ],
   "source": [
    "        progress_perc = 0\n",
    "        if Done > 0:\n",
    "            progress_perc = round((Done / Tasks) * 100, 1)\n",
    "            print(f\"percentage of taks done {progress_perc}%\")"
   ]
  }
 ],
 "metadata": {
  "kernelspec": {
   "display_name": "conda_python3",
   "language": "python",
   "name": "conda_python3"
  },
  "language_info": {
   "codemirror_mode": {
    "name": "ipython",
    "version": 3
   },
   "file_extension": ".py",
   "mimetype": "text/x-python",
   "name": "python",
   "nbconvert_exporter": "python",
   "pygments_lexer": "ipython3",
   "version": "3.10.18"
  }
 },
 "nbformat": 4,
 "nbformat_minor": 5
}
