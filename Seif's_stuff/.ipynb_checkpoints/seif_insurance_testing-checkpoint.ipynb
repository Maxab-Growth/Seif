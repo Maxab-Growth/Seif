{
 "cells": [
  {
   "cell_type": "code",
   "execution_count": 2,
   "id": "46ee75bc-39f7-42ac-9eb3-9ad74f7a3cf4",
   "metadata": {
    "tags": []
   },
   "outputs": [],
   "source": [
    "def assign_agents(new_data):\n",
    "    Agents = google_sheets('Marketing test', 'Sheet2', 'get')\n",
    "    av_agents = Agents[Agents['Available'] == 'yes'].copy()\n",
    "    av_agents = av_agents[[\"Agent_assigned\"]]\n",
    "    agent_names = av_agents['Agent_assigned'].values\n",
    "    num_retailers = len(new_data)\n",
    "    repeated_agents = np.tile(agent_names, int(np.ceil(num_retailers / len(agent_names))))[:num_retailers]\n",
    "    np.random.shuffle(repeated_agents)\n",
    "    return repeated_agents"
   ]
  },
  {
   "cell_type": "code",
   "execution_count": 3,
   "id": "a92ccb9a-eca1-4d8a-9b69-09df573706ad",
   "metadata": {
    "tags": []
   },
   "outputs": [
    {
     "name": "stdout",
     "output_type": "stream",
     "text": [
      "/home/ec2-user/service_account_key.json\n",
      "/home/ec2-user/service_account_key.json\n"
     ]
    },
    {
     "name": "stderr",
     "output_type": "stream",
     "text": [
      "/tmp/ipykernel_680/2769777321.py:25: SettingWithCopyWarning: \n",
      "A value is trying to be set on a copy of a slice from a DataFrame.\n",
      "Try using .loc[row_indexer,col_indexer] = value instead\n",
      "\n",
      "See the caveats in the documentation: https://pandas.pydata.org/pandas-docs/stable/user_guide/indexing.html#returning-a-view-versus-a-copy\n",
      "  new_data[['Description', 'Project Name']] = ['Insurance POS العميل طلب ماكينه تامين', 'Insurance POS']\n",
      "/tmp/ipykernel_680/2769777321.py:27: SettingWithCopyWarning: \n",
      "A value is trying to be set on a copy of a slice from a DataFrame.\n",
      "Try using .loc[row_indexer,col_indexer] = value instead\n",
      "\n",
      "See the caveats in the documentation: https://pandas.pydata.org/pandas-docs/stable/user_guide/indexing.html#returning-a-view-versus-a-copy\n",
      "  new_data['Mobile Number'] = new_data['Mobile Number'].astype(str).apply(lambda x: '0' + x if not x.startswith('0') else x)\n",
      "/tmp/ipykernel_680/2769777321.py:29: SettingWithCopyWarning: \n",
      "A value is trying to be set on a copy of a slice from a DataFrame.\n",
      "Try using .loc[row_indexer,col_indexer] = value instead\n",
      "\n",
      "See the caveats in the documentation: https://pandas.pydata.org/pandas-docs/stable/user_guide/indexing.html#returning-a-view-versus-a-copy\n",
      "  new_data[['Comment', 'Name']] = ''\n"
     ]
    },
    {
     "name": "stdout",
     "output_type": "stream",
     "text": [
      "/home/ec2-user/service_account_key.json\n",
      "added 6 new rows to the 'Insurance data' Sheet\n"
     ]
    },
    {
     "name": "stderr",
     "output_type": "stream",
     "text": [
      "/tmp/ipykernel_680/2769777321.py:31: SettingWithCopyWarning: \n",
      "A value is trying to be set on a copy of a slice from a DataFrame.\n",
      "Try using .loc[row_indexer,col_indexer] = value instead\n",
      "\n",
      "See the caveats in the documentation: https://pandas.pydata.org/pandas-docs/stable/user_guide/indexing.html#returning-a-view-versus-a-copy\n",
      "  new_data['Name'] = agents\n"
     ]
    }
   ],
   "source": [
    "from common_functions import google_sheets\n",
    "import pytz\n",
    "from datetime import datetime\n",
    "import pandas as pd\n",
    "import numpy as np\n",
    "def Add_marketing_leads()\n",
    "    pos_sheet = google_sheets('POS Leads', 'Master data', 'get')\n",
    "    pos_sheet_2 = google_sheets('POS Leads', 'Insurance data', 'get')\n",
    "\n",
    "\n",
    "    pos_sheet= pos_sheet[~pos_sheet['Mobile Number'].duplicated(keep=False)]\n",
    "\n",
    "    filtered_sheet = pos_sheet[\n",
    "        (~pos_sheet['Comment2'].str.lower().eq('done')) &\n",
    "        (~pos_sheet['Comment'].str.contains('done', case=False, na=False)) &\n",
    "        ((pos_sheet['المحافظة'].isin(['القاهره', 'الجيزة', 'giza'])) | (pos_sheet['المحافظة'].isna()))\n",
    "    ]\n",
    "\n",
    "\n",
    "    filtered_sheet = filtered_sheet.drop(['Call Status', 'Comment2', 'market type', 'Unnamed: 11', 'Unnamed: 12'], axis=1)\n",
    "\n",
    "    numbers_called = pos_sheet_2[\"Mobile Number\"].astype(str).str.extract(r'(\\d+)')[0].apply(lambda x: x.zfill(11))\n",
    "\n",
    "    new_data = filtered_sheet[~filtered_sheet['Mobile Number'].isin(numbers_called)]\n",
    "    new_data[['Description', 'Project Name']] = ['Insurance POS العميل طلب ماكينه تامين', 'Insurance POS']\n",
    "\n",
    "    new_data['Mobile Number'] = new_data['Mobile Number'].astype(str).apply(lambda x: '0' + x if not x.startswith('0') else x)\n",
    "\n",
    "    new_data[['Comment', 'Name']] = ''\n",
    "    agents = assign_agents(new_data)\n",
    "    new_data['Name'] = agents\n",
    "    # google_sheets('POS Leads', 'Insurance data', 'append', df = new_data)\n",
    "\n",
    "    print(f\"added {len(new_data)} new rows to the 'Insurance data' Sheet\")\n",
    "    \n",
    "    import re\n",
    "\n",
    "    # Remove any non-digit characters\n",
    "    new_data['Mobile Number'] = new_data['Mobile Number'].astype(str).apply(lambda x: re.sub(r'\\D', '', x))\n",
    "    \n",
    "    new_data_for_main = new_data.rename(columns={\n",
    "    'Name': 'agent_assigned',\n",
    "    'full_name': 'retailer_name',\n",
    "    'Project Name': 'project_name', \n",
    "    'Description' : 'description'\n",
    "    })[[\"agent_assigned\", \"retailer_name\", \"Mobile Number\", \"project_name\", 'description']]\n",
    "    \n",
    "    google_sheets(\"Agents - Retailers\", \"Task_based\", \"append\", df=new_data_for_main)\n"
   ]
  },
  {
   "cell_type": "code",
   "execution_count": 11,
   "id": "520c37f5-4a1c-4da6-95bb-f073664436ee",
   "metadata": {
    "tags": []
   },
   "outputs": [
    {
     "name": "stdout",
     "output_type": "stream",
     "text": [
      "['Comment', 'Name', 'Mobile Number', 'full_name', 'المحافظة', 'Description', 'Project Name', 'created_time']\n"
     ]
    },
    {
     "name": "stderr",
     "output_type": "stream",
     "text": [
      "/tmp/ipykernel_680/2779181848.py:5: SettingWithCopyWarning: \n",
      "A value is trying to be set on a copy of a slice from a DataFrame.\n",
      "Try using .loc[row_indexer,col_indexer] = value instead\n",
      "\n",
      "See the caveats in the documentation: https://pandas.pydata.org/pandas-docs/stable/user_guide/indexing.html#returning-a-view-versus-a-copy\n",
      "  new_data['Mobile Number'] = new_data['Mobile Number'].astype(str).apply(lambda x: re.sub(r'\\D', '', x))\n"
     ]
    }
   ],
   "source": [
    "print(new_data.columns.tolist())\n",
    "import re\n",
    "\n",
    "# Remove any non-digit characters\n",
    "new_data['Mobile Number'] = new_data['Mobile Number'].astype(str).apply(lambda x: re.sub(r'\\D', '', x))\n"
   ]
  },
  {
   "cell_type": "code",
   "execution_count": 19,
   "id": "a1ceed8c-9146-4345-9c09-7062ecc74f05",
   "metadata": {
    "tags": []
   },
   "outputs": [],
   "source": [
    "new_data_for_main = new_data.rename(columns={\n",
    "    'Name': 'agent_assigned',\n",
    "    'full_name': 'retailer_name',\n",
    "    'Project Name': 'project_name', \n",
    "    'Description' : 'description'\n",
    "})[[\"agent_assigned\", \"retailer_name\", \"Mobile Number\", \"project_name\", 'description']]\n"
   ]
  },
  {
   "cell_type": "code",
   "execution_count": 20,
   "id": "7dcb3901-e447-4660-aad6-1cdddafb4e6f",
   "metadata": {
    "tags": []
   },
   "outputs": [
    {
     "name": "stdout",
     "output_type": "stream",
     "text": [
      "['agent_assigned', 'retailer_name', 'Mobile Number', 'project_name', 'description']\n"
     ]
    }
   ],
   "source": [
    "print(new_data_for_main.columns.tolist())\n"
   ]
  },
  {
   "cell_type": "code",
   "execution_count": 21,
   "id": "bc6fe33e-9880-418d-a757-def7ee6bb97d",
   "metadata": {
    "tags": []
   },
   "outputs": [
    {
     "data": {
      "text/html": [
       "<div>\n",
       "<style scoped>\n",
       "    .dataframe tbody tr th:only-of-type {\n",
       "        vertical-align: middle;\n",
       "    }\n",
       "\n",
       "    .dataframe tbody tr th {\n",
       "        vertical-align: top;\n",
       "    }\n",
       "\n",
       "    .dataframe thead th {\n",
       "        text-align: right;\n",
       "    }\n",
       "</style>\n",
       "<table border=\"1\" class=\"dataframe\">\n",
       "  <thead>\n",
       "    <tr style=\"text-align: right;\">\n",
       "      <th></th>\n",
       "      <th>agent_assigned</th>\n",
       "      <th>retailer_name</th>\n",
       "      <th>Mobile Number</th>\n",
       "      <th>project_name</th>\n",
       "      <th>description</th>\n",
       "    </tr>\n",
       "  </thead>\n",
       "  <tbody>\n",
       "    <tr>\n",
       "      <th>1769</th>\n",
       "      <td>Ebthal Saber</td>\n",
       "      <td>زيد المصرى</td>\n",
       "      <td>00</td>\n",
       "      <td>Insurance POS</td>\n",
       "      <td>Insurance POS العميل طلب ماكينه تامين</td>\n",
       "    </tr>\n",
       "    <tr>\n",
       "      <th>3297</th>\n",
       "      <td>Abdelrahman Merghany</td>\n",
       "      <td>الفصيح راضى ابو مجدى</td>\n",
       "      <td>01001013909044</td>\n",
       "      <td>Insurance POS</td>\n",
       "      <td>Insurance POS العميل طلب ماكينه تامين</td>\n",
       "    </tr>\n",
       "    <tr>\n",
       "      <th>3312</th>\n",
       "      <td>Esraa Mohamed</td>\n",
       "      <td>احمد احمد كمال الدين ا ابو كمال اللبان</td>\n",
       "      <td>01001223499647</td>\n",
       "      <td>Insurance POS</td>\n",
       "      <td>Insurance POS العميل طلب ماكينه تامين</td>\n",
       "    </tr>\n",
       "    <tr>\n",
       "      <th>3388</th>\n",
       "      <td>Somaya Alrab</td>\n",
       "      <td>Kamal abdelsadek kamal</td>\n",
       "      <td>01001033876179</td>\n",
       "      <td>Insurance POS</td>\n",
       "      <td>Insurance POS العميل طلب ماكينه تامين</td>\n",
       "    </tr>\n",
       "    <tr>\n",
       "      <th>3886</th>\n",
       "      <td>Marina Riyad</td>\n",
       "      <td>Amr Elshater</td>\n",
       "      <td>01066184640</td>\n",
       "      <td>Insurance POS</td>\n",
       "      <td>Insurance POS العميل طلب ماكينه تامين</td>\n",
       "    </tr>\n",
       "    <tr>\n",
       "      <th>4178</th>\n",
       "      <td>Israa Abdelhamid</td>\n",
       "      <td>Mahmoud Bebo</td>\n",
       "      <td>001146040737</td>\n",
       "      <td>Insurance POS</td>\n",
       "      <td>Insurance POS العميل طلب ماكينه تامين</td>\n",
       "    </tr>\n",
       "  </tbody>\n",
       "</table>\n",
       "</div>"
      ],
      "text/plain": [
       "            agent_assigned                           retailer_name  \\\n",
       "1769          Ebthal Saber                              زيد المصرى   \n",
       "3297  Abdelrahman Merghany                    الفصيح راضى ابو مجدى   \n",
       "3312         Esraa Mohamed  احمد احمد كمال الدين ا ابو كمال اللبان   \n",
       "3388          Somaya Alrab                  Kamal abdelsadek kamal   \n",
       "3886          Marina Riyad                            Amr Elshater   \n",
       "4178      Israa Abdelhamid                            Mahmoud Bebo   \n",
       "\n",
       "       Mobile Number   project_name                            description  \n",
       "1769              00  Insurance POS  Insurance POS العميل طلب ماكينه تامين  \n",
       "3297  01001013909044  Insurance POS  Insurance POS العميل طلب ماكينه تامين  \n",
       "3312  01001223499647  Insurance POS  Insurance POS العميل طلب ماكينه تامين  \n",
       "3388  01001033876179  Insurance POS  Insurance POS العميل طلب ماكينه تامين  \n",
       "3886     01066184640  Insurance POS  Insurance POS العميل طلب ماكينه تامين  \n",
       "4178    001146040737  Insurance POS  Insurance POS العميل طلب ماكينه تامين  "
      ]
     },
     "execution_count": 21,
     "metadata": {},
     "output_type": "execute_result"
    }
   ],
   "source": [
    "new_data_for_main"
   ]
  },
  {
   "cell_type": "code",
   "execution_count": 22,
   "id": "6f6d42f9-6bb0-43bf-b447-231f606fe0d0",
   "metadata": {
    "tags": []
   },
   "outputs": [
    {
     "name": "stdout",
     "output_type": "stream",
     "text": [
      "/home/ec2-user/service_account_key.json\n"
     ]
    },
    {
     "data": {
      "text/plain": [
       "'Data is appended to the sheet successfully'"
      ]
     },
     "execution_count": 22,
     "metadata": {},
     "output_type": "execute_result"
    }
   ],
   "source": [
    "google_sheets(\"Agents - Retailers\", \"Task_based\", \"append\", df=new_data_for_main)"
   ]
  },
  {
   "cell_type": "code",
   "execution_count": 33,
   "id": "6cb6575e-ba56-4cc5-8921-7ea3e2c6f015",
   "metadata": {
    "tags": []
   },
   "outputs": [
    {
     "name": "stdout",
     "output_type": "stream",
     "text": [
      "/home/ec2-user/service_account_key.json\n",
      "395\n"
     ]
    }
   ],
   "source": [
    "pos_sheet = google_sheets('POS Leads', 'Master data', 'get')\n",
    "\n",
    "dupes = pos_sheet['Mobile Number'].value_counts()\n",
    "dupes = dupes[dupes > 1]\n",
    "print(len(dupes))"
   ]
  },
  {
   "cell_type": "code",
   "execution_count": 35,
   "id": "182ab7b4-c4a6-4461-af6c-a5f83e30838b",
   "metadata": {
    "tags": []
   },
   "outputs": [
    {
     "name": "stdout",
     "output_type": "stream",
     "text": [
      "0\n"
     ]
    }
   ],
   "source": [
    "pos_sheet= pos_sheet[~pos_sheet['Mobile Number'].duplicated(keep=False)]\n",
    "\n",
    "dupes = pos_sheet['Mobile Number'].value_counts()\n",
    "dupes = dupes[dupes > 1]\n",
    "print(len(dupes))"
   ]
  },
  {
   "cell_type": "code",
   "execution_count": 18,
   "id": "84043ead-4aa5-43e4-86c0-6ffcb6651175",
   "metadata": {
    "tags": []
   },
   "outputs": [],
   "source": [
    "pos_sheet_2['Mobile Number'] = pos_sheet_2['Mobile Number'].astype(str).str.replace('.0', '', regex=False)\n"
   ]
  },
  {
   "cell_type": "code",
   "execution_count": 23,
   "id": "17252dfb-4a2c-4922-9c8c-2325df48778b",
   "metadata": {
    "tags": []
   },
   "outputs": [
    {
     "name": "stdout",
     "output_type": "stream",
     "text": [
      "Number of duplicated rows: 1\n"
     ]
    }
   ],
   "source": [
    "duplicate_count = pos_sheet_2.duplicated().sum()\n",
    "print(f\"Number of duplicated rows: {duplicate_count}\")\n"
   ]
  },
  {
   "cell_type": "code",
   "execution_count": 20,
   "id": "81b62fb0-831c-4e91-b296-f552b82ce19b",
   "metadata": {
    "tags": []
   },
   "outputs": [],
   "source": [
    "# Drop all rows where 'Mobile Number' is duplicated (keep only unique ones)\n",
    "pos_sheet_2 = pos_sheet_2[~pos_sheet_2['Mobile Number'].duplicated(keep=False)]\n"
   ]
  },
  {
   "cell_type": "code",
   "execution_count": 12,
   "id": "d2901009-ad92-45b4-995a-c4712a7b0080",
   "metadata": {
    "tags": []
   },
   "outputs": [
    {
     "name": "stdout",
     "output_type": "stream",
     "text": [
      "Series([], Name: Mobile Number, dtype: object)\n"
     ]
    }
   ],
   "source": [
    "dupe_numbers = pos_sheet_2['Mobile Number'][pos_sheet_2['Mobile Number'].duplicated()]\n",
    "print(dupe_numbers)\n"
   ]
  },
  {
   "cell_type": "code",
   "execution_count": 41,
   "id": "29916d34-4701-4681-bb5d-e9fc90e7be21",
   "metadata": {
    "tags": []
   },
   "outputs": [
    {
     "name": "stdout",
     "output_type": "stream",
     "text": [
      "/home/ec2-user/service_account_key.json\n",
      "2\n"
     ]
    }
   ],
   "source": [
    "pos_sheet_2 = google_sheets('POS Leads', 'Insurance data', 'get')\n",
    "dupes = pos_sheet_2['Mobile Number'].value_counts()\n",
    "dupes = dupes[dupes > 1]\n",
    "print(len(dupes))\n"
   ]
  }
 ],
 "metadata": {
  "kernelspec": {
   "display_name": "conda_python3",
   "language": "python",
   "name": "conda_python3"
  },
  "language_info": {
   "codemirror_mode": {
    "name": "ipython",
    "version": 3
   },
   "file_extension": ".py",
   "mimetype": "text/x-python",
   "name": "python",
   "nbconvert_exporter": "python",
   "pygments_lexer": "ipython3",
   "version": "3.10.18"
  }
 },
 "nbformat": 4,
 "nbformat_minor": 5
}
