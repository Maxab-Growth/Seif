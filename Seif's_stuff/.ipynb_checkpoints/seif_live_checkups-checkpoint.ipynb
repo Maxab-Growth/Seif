{
 "cells": [
  {
   "cell_type": "code",
   "execution_count": 6,
   "id": "e1b580a3-ccc3-4d66-b140-f731127a70cc",
   "metadata": {
    "tags": []
   },
   "outputs": [
    {
     "name": "stdout",
     "output_type": "stream",
     "text": [
      "/home/ec2-user/service_account_key.json\n",
      "/home/ec2-user/service_account_key.json\n",
      "/home/ec2-user/service_account_key.json\n",
      "/home/ec2-user/service_account_key.json\n"
     ]
    },
    {
     "data": {
      "text/plain": [
       "'data is added to the sheet successfully'"
      ]
     },
     "execution_count": 6,
     "metadata": {},
     "output_type": "execute_result"
    }
   ],
   "source": [
    "from common_functions import ret_metabase, google_sheets\n",
    "import pandas as pd\n",
    "\n",
    "\n",
    "cash_ins = ret_metabase(\"MOROCCO\", 18908)\n",
    "\n",
    "progress = google_sheets('Fintech Runsheet', 'Data', 'get')\n",
    "progress_df = progress.iloc[1:, 2:18]  # Rows 6-9 (index 5-8), Columns G-N (index 6-12)\n",
    "\n",
    "new_columns = [\n",
    "    'Statut', 'Added at', 'Agent_assigned', 'Retailer ID', 'Name', 'Mobile',\n",
    "    'Sales Order ID', 'Created at', 'Project Name', 'Description',\n",
    "    'Last Recharge Date', 'Preferred Collection Method', 'Solde',\n",
    "    'agent_id', 'Last Call Date', 'Priority'\n",
    "]\n",
    "\n",
    "# Make sure the number of new column names matches the number of columns in your DataFrame\n",
    "progress_df.columns = new_columns\n",
    "\n",
    "reachable_agents = progress_df[progress_df[\"Statut\"] == \"Reachable\"]\n",
    "reachable_agents = reachable_agents[[\"Agent_assigned\", \"Retailer ID\"]]\n",
    "\n",
    "# Merge reachable_agents with cash_ins\n",
    "merged = reachable_agents.merge(\n",
    "    cash_ins,\n",
    "    left_on='Retailer ID',\n",
    "    right_on='MAIN_SYSTEM_ID',\n",
    "    how='left'\n",
    ")\n",
    "\n",
    "# Group by Agent_assigned and aggregate\n",
    "result = merged.groupby('Agent_assigned').agg(\n",
    "    total_retailers=('Retailer ID', 'nunique'),\n",
    "    Orders=('MAIN_SYSTEM_ID', lambda x: x.notna().sum()),\n",
    "    Total_Collectd_Amount=('RECHARGE_AMOUNT', 'sum')\n",
    ").reset_index()\n",
    "\n",
    "\n",
    "Dashboard  = google_sheets(\"Fintech Runsheet\", \"Dashboard\", \"get\") \n",
    "correct_table = Dashboard.iloc[4:12, 6:12]\n",
    "\n",
    "column_names = [\"Agent Name\", \"Total Assigned\",\t\"Total Calls Done\",\t\"Reachable\", \"Orders\", \"Total Collected Amount\"]\n",
    "correct_table.columns = column_names\n",
    "\n",
    "\n",
    "# Clean up the agent name columns to ensure matching works properly\n",
    "correct_table['Agent Name'] = correct_table['Agent Name'].str.strip()\n",
    "result['Agent_assigned'] = result['Agent_assigned'].str.strip()\n",
    "\n",
    "# Rename columns in results to match correct_table\n",
    "results_renamed = result.rename(columns={\n",
    "    'Agent_assigned': 'Agent Name',\n",
    "    'Orders': 'Orders',\n",
    "    'Total_Collectd_Amount': 'Total Collected Amount'\n",
    "})\n",
    "\n",
    "# Merge the tables to get the updated values\n",
    "correct_table_updated = correct_table.drop(columns=['Orders', 'Total Collected Amount'], errors='ignore')\n",
    "correct_table_updated = correct_table_updated.merge(\n",
    "    results_renamed[['Agent Name', 'Orders', 'Total Collected Amount']],\n",
    "    on='Agent Name',\n",
    "    how='left'\n",
    ")\n",
    "\n",
    "google_sheets(\"Fintech Runsheet\", \"live_report\", 'overwrite', df = correct_table_updated)"
   ]
  },
  {
   "cell_type": "code",
   "execution_count": 3,
   "id": "69fd1117-5b07-40b3-8dcf-71a933d6cca7",
   "metadata": {
    "tags": []
   },
   "outputs": [
    {
     "name": "stdout",
     "output_type": "stream",
     "text": [
      "Collecting oauth2client\n",
      "  Downloading oauth2client-4.1.3-py2.py3-none-any.whl.metadata (1.2 kB)\n",
      "Collecting httplib2>=0.9.1 (from oauth2client)\n",
      "  Downloading httplib2-0.22.0-py3-none-any.whl.metadata (2.6 kB)\n",
      "Requirement already satisfied: pyasn1>=0.1.7 in /home/ec2-user/anaconda3/envs/python3/lib/python3.10/site-packages (from oauth2client) (0.6.1)\n",
      "Collecting pyasn1-modules>=0.0.5 (from oauth2client)\n",
      "  Downloading pyasn1_modules-0.4.2-py3-none-any.whl.metadata (3.5 kB)\n",
      "Requirement already satisfied: rsa>=3.1.4 in /home/ec2-user/anaconda3/envs/python3/lib/python3.10/site-packages (from oauth2client) (4.7.2)\n",
      "Requirement already satisfied: six>=1.6.1 in /home/ec2-user/anaconda3/envs/python3/lib/python3.10/site-packages (from oauth2client) (1.17.0)\n",
      "Requirement already satisfied: pyparsing!=3.0.0,!=3.0.1,!=3.0.2,!=3.0.3,<4,>=2.4.2 in /home/ec2-user/anaconda3/envs/python3/lib/python3.10/site-packages (from httplib2>=0.9.1->oauth2client) (3.2.3)\n",
      "Downloading oauth2client-4.1.3-py2.py3-none-any.whl (98 kB)\n",
      "Downloading httplib2-0.22.0-py3-none-any.whl (96 kB)\n",
      "Downloading pyasn1_modules-0.4.2-py3-none-any.whl (181 kB)\n",
      "Installing collected packages: pyasn1-modules, httplib2, oauth2client\n",
      "\u001b[2K   \u001b[90m━━━━━━━━━━━━━━━━━━━━━━━━━━━━━━━━━━━━━━━━\u001b[0m \u001b[32m3/3\u001b[0m [oauth2client][0m [httplib2]\n",
      "\u001b[1A\u001b[2KSuccessfully installed httplib2-0.22.0 oauth2client-4.1.3 pyasn1-modules-0.4.2\n",
      "Collecting gspread\n",
      "  Downloading gspread-6.2.1-py3-none-any.whl.metadata (11 kB)\n",
      "Collecting google-auth>=1.12.0 (from gspread)\n",
      "  Downloading google_auth-2.40.3-py2.py3-none-any.whl.metadata (6.2 kB)\n",
      "Collecting google-auth-oauthlib>=0.4.1 (from gspread)\n",
      "  Downloading google_auth_oauthlib-1.2.2-py3-none-any.whl.metadata (2.7 kB)\n",
      "Collecting cachetools<6.0,>=2.0.0 (from google-auth>=1.12.0->gspread)\n",
      "  Downloading cachetools-5.5.2-py3-none-any.whl.metadata (5.4 kB)\n",
      "Requirement already satisfied: pyasn1-modules>=0.2.1 in /home/ec2-user/anaconda3/envs/python3/lib/python3.10/site-packages (from google-auth>=1.12.0->gspread) (0.4.2)\n",
      "Requirement already satisfied: rsa<5,>=3.1.4 in /home/ec2-user/anaconda3/envs/python3/lib/python3.10/site-packages (from google-auth>=1.12.0->gspread) (4.7.2)\n",
      "Requirement already satisfied: pyasn1>=0.1.3 in /home/ec2-user/anaconda3/envs/python3/lib/python3.10/site-packages (from rsa<5,>=3.1.4->google-auth>=1.12.0->gspread) (0.6.1)\n",
      "Collecting requests-oauthlib>=0.7.0 (from google-auth-oauthlib>=0.4.1->gspread)\n",
      "  Downloading requests_oauthlib-2.0.0-py2.py3-none-any.whl.metadata (11 kB)\n",
      "Collecting oauthlib>=3.0.0 (from requests-oauthlib>=0.7.0->google-auth-oauthlib>=0.4.1->gspread)\n",
      "  Downloading oauthlib-3.2.2-py3-none-any.whl.metadata (7.5 kB)\n",
      "Requirement already satisfied: requests>=2.0.0 in /home/ec2-user/anaconda3/envs/python3/lib/python3.10/site-packages (from requests-oauthlib>=0.7.0->google-auth-oauthlib>=0.4.1->gspread) (2.32.3)\n",
      "Requirement already satisfied: charset_normalizer<4,>=2 in /home/ec2-user/anaconda3/envs/python3/lib/python3.10/site-packages (from requests>=2.0.0->requests-oauthlib>=0.7.0->google-auth-oauthlib>=0.4.1->gspread) (3.4.2)\n",
      "Requirement already satisfied: idna<4,>=2.5 in /home/ec2-user/anaconda3/envs/python3/lib/python3.10/site-packages (from requests>=2.0.0->requests-oauthlib>=0.7.0->google-auth-oauthlib>=0.4.1->gspread) (3.10)\n",
      "Requirement already satisfied: urllib3<3,>=1.21.1 in /home/ec2-user/anaconda3/envs/python3/lib/python3.10/site-packages (from requests>=2.0.0->requests-oauthlib>=0.7.0->google-auth-oauthlib>=0.4.1->gspread) (2.4.0)\n",
      "Requirement already satisfied: certifi>=2017.4.17 in /home/ec2-user/anaconda3/envs/python3/lib/python3.10/site-packages (from requests>=2.0.0->requests-oauthlib>=0.7.0->google-auth-oauthlib>=0.4.1->gspread) (2025.4.26)\n",
      "Downloading gspread-6.2.1-py3-none-any.whl (59 kB)\n",
      "Downloading google_auth-2.40.3-py2.py3-none-any.whl (216 kB)\n",
      "Downloading cachetools-5.5.2-py3-none-any.whl (10 kB)\n",
      "Downloading google_auth_oauthlib-1.2.2-py3-none-any.whl (19 kB)\n",
      "Downloading requests_oauthlib-2.0.0-py2.py3-none-any.whl (24 kB)\n",
      "Downloading oauthlib-3.2.2-py3-none-any.whl (151 kB)\n",
      "Installing collected packages: oauthlib, cachetools, requests-oauthlib, google-auth, google-auth-oauthlib, gspread\n",
      "\u001b[2K   \u001b[90m━━━━━━━━━━━━━━━━━━━━━━━━━━━━━━━━━━━━━━━━\u001b[0m \u001b[32m6/6\u001b[0m [gspread]m3/6\u001b[0m [google-auth]\n",
      "\u001b[1A\u001b[2KSuccessfully installed cachetools-5.5.2 google-auth-2.40.3 google-auth-oauthlib-1.2.2 gspread-6.2.1 oauthlib-3.2.2 requests-oauthlib-2.0.0\n"
     ]
    }
   ],
   "source": [
    "!pip install oauth2client\n",
    "!pip install gspread"
   ]
  },
  {
   "cell_type": "code",
   "execution_count": 5,
   "id": "6b6f36e7-286e-46b1-aef7-bfd3dc64d283",
   "metadata": {
    "tags": []
   },
   "outputs": [
    {
     "name": "stdout",
     "output_type": "stream",
     "text": [
      "Collecting gspread_dataframe\n",
      "  Downloading gspread_dataframe-4.0.0-py2.py3-none-any.whl.metadata (4.5 kB)\n",
      "Requirement already satisfied: gspread>=3.0.0 in /home/ec2-user/anaconda3/envs/python3/lib/python3.10/site-packages (from gspread_dataframe) (6.2.1)\n",
      "Requirement already satisfied: pandas>=0.24.0 in /home/ec2-user/anaconda3/envs/python3/lib/python3.10/site-packages (from gspread_dataframe) (2.2.3)\n",
      "Requirement already satisfied: six>=1.12.0 in /home/ec2-user/anaconda3/envs/python3/lib/python3.10/site-packages (from gspread_dataframe) (1.17.0)\n",
      "Requirement already satisfied: google-auth>=1.12.0 in /home/ec2-user/anaconda3/envs/python3/lib/python3.10/site-packages (from gspread>=3.0.0->gspread_dataframe) (2.40.3)\n",
      "Requirement already satisfied: google-auth-oauthlib>=0.4.1 in /home/ec2-user/anaconda3/envs/python3/lib/python3.10/site-packages (from gspread>=3.0.0->gspread_dataframe) (1.2.2)\n",
      "Requirement already satisfied: cachetools<6.0,>=2.0.0 in /home/ec2-user/anaconda3/envs/python3/lib/python3.10/site-packages (from google-auth>=1.12.0->gspread>=3.0.0->gspread_dataframe) (5.5.2)\n",
      "Requirement already satisfied: pyasn1-modules>=0.2.1 in /home/ec2-user/anaconda3/envs/python3/lib/python3.10/site-packages (from google-auth>=1.12.0->gspread>=3.0.0->gspread_dataframe) (0.4.2)\n",
      "Requirement already satisfied: rsa<5,>=3.1.4 in /home/ec2-user/anaconda3/envs/python3/lib/python3.10/site-packages (from google-auth>=1.12.0->gspread>=3.0.0->gspread_dataframe) (4.7.2)\n",
      "Requirement already satisfied: pyasn1>=0.1.3 in /home/ec2-user/anaconda3/envs/python3/lib/python3.10/site-packages (from rsa<5,>=3.1.4->google-auth>=1.12.0->gspread>=3.0.0->gspread_dataframe) (0.6.1)\n",
      "Requirement already satisfied: requests-oauthlib>=0.7.0 in /home/ec2-user/anaconda3/envs/python3/lib/python3.10/site-packages (from google-auth-oauthlib>=0.4.1->gspread>=3.0.0->gspread_dataframe) (2.0.0)\n",
      "Requirement already satisfied: numpy>=1.22.4 in /home/ec2-user/anaconda3/envs/python3/lib/python3.10/site-packages (from pandas>=0.24.0->gspread_dataframe) (1.26.4)\n",
      "Requirement already satisfied: python-dateutil>=2.8.2 in /home/ec2-user/anaconda3/envs/python3/lib/python3.10/site-packages (from pandas>=0.24.0->gspread_dataframe) (2.9.0.post0)\n",
      "Requirement already satisfied: pytz>=2020.1 in /home/ec2-user/anaconda3/envs/python3/lib/python3.10/site-packages (from pandas>=0.24.0->gspread_dataframe) (2024.1)\n",
      "Requirement already satisfied: tzdata>=2022.7 in /home/ec2-user/anaconda3/envs/python3/lib/python3.10/site-packages (from pandas>=0.24.0->gspread_dataframe) (2025.2)\n",
      "Requirement already satisfied: oauthlib>=3.0.0 in /home/ec2-user/anaconda3/envs/python3/lib/python3.10/site-packages (from requests-oauthlib>=0.7.0->google-auth-oauthlib>=0.4.1->gspread>=3.0.0->gspread_dataframe) (3.2.2)\n",
      "Requirement already satisfied: requests>=2.0.0 in /home/ec2-user/anaconda3/envs/python3/lib/python3.10/site-packages (from requests-oauthlib>=0.7.0->google-auth-oauthlib>=0.4.1->gspread>=3.0.0->gspread_dataframe) (2.32.3)\n",
      "Requirement already satisfied: charset_normalizer<4,>=2 in /home/ec2-user/anaconda3/envs/python3/lib/python3.10/site-packages (from requests>=2.0.0->requests-oauthlib>=0.7.0->google-auth-oauthlib>=0.4.1->gspread>=3.0.0->gspread_dataframe) (3.4.2)\n",
      "Requirement already satisfied: idna<4,>=2.5 in /home/ec2-user/anaconda3/envs/python3/lib/python3.10/site-packages (from requests>=2.0.0->requests-oauthlib>=0.7.0->google-auth-oauthlib>=0.4.1->gspread>=3.0.0->gspread_dataframe) (3.10)\n",
      "Requirement already satisfied: urllib3<3,>=1.21.1 in /home/ec2-user/anaconda3/envs/python3/lib/python3.10/site-packages (from requests>=2.0.0->requests-oauthlib>=0.7.0->google-auth-oauthlib>=0.4.1->gspread>=3.0.0->gspread_dataframe) (2.4.0)\n",
      "Requirement already satisfied: certifi>=2017.4.17 in /home/ec2-user/anaconda3/envs/python3/lib/python3.10/site-packages (from requests>=2.0.0->requests-oauthlib>=0.7.0->google-auth-oauthlib>=0.4.1->gspread>=3.0.0->gspread_dataframe) (2025.4.26)\n",
      "Downloading gspread_dataframe-4.0.0-py2.py3-none-any.whl (9.0 kB)\n",
      "Installing collected packages: gspread_dataframe\n",
      "Successfully installed gspread_dataframe-4.0.0\n"
     ]
    }
   ],
   "source": [
    "!pip install gspread_dataframe"
   ]
  },
  {
   "cell_type": "code",
   "execution_count": 2,
   "id": "6899f8dd-67c7-4e07-802a-a82cf8c0d51c",
   "metadata": {
    "tags": []
   },
   "outputs": [
    {
     "name": "stdout",
     "output_type": "stream",
     "text": [
      "/home/ec2-user/service_account_key.json\n"
     ]
    }
   ],
   "source": [
    "cash_ins = ret_metabase(\"MOROCCO\", 18908)"
   ]
  },
  {
   "cell_type": "code",
   "execution_count": 3,
   "id": "1734462e-d0b6-4bc3-809e-3dee04d5e977",
   "metadata": {
    "tags": []
   },
   "outputs": [
    {
     "data": {
      "text/html": [
       "<div>\n",
       "<style scoped>\n",
       "    .dataframe tbody tr th:only-of-type {\n",
       "        vertical-align: middle;\n",
       "    }\n",
       "\n",
       "    .dataframe tbody tr th {\n",
       "        vertical-align: top;\n",
       "    }\n",
       "\n",
       "    .dataframe thead th {\n",
       "        text-align: right;\n",
       "    }\n",
       "</style>\n",
       "<table border=\"1\" class=\"dataframe\">\n",
       "  <thead>\n",
       "    <tr style=\"text-align: right;\">\n",
       "      <th></th>\n",
       "      <th>MAIN_SYSTEM_ID</th>\n",
       "      <th>RECHARGE_AMOUNT</th>\n",
       "    </tr>\n",
       "  </thead>\n",
       "  <tbody>\n",
       "    <tr>\n",
       "      <th>0</th>\n",
       "      <td>74015</td>\n",
       "      <td>500.0</td>\n",
       "    </tr>\n",
       "    <tr>\n",
       "      <th>1</th>\n",
       "      <td>67744</td>\n",
       "      <td>400.0</td>\n",
       "    </tr>\n",
       "    <tr>\n",
       "      <th>2</th>\n",
       "      <td>39462</td>\n",
       "      <td>400.0</td>\n",
       "    </tr>\n",
       "    <tr>\n",
       "      <th>3</th>\n",
       "      <td>60881</td>\n",
       "      <td>303.0</td>\n",
       "    </tr>\n",
       "    <tr>\n",
       "      <th>4</th>\n",
       "      <td>69607</td>\n",
       "      <td>300.0</td>\n",
       "    </tr>\n",
       "    <tr>\n",
       "      <th>...</th>\n",
       "      <td>...</td>\n",
       "      <td>...</td>\n",
       "    </tr>\n",
       "    <tr>\n",
       "      <th>418</th>\n",
       "      <td>72744</td>\n",
       "      <td>800.0</td>\n",
       "    </tr>\n",
       "    <tr>\n",
       "      <th>419</th>\n",
       "      <td>68407</td>\n",
       "      <td>500.0</td>\n",
       "    </tr>\n",
       "    <tr>\n",
       "      <th>420</th>\n",
       "      <td>58705</td>\n",
       "      <td>600.0</td>\n",
       "    </tr>\n",
       "    <tr>\n",
       "      <th>421</th>\n",
       "      <td>62882</td>\n",
       "      <td>500.0</td>\n",
       "    </tr>\n",
       "    <tr>\n",
       "      <th>422</th>\n",
       "      <td>66783</td>\n",
       "      <td>200.0</td>\n",
       "    </tr>\n",
       "  </tbody>\n",
       "</table>\n",
       "<p>423 rows × 2 columns</p>\n",
       "</div>"
      ],
      "text/plain": [
       "     MAIN_SYSTEM_ID  RECHARGE_AMOUNT\n",
       "0             74015            500.0\n",
       "1             67744            400.0\n",
       "2             39462            400.0\n",
       "3             60881            303.0\n",
       "4             69607            300.0\n",
       "..              ...              ...\n",
       "418           72744            800.0\n",
       "419           68407            500.0\n",
       "420           58705            600.0\n",
       "421           62882            500.0\n",
       "422           66783            200.0\n",
       "\n",
       "[423 rows x 2 columns]"
      ]
     },
     "execution_count": 3,
     "metadata": {},
     "output_type": "execute_result"
    }
   ],
   "source": [
    "cash_ins"
   ]
  },
  {
   "cell_type": "code",
   "execution_count": 4,
   "id": "dad2bb8f-2bc0-46e1-a206-8648b6245a43",
   "metadata": {
    "tags": []
   },
   "outputs": [
    {
     "name": "stdout",
     "output_type": "stream",
     "text": [
      "/home/ec2-user/service_account_key.json\n"
     ]
    }
   ],
   "source": [
    "progress = google_sheets('Fintech Runsheet', 'Data', 'get')\n",
    "progress_df = progress.iloc[1:, 2:18]  # Rows 6-9 (index 5-8), Columns G-N (index 6-12)\n"
   ]
  },
  {
   "cell_type": "code",
   "execution_count": 5,
   "id": "9e1dcca7-1904-402a-9a07-1108e8dabb89",
   "metadata": {
    "tags": []
   },
   "outputs": [
    {
     "name": "stdout",
     "output_type": "stream",
     "text": [
      "['06/04/2025 13:30', 'Unnamed: 3', 'Unnamed: 4', 'Unnamed: 5', 'Unnamed: 6', 'Unnamed: 7', 'Unnamed: 8', 'Unnamed: 9', 'Unnamed: 10', 'Unnamed: 11', 'Unnamed: 12', 'Unnamed: 13', 'Unnamed: 14', 'Unnamed: 15', 'Unnamed: 16', 'Unnamed: 17']\n"
     ]
    }
   ],
   "source": [
    "print(progress_df.columns.tolist())"
   ]
  },
  {
   "cell_type": "code",
   "execution_count": 6,
   "id": "8c5aa829-305a-44db-8885-2fa2505ea423",
   "metadata": {
    "tags": []
   },
   "outputs": [
    {
     "name": "stdout",
     "output_type": "stream",
     "text": [
      "['Statut', 'Added at', 'Agent_assigned', 'Retailer ID', 'Name', 'Mobile', 'Sales Order ID', 'Created at', 'Project Name', 'Description', 'Last Recharge Date', 'Preferred Collection Method', 'Solde', 'agent_id', 'Last Call Date', 'Priority']\n"
     ]
    }
   ],
   "source": [
    "new_columns = [\n",
    "    'Statut', 'Added at', 'Agent_assigned', 'Retailer ID', 'Name', 'Mobile',\n",
    "    'Sales Order ID', 'Created at', 'Project Name', 'Description',\n",
    "    'Last Recharge Date', 'Preferred Collection Method', 'Solde',\n",
    "    'agent_id', 'Last Call Date', 'Priority'\n",
    "]\n",
    "\n",
    "# Make sure the number of new column names matches the number of columns in your DataFrame\n",
    "progress_df.columns = new_columns\n",
    "print(progress_df.columns.tolist())"
   ]
  },
  {
   "cell_type": "code",
   "execution_count": 7,
   "id": "190c1e9b-4056-45e9-83d1-2f43acfdb5cb",
   "metadata": {
    "tags": []
   },
   "outputs": [],
   "source": [
    "reachable_agents = progress_df[progress_df[\"Statut\"] == \"Reachable\"]\n",
    "reachable_agents = reachable_agents[[\"Agent_assigned\", \"Retailer ID\"]]"
   ]
  },
  {
   "cell_type": "code",
   "execution_count": 8,
   "id": "ed0e5b1d-b655-4f34-b2c1-2d9b996d93ed",
   "metadata": {
    "tags": []
   },
   "outputs": [
    {
     "data": {
      "text/html": [
       "<div>\n",
       "<style scoped>\n",
       "    .dataframe tbody tr th:only-of-type {\n",
       "        vertical-align: middle;\n",
       "    }\n",
       "\n",
       "    .dataframe tbody tr th {\n",
       "        vertical-align: top;\n",
       "    }\n",
       "\n",
       "    .dataframe thead th {\n",
       "        text-align: right;\n",
       "    }\n",
       "</style>\n",
       "<table border=\"1\" class=\"dataframe\">\n",
       "  <thead>\n",
       "    <tr style=\"text-align: right;\">\n",
       "      <th></th>\n",
       "      <th>Agent_assigned</th>\n",
       "      <th>Retailer ID</th>\n",
       "    </tr>\n",
       "  </thead>\n",
       "  <tbody>\n",
       "    <tr>\n",
       "      <th>6</th>\n",
       "      <td>Sara eljabiri</td>\n",
       "      <td>29972</td>\n",
       "    </tr>\n",
       "    <tr>\n",
       "      <th>10</th>\n",
       "      <td>Sara eljabiri</td>\n",
       "      <td>68664</td>\n",
       "    </tr>\n",
       "    <tr>\n",
       "      <th>13</th>\n",
       "      <td>Sara eljabiri</td>\n",
       "      <td>1293</td>\n",
       "    </tr>\n",
       "    <tr>\n",
       "      <th>14</th>\n",
       "      <td>Sara eljabiri</td>\n",
       "      <td>68019</td>\n",
       "    </tr>\n",
       "    <tr>\n",
       "      <th>16</th>\n",
       "      <td>Sara eljabiri</td>\n",
       "      <td>9634</td>\n",
       "    </tr>\n",
       "    <tr>\n",
       "      <th>...</th>\n",
       "      <td>...</td>\n",
       "      <td>...</td>\n",
       "    </tr>\n",
       "    <tr>\n",
       "      <th>744</th>\n",
       "      <td>Hafsa barkhoukh</td>\n",
       "      <td>30752</td>\n",
       "    </tr>\n",
       "    <tr>\n",
       "      <th>745</th>\n",
       "      <td>Hafsa barkhoukh</td>\n",
       "      <td>68711</td>\n",
       "    </tr>\n",
       "    <tr>\n",
       "      <th>750</th>\n",
       "      <td>Hafsa barkhoukh</td>\n",
       "      <td>17927</td>\n",
       "    </tr>\n",
       "    <tr>\n",
       "      <th>751</th>\n",
       "      <td>Hafsa barkhoukh</td>\n",
       "      <td>48553</td>\n",
       "    </tr>\n",
       "    <tr>\n",
       "      <th>752</th>\n",
       "      <td>Hafsa barkhoukh</td>\n",
       "      <td>18151</td>\n",
       "    </tr>\n",
       "  </tbody>\n",
       "</table>\n",
       "<p>194 rows × 2 columns</p>\n",
       "</div>"
      ],
      "text/plain": [
       "      Agent_assigned Retailer ID\n",
       "6      Sara eljabiri       29972\n",
       "10     Sara eljabiri       68664\n",
       "13     Sara eljabiri        1293\n",
       "14     Sara eljabiri       68019\n",
       "16     Sara eljabiri        9634\n",
       "..               ...         ...\n",
       "744  Hafsa barkhoukh       30752\n",
       "745  Hafsa barkhoukh       68711\n",
       "750  Hafsa barkhoukh       17927\n",
       "751  Hafsa barkhoukh       48553\n",
       "752  Hafsa barkhoukh       18151\n",
       "\n",
       "[194 rows x 2 columns]"
      ]
     },
     "execution_count": 8,
     "metadata": {},
     "output_type": "execute_result"
    }
   ],
   "source": [
    "reachable_agents"
   ]
  },
  {
   "cell_type": "code",
   "execution_count": 9,
   "id": "18caa3b5-7189-4ab7-ae72-35cc41aeb81c",
   "metadata": {
    "tags": []
   },
   "outputs": [],
   "source": [
    "# Step 1: Merge reachable_agents with cash_ins\n",
    "merged = reachable_agents.merge(\n",
    "    cash_ins,\n",
    "    left_on='Retailer ID',\n",
    "    right_on='MAIN_SYSTEM_ID',\n",
    "    how='left'\n",
    ")\n",
    "\n",
    "# Step 2: Group by Agent_assigned and aggregate\n",
    "result = merged.groupby('Agent_assigned').agg(\n",
    "    total_retailers=('Retailer ID', 'nunique'),\n",
    "    Orders=('MAIN_SYSTEM_ID', lambda x: x.notna().sum()),\n",
    "    Total_Collectd_Amount=('RECHARGE_AMOUNT', 'sum')\n",
    ").reset_index()\n"
   ]
  },
  {
   "cell_type": "code",
   "execution_count": 10,
   "id": "50f5d153-1696-4916-97c5-87d5592bc350",
   "metadata": {
    "tags": []
   },
   "outputs": [
    {
     "data": {
      "text/html": [
       "<div>\n",
       "<style scoped>\n",
       "    .dataframe tbody tr th:only-of-type {\n",
       "        vertical-align: middle;\n",
       "    }\n",
       "\n",
       "    .dataframe tbody tr th {\n",
       "        vertical-align: top;\n",
       "    }\n",
       "\n",
       "    .dataframe thead th {\n",
       "        text-align: right;\n",
       "    }\n",
       "</style>\n",
       "<table border=\"1\" class=\"dataframe\">\n",
       "  <thead>\n",
       "    <tr style=\"text-align: right;\">\n",
       "      <th></th>\n",
       "      <th>Agent_assigned</th>\n",
       "      <th>total_retailers</th>\n",
       "      <th>Orders</th>\n",
       "      <th>Total_Collectd_Amount</th>\n",
       "    </tr>\n",
       "  </thead>\n",
       "  <tbody>\n",
       "    <tr>\n",
       "      <th>0</th>\n",
       "      <td>Hafsa barkhoukh</td>\n",
       "      <td>31</td>\n",
       "      <td>7</td>\n",
       "      <td>2750.0</td>\n",
       "    </tr>\n",
       "    <tr>\n",
       "      <th>1</th>\n",
       "      <td>Malika eljabiri</td>\n",
       "      <td>30</td>\n",
       "      <td>5</td>\n",
       "      <td>1703.0</td>\n",
       "    </tr>\n",
       "    <tr>\n",
       "      <th>2</th>\n",
       "      <td>Meryem Mossafir</td>\n",
       "      <td>26</td>\n",
       "      <td>5</td>\n",
       "      <td>2100.0</td>\n",
       "    </tr>\n",
       "    <tr>\n",
       "      <th>3</th>\n",
       "      <td>Oumaima Rahali</td>\n",
       "      <td>21</td>\n",
       "      <td>4</td>\n",
       "      <td>1603.0</td>\n",
       "    </tr>\n",
       "    <tr>\n",
       "      <th>4</th>\n",
       "      <td>Samia Bakri</td>\n",
       "      <td>29</td>\n",
       "      <td>7</td>\n",
       "      <td>2953.0</td>\n",
       "    </tr>\n",
       "    <tr>\n",
       "      <th>5</th>\n",
       "      <td>Sara eljabiri</td>\n",
       "      <td>30</td>\n",
       "      <td>8</td>\n",
       "      <td>3203.0</td>\n",
       "    </tr>\n",
       "    <tr>\n",
       "      <th>6</th>\n",
       "      <td>Yousra Rhazi</td>\n",
       "      <td>27</td>\n",
       "      <td>5</td>\n",
       "      <td>2100.0</td>\n",
       "    </tr>\n",
       "  </tbody>\n",
       "</table>\n",
       "</div>"
      ],
      "text/plain": [
       "    Agent_assigned  total_retailers  Orders  Total_Collectd_Amount\n",
       "0  Hafsa barkhoukh               31       7                 2750.0\n",
       "1  Malika eljabiri               30       5                 1703.0\n",
       "2  Meryem Mossafir               26       5                 2100.0\n",
       "3   Oumaima Rahali               21       4                 1603.0\n",
       "4      Samia Bakri               29       7                 2953.0\n",
       "5    Sara eljabiri               30       8                 3203.0\n",
       "6    Yousra Rhazi                27       5                 2100.0"
      ]
     },
     "execution_count": 10,
     "metadata": {},
     "output_type": "execute_result"
    }
   ],
   "source": [
    "result"
   ]
  },
  {
   "cell_type": "code",
   "execution_count": 11,
   "id": "5ef41f26-06ea-4798-9dd2-04af3de312d4",
   "metadata": {
    "tags": []
   },
   "outputs": [
    {
     "name": "stdout",
     "output_type": "stream",
     "text": [
      "/home/ec2-user/service_account_key.json\n"
     ]
    }
   ],
   "source": [
    "Dashboard  = google_sheets(\"Fintech Runsheet\", \"Dashboard\", \"get\") \n",
    "correct_table = Dashboard.iloc[4:12, 6:12]"
   ]
  },
  {
   "cell_type": "code",
   "execution_count": 12,
   "id": "6f2079f6-b3a2-4ebf-9759-2d368d85e054",
   "metadata": {
    "tags": []
   },
   "outputs": [
    {
     "data": {
      "text/html": [
       "<div>\n",
       "<style scoped>\n",
       "    .dataframe tbody tr th:only-of-type {\n",
       "        vertical-align: middle;\n",
       "    }\n",
       "\n",
       "    .dataframe tbody tr th {\n",
       "        vertical-align: top;\n",
       "    }\n",
       "\n",
       "    .dataframe thead th {\n",
       "        text-align: right;\n",
       "    }\n",
       "</style>\n",
       "<table border=\"1\" class=\"dataframe\">\n",
       "  <thead>\n",
       "    <tr style=\"text-align: right;\">\n",
       "      <th></th>\n",
       "      <th>Agent Name</th>\n",
       "      <th>Total Assigned</th>\n",
       "      <th>Total Calls Done</th>\n",
       "      <th>Reachable</th>\n",
       "      <th>Orders</th>\n",
       "      <th>Total Collected Amount</th>\n",
       "    </tr>\n",
       "  </thead>\n",
       "  <tbody>\n",
       "    <tr>\n",
       "      <th>6</th>\n",
       "      <td>Sara eljabiri</td>\n",
       "      <td>114</td>\n",
       "      <td>87</td>\n",
       "      <td>30</td>\n",
       "      <td>3</td>\n",
       "      <td>1103</td>\n",
       "    </tr>\n",
       "    <tr>\n",
       "      <th>7</th>\n",
       "      <td>Yousra Rhazi</td>\n",
       "      <td>122</td>\n",
       "      <td>86</td>\n",
       "      <td>27</td>\n",
       "      <td>3</td>\n",
       "      <td>1100</td>\n",
       "    </tr>\n",
       "    <tr>\n",
       "      <th>8</th>\n",
       "      <td>Meryem Mossafir</td>\n",
       "      <td>114</td>\n",
       "      <td>80</td>\n",
       "      <td>26</td>\n",
       "      <td>5</td>\n",
       "      <td>2100</td>\n",
       "    </tr>\n",
       "    <tr>\n",
       "      <th>9</th>\n",
       "      <td>Samia Bakri</td>\n",
       "      <td>112</td>\n",
       "      <td>85</td>\n",
       "      <td>29</td>\n",
       "      <td>5</td>\n",
       "      <td>2450</td>\n",
       "    </tr>\n",
       "    <tr>\n",
       "      <th>10</th>\n",
       "      <td>Oumaima Rahali</td>\n",
       "      <td>113</td>\n",
       "      <td>80</td>\n",
       "      <td>21</td>\n",
       "      <td>0</td>\n",
       "      <td>0</td>\n",
       "    </tr>\n",
       "    <tr>\n",
       "      <th>11</th>\n",
       "      <td>Malika eljabiri</td>\n",
       "      <td>114</td>\n",
       "      <td>88</td>\n",
       "      <td>30</td>\n",
       "      <td>4</td>\n",
       "      <td>1403</td>\n",
       "    </tr>\n",
       "    <tr>\n",
       "      <th>12</th>\n",
       "      <td>Hafsa barkhoukh</td>\n",
       "      <td>114</td>\n",
       "      <td>98</td>\n",
       "      <td>31</td>\n",
       "      <td>4</td>\n",
       "      <td>1650</td>\n",
       "    </tr>\n",
       "  </tbody>\n",
       "</table>\n",
       "</div>"
      ],
      "text/plain": [
       "         Agent Name Total Assigned Total Calls Done Reachable Orders  \\\n",
       "6     Sara eljabiri            114               87        30      3   \n",
       "7     Yousra Rhazi             122               86        27      3   \n",
       "8   Meryem Mossafir            114               80        26      5   \n",
       "9       Samia Bakri            112               85        29      5   \n",
       "10   Oumaima Rahali            113               80        21      0   \n",
       "11  Malika eljabiri            114               88        30      4   \n",
       "12  Hafsa barkhoukh            114               98        31      4   \n",
       "\n",
       "   Total Collected Amount  \n",
       "6                    1103  \n",
       "7                    1100  \n",
       "8                    2100  \n",
       "9                    2450  \n",
       "10                      0  \n",
       "11                   1403  \n",
       "12                   1650  "
      ]
     },
     "execution_count": 12,
     "metadata": {},
     "output_type": "execute_result"
    }
   ],
   "source": [
    "column_names = [\"Agent Name\", \"Total Assigned\",\t\"Total Calls Done\",\t\"Reachable\", \"Orders\", \"Total Collected Amount\"]\n",
    "correct_table.columns = column_names\n",
    "correct_table.head(10)"
   ]
  },
  {
   "cell_type": "code",
   "execution_count": 13,
   "id": "e8053c79-b3f5-4fe1-92bf-63cd84ca884e",
   "metadata": {
    "tags": []
   },
   "outputs": [],
   "source": [
    "import pandas as pd\n",
    "\n",
    "# Clean up the agent name columns to ensure matching works properly\n",
    "correct_table['Agent Name'] = correct_table['Agent Name'].str.strip()\n",
    "result['Agent_assigned'] = result['Agent_assigned'].str.strip()\n",
    "\n",
    "# Rename columns in results to match correct_table\n",
    "results_renamed = result.rename(columns={\n",
    "    'Agent_assigned': 'Agent Name',\n",
    "    'Orders': 'Orders',\n",
    "    'Total_Collectd_Amount': 'Total Collected Amount'\n",
    "})\n",
    "\n",
    "# Merge the tables to get the updated values\n",
    "correct_table_updated = correct_table.drop(columns=['Orders', 'Total Collected Amount'], errors='ignore')\n",
    "correct_table_updated = correct_table_updated.merge(\n",
    "    results_renamed[['Agent Name', 'Orders', 'Total Collected Amount']],\n",
    "    on='Agent Name',\n",
    "    how='left'\n",
    ")\n",
    "\n"
   ]
  },
  {
   "cell_type": "code",
   "execution_count": 14,
   "id": "930abe67-e72f-42e5-8c19-1e091f493098",
   "metadata": {
    "tags": []
   },
   "outputs": [
    {
     "data": {
      "text/html": [
       "<div>\n",
       "<style scoped>\n",
       "    .dataframe tbody tr th:only-of-type {\n",
       "        vertical-align: middle;\n",
       "    }\n",
       "\n",
       "    .dataframe tbody tr th {\n",
       "        vertical-align: top;\n",
       "    }\n",
       "\n",
       "    .dataframe thead th {\n",
       "        text-align: right;\n",
       "    }\n",
       "</style>\n",
       "<table border=\"1\" class=\"dataframe\">\n",
       "  <thead>\n",
       "    <tr style=\"text-align: right;\">\n",
       "      <th></th>\n",
       "      <th>Agent Name</th>\n",
       "      <th>Total Assigned</th>\n",
       "      <th>Total Calls Done</th>\n",
       "      <th>Reachable</th>\n",
       "      <th>Orders</th>\n",
       "      <th>Total Collected Amount</th>\n",
       "    </tr>\n",
       "  </thead>\n",
       "  <tbody>\n",
       "    <tr>\n",
       "      <th>0</th>\n",
       "      <td>Sara eljabiri</td>\n",
       "      <td>114</td>\n",
       "      <td>87</td>\n",
       "      <td>30</td>\n",
       "      <td>8</td>\n",
       "      <td>3203.0</td>\n",
       "    </tr>\n",
       "    <tr>\n",
       "      <th>1</th>\n",
       "      <td>Yousra Rhazi</td>\n",
       "      <td>122</td>\n",
       "      <td>86</td>\n",
       "      <td>27</td>\n",
       "      <td>5</td>\n",
       "      <td>2100.0</td>\n",
       "    </tr>\n",
       "    <tr>\n",
       "      <th>2</th>\n",
       "      <td>Meryem Mossafir</td>\n",
       "      <td>114</td>\n",
       "      <td>80</td>\n",
       "      <td>26</td>\n",
       "      <td>5</td>\n",
       "      <td>2100.0</td>\n",
       "    </tr>\n",
       "    <tr>\n",
       "      <th>3</th>\n",
       "      <td>Samia Bakri</td>\n",
       "      <td>112</td>\n",
       "      <td>85</td>\n",
       "      <td>29</td>\n",
       "      <td>7</td>\n",
       "      <td>2953.0</td>\n",
       "    </tr>\n",
       "    <tr>\n",
       "      <th>4</th>\n",
       "      <td>Oumaima Rahali</td>\n",
       "      <td>113</td>\n",
       "      <td>80</td>\n",
       "      <td>21</td>\n",
       "      <td>4</td>\n",
       "      <td>1603.0</td>\n",
       "    </tr>\n",
       "    <tr>\n",
       "      <th>5</th>\n",
       "      <td>Malika eljabiri</td>\n",
       "      <td>114</td>\n",
       "      <td>88</td>\n",
       "      <td>30</td>\n",
       "      <td>5</td>\n",
       "      <td>1703.0</td>\n",
       "    </tr>\n",
       "    <tr>\n",
       "      <th>6</th>\n",
       "      <td>Hafsa barkhoukh</td>\n",
       "      <td>114</td>\n",
       "      <td>98</td>\n",
       "      <td>31</td>\n",
       "      <td>7</td>\n",
       "      <td>2750.0</td>\n",
       "    </tr>\n",
       "  </tbody>\n",
       "</table>\n",
       "</div>"
      ],
      "text/plain": [
       "        Agent Name Total Assigned Total Calls Done Reachable  Orders  \\\n",
       "0    Sara eljabiri            114               87        30       8   \n",
       "1     Yousra Rhazi            122               86        27       5   \n",
       "2  Meryem Mossafir            114               80        26       5   \n",
       "3      Samia Bakri            112               85        29       7   \n",
       "4   Oumaima Rahali            113               80        21       4   \n",
       "5  Malika eljabiri            114               88        30       5   \n",
       "6  Hafsa barkhoukh            114               98        31       7   \n",
       "\n",
       "   Total Collected Amount  \n",
       "0                  3203.0  \n",
       "1                  2100.0  \n",
       "2                  2100.0  \n",
       "3                  2953.0  \n",
       "4                  1603.0  \n",
       "5                  1703.0  \n",
       "6                  2750.0  "
      ]
     },
     "execution_count": 14,
     "metadata": {},
     "output_type": "execute_result"
    }
   ],
   "source": [
    "correct_table_updated"
   ]
  },
  {
   "cell_type": "code",
   "execution_count": 15,
   "id": "631cf98e-7b9f-4456-a70b-265b8005de66",
   "metadata": {
    "tags": []
   },
   "outputs": [
    {
     "name": "stdout",
     "output_type": "stream",
     "text": [
      "/home/ec2-user/service_account_key.json\n"
     ]
    },
    {
     "data": {
      "text/plain": [
       "'data is added to the sheet successfully'"
      ]
     },
     "execution_count": 15,
     "metadata": {},
     "output_type": "execute_result"
    }
   ],
   "source": [
    "google_sheets(\"Fintech Runsheet\", \"live_report\", 'overwrite', df = correct_table_updated)"
   ]
  }
 ],
 "metadata": {
  "kernelspec": {
   "display_name": "conda_python3",
   "language": "python",
   "name": "conda_python3"
  },
  "language_info": {
   "codemirror_mode": {
    "name": "ipython",
    "version": 3
   },
   "file_extension": ".py",
   "mimetype": "text/x-python",
   "name": "python",
   "nbconvert_exporter": "python",
   "pygments_lexer": "ipython3",
   "version": "3.10.18"
  }
 },
 "nbformat": 4,
 "nbformat_minor": 5
}
