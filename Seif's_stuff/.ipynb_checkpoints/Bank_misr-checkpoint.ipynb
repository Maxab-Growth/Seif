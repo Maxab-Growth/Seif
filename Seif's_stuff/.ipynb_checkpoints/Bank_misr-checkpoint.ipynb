{
 "cells": [
  {
   "cell_type": "code",
   "execution_count": 9,
   "id": "61b4e9af-c9c3-43b0-9b65-f284297d2ea5",
   "metadata": {
    "tags": []
   },
   "outputs": [],
   "source": [
    "from common_functions import google_sheets\n",
    "import pandas as pd"
   ]
  },
  {
   "cell_type": "code",
   "execution_count": 16,
   "id": "246afe66-41a2-400a-b720-068e83bba784",
   "metadata": {
    "tags": []
   },
   "outputs": [
    {
     "name": "stdout",
     "output_type": "stream",
     "text": [
      "/home/ec2-user/service_account_key.json\n"
     ]
    }
   ],
   "source": [
    "data = google_sheets(\"Bank misr\", \"Data\", \"get\")\n",
    "\n",
    "cols_to_convert = [\"Main_system\",\"Phone\", \"Legal_id\", \"Account_number\"]\n",
    "\n",
    "for col in cols_to_convert:\n",
    "    if col in data.columns:\n",
    "        data[col] = data[col].apply(lambda x: str(int(x)) if pd.notnull(x) else \"\")\n",
    "        \n",
    "columns_with_prefix = [\"City_code\", \"Reigon_code\", \"Doc_code\", \"NBA\"]\n",
    "\n",
    "for col in columns_with_prefix:\n",
    "    if col in data.columns:\n",
    "        data[col] = data[col].astype(str).str[1:]  # Remove first character\n"
   ]
  },
  {
   "cell_type": "code",
   "execution_count": 17,
   "id": "f2fd2144-0399-42b2-b173-c2d127aa95cb",
   "metadata": {
    "tags": []
   },
   "outputs": [
    {
     "data": {
      "text/html": [
       "<div>\n",
       "<style scoped>\n",
       "    .dataframe tbody tr th:only-of-type {\n",
       "        vertical-align: middle;\n",
       "    }\n",
       "\n",
       "    .dataframe tbody tr th {\n",
       "        vertical-align: top;\n",
       "    }\n",
       "\n",
       "    .dataframe thead th {\n",
       "        text-align: right;\n",
       "    }\n",
       "</style>\n",
       "<table border=\"1\" class=\"dataframe\">\n",
       "  <thead>\n",
       "    <tr style=\"text-align: right;\">\n",
       "      <th></th>\n",
       "      <th>Main_system</th>\n",
       "      <th>Acronym</th>\n",
       "      <th>City</th>\n",
       "      <th>Company</th>\n",
       "      <th>Adress1</th>\n",
       "      <th>Adress2</th>\n",
       "      <th>Adress3</th>\n",
       "      <th>Adress4</th>\n",
       "      <th>City_code</th>\n",
       "      <th>Reigon_code</th>\n",
       "      <th>Phone</th>\n",
       "      <th>First_name</th>\n",
       "      <th>Last_name</th>\n",
       "      <th>Doc_code</th>\n",
       "      <th>Legal_id</th>\n",
       "      <th>NBA</th>\n",
       "      <th>Account_number</th>\n",
       "    </tr>\n",
       "  </thead>\n",
       "  <tbody>\n",
       "    <tr>\n",
       "      <th>0</th>\n",
       "      <td>212325</td>\n",
       "      <td>alshams</td>\n",
       "      <td>CAIRO</td>\n",
       "      <td>alshams</td>\n",
       "      <td>Simaf Buildings</td>\n",
       "      <td>Economic Housing</td>\n",
       "      <td>Helwan District</td>\n",
       "      <td>NaN</td>\n",
       "      <td>00001</td>\n",
       "      <td>001</td>\n",
       "      <td>1008358008</td>\n",
       "      <td>Sameh</td>\n",
       "      <td>Shawki</td>\n",
       "      <td>02</td>\n",
       "      <td>28307040102331</td>\n",
       "      <td>.0</td>\n",
       "      <td>5230199000012184</td>\n",
       "    </tr>\n",
       "  </tbody>\n",
       "</table>\n",
       "</div>"
      ],
      "text/plain": [
       "  Main_system  Acronym   City  Company          Adress1           Adress2  \\\n",
       "0      212325  alshams  CAIRO  alshams  Simaf Buildings  Economic Housing   \n",
       "\n",
       "           Adress3  Adress4 City_code Reigon_code       Phone First_name  \\\n",
       "0  Helwan District      NaN     00001         001  1008358008      Sameh   \n",
       "\n",
       "  Last_name Doc_code        Legal_id NBA    Account_number  \n",
       "0    Shawki       02  28307040102331  .0  5230199000012184  "
      ]
     },
     "execution_count": 17,
     "metadata": {},
     "output_type": "execute_result"
    }
   ],
   "source": [
    "data"
   ]
  },
  {
   "cell_type": "code",
   "execution_count": 46,
   "id": "05b0da66-de5c-4fe5-ae83-a7ab82b1a3f7",
   "metadata": {
    "tags": []
   },
   "outputs": [
    {
     "data": {
      "text/plain": [
       "'28307040102331                '"
      ]
     },
     "execution_count": 46,
     "metadata": {},
     "output_type": "execute_result"
    }
   ],
   "source": [
    "ao_Legal_ID"
   ]
  },
  {
   "cell_type": "code",
   "execution_count": 42,
   "id": "2750e7e3-9172-4d7c-bb50-3b75bfa39a7e",
   "metadata": {
    "tags": []
   },
   "outputs": [
    {
     "name": "stdout",
     "output_type": "stream",
     "text": [
      "/home/ec2-user/service_account_key.json\n",
      "/home/ec2-user/service_account_key.json\n"
     ]
    }
   ],
   "source": [
    "import csv\n",
    "import sys\n",
    "from datetime import datetime\n",
    "\n",
    "# ----------------------------------------\n",
    "# AM\n",
    "# ----------------------------------------\n",
    "data_am = google_sheets(\"Bank misr\", \"AM\", \"get\")\n",
    "\n",
    "cols_to_convert = [\"Main_system\",\"Phone\", \"Legal_id\", \"Account_number\"]\n",
    "for col in cols_to_convert:\n",
    "    if col in data_am.columns:\n",
    "        data_am[col] = data_am[col].apply(lambda x: str(int(x)) if pd.notnull(x) else \"\")\n",
    "        \n",
    "columns_with_prefix = [\"City_code\", \"Reigon_code\", \"Doc_code\", \"NBA\"]\n",
    "for col in columns_with_prefix:\n",
    "    if col in data_am.columns:\n",
    "        data_am[col] = data_am[col].astype(str).str[1:]  # Remove first character\n",
    "\n",
    "am_main_system_id = str(data_am.loc[0, \"Main_system\"])\n",
    "am_retailer_id = f\"MAXAB{am_main_system_id}\"\n",
    "am_no_of_accounts_linked = \"001\" #no_of_accounts_linked_to_merchent\n",
    "am_account_number = str(data_am.loc[0, \"Account_number\"])\n",
    "am_account_buffer = f\"{am_account_number}        EGPN\"\n",
    "am_Branch_code = \"000523\" # const\n",
    "am_Profile_code = \"011\" # const\n",
    "am_Acronym = str(data_am.loc[0, \"Acronym\"])\n",
    "am_City = \"Cairo\" # const\n",
    "am_Company = str(data_am.loc[0, \"Company\"])\n",
    "am_discount_code = \"M07\" # const\n",
    "am_Acitivity_code = \"0099\" # const\n",
    "am_Language = \"ENG\" #const\n",
    "am_LEGAL_IDENTIFICATION = str(data_am.loc[0, \"Legal_id\"])\n",
    "am_statment_code = \"01\" #const\n",
    "am_SETTLEMENT_MODE = \"T\" #const\n",
    "am_NBA = str(data_am.loc[0, \"NBA\"])\n",
    "\n",
    "am_Last_name = str(data_am.loc[0, \"Last_name\"]).ljust(40)\n",
    "am_First_name = str(data_am.loc[0, \"First_name\"]).ljust(40)\n",
    "am_Document_code = \"ID\".ljust(2)\n",
    "am_Legal_ID = str(data_am.loc[0, \"Legal_id\"]).ljust(30)\n",
    "am_Owner_Address1 = str(data_am.loc[0, \"Adress1\"]).ljust(30)\n",
    "am_Owner_Address2 = str(data_am.loc[0, \"Adress2\"]).ljust(30)\n",
    "am_Owner_Address3 = str(data_am.loc[0, \"Adress3\"]).ljust(30)\n",
    "am_Owner_Address4 = str(data_am.loc[0, \"Adress4\"]).ljust(30)\n",
    "am_Owner_Zip_code = \"\".ljust(10)\n",
    "am_Owner_city_code = str(data_am.loc[0, \"City_code\"]).ljust(5)\n",
    "am_Owner_Region = str(data_am.loc[0, \"Reigon_code\"]).ljust(3)\n",
    "am_Owner_Phone = str(data_am.loc[0, \"Phone\"]).ljust(20)\n",
    "am_Owner_Phone2 = \"\".ljust(20)\n",
    "am_Owner_Email = \"\".ljust(40)\n",
    "am_Owner_Filler = \"\".ljust(100)\n",
    "am_Owner_info = f\"{am_Last_name}{am_First_name}{am_Document_code}{am_Legal_ID}{am_Owner_Address1}{am_Owner_Address2}{am_Owner_Address3}{am_Owner_Address4}{am_Owner_Zip_code}{am_Owner_city_code}{am_Owner_Region}{am_Owner_Phone}{am_Owner_Phone2}{am_Owner_Email}{am_Owner_Filler}\"\n",
    "\n",
    "am_Address1 = str(data_am.loc[0, \"Adress1\"]).ljust(30)\n",
    "am_Address2 = str(data_am.loc[0, \"Adress2\"]).ljust(30)\n",
    "am_Address3 = str(data_am.loc[0, \"Adress3\"]).ljust(30)\n",
    "am_Address4 = str(data_am.loc[0, \"Adress4\"]).ljust(30)\n",
    "am_Zip_code = \"\".ljust(10)\n",
    "am_city_code = str(data_am.loc[0, \"City_code\"]).ljust(5)\n",
    "am_Region = str(data_am.loc[0, \"Reigon_code\"]).ljust(3)\n",
    "am_Phone = str(data_am.loc[0, \"Phone\"]).ljust(20)\n",
    "am_Phone2 = \"\".ljust(20)\n",
    "am_Email = \"\".ljust(40)\n",
    "am_Filler = \"\".ljust(100)\n",
    "am_Address = f\"{am_Address1}{am_Address2}{am_Address3}{am_Address4}{am_Zip_code}{am_city_code}{am_Region}{am_Phone}{am_Phone2}{am_Email}{am_Filler}\"\n",
    "\n",
    "# ----------------------------------------\n",
    "# AO\n",
    "# ----------------------------------------\n",
    "data_ao = google_sheets(\"Bank misr\", \"AO\", \"get\")\n",
    "\n",
    "cols_to_convert = [\"Main_system\",\"Phone\", \"Legal_id\", \"Account_number\"]\n",
    "for col in cols_to_convert:\n",
    "    if col in data_ao.columns:\n",
    "        data_ao[col] = data_ao[col].apply(lambda x: str(int(x)) if pd.notnull(x) else \"\")\n",
    "        \n",
    "columns_with_prefix = [\"City_code\", \"Reigon_code\", \"Doc_code\", \"NBA\"]\n",
    "for col in columns_with_prefix:\n",
    "    if col in data_ao.columns:\n",
    "        data_ao[col] = data_ao[col].astype(str).str[1:]  # Remove first character\n",
    "\n",
    "ao_retailer_id = f\"MAXAB{str(data_ao.loc[0, 'Main_system'])}\"\n",
    "ao_Bank_code = \"011200\"\n",
    "ao_Outlet_name = str(data_ao.loc[0, \"Outlet_name\"]) if \"Outlet_name\" in data_ao.columns else \"Maxab Outlet\"\n",
    "ao_acronym = str(data_ao.loc[0, \"Acronym\"]) if \"Acronym\" in data_ao.columns else \"MAXAB\"\n",
    "ao_city = str(data_ao.loc[0, \"City\"]) if \"City\" in data_ao.columns else \"Cairo\"\n",
    "ao_MCC = str(data_ao.loc[0, \"MCC\"]) if \"MCC\" in data_ao.columns else \"5411\"\n",
    "ao_Currency = str(data_ao.loc[0, \"Currency\"]) if \"Currency\" in data_ao.columns else \"EGP\"\n",
    "\n",
    "# Expanded AO address\n",
    "\n",
    "ao_Address1 = str(data_ao.loc[0, \"Adress1\"]).ljust(30)\n",
    "ao_Address2 = str(data_ao.loc[0, \"Adress2\"]).ljust(30)\n",
    "ao_Address3 = str(data_ao.loc[0, \"Adress3\"]).ljust(30)\n",
    "ao_Address4 = str(data_ao.loc[0, \"Adress4\"]).ljust(30)\n",
    "ao_Zip_code = \"\".ljust(10)\n",
    "ao_city_code = str(data_ao.loc[0, \"City_code\"]).ljust(5)\n",
    "ao_Region = str(data_ao.loc[0, \"Reigon_code\"]).ljust(3)\n",
    "ao_Phone = str(data_ao.loc[0, \"Phone\"]).ljust(20)\n",
    "ao_Phone2 = \"\".ljust(20)\n",
    "ao_Email = \"\".ljust(40)\n",
    "ao_Filler = \"\".ljust(100)\n",
    "ao_Address_AO = f\"{ao_Address1}{ao_Address2}{ao_Address3}{ao_Address4}{ao_Zip_code}{ao_city_code}{ao_Region}{ao_Phone}{ao_Phone2}{ao_Email}{ao_Filler}\"\n",
    "\n",
    "ao_Equipment_code = str(data_ao.loc[0, \"Equipment_code\"]) if \"Equipment_code\" in data_ao.columns else \"200\"\n",
    "ao_Equipment_no = str(data_ao.loc[0, \"Equipment_no\"]) if \"Equipment_no\" in data_ao.columns else \"2\"\n",
    "ao_Equipment_fees = str(data_ao.loc[0, \"Equipment_fees\"]) if \"Equipment_fees\" in data_ao.columns else \"100\"\n",
    "ao_Capture_mode = str(data_ao.loc[0, \"Capture_mode\"]) if \"Capture_mode\" in data_ao.columns else \"B\"\n",
    "ao_Fraud_indicator = str(data_ao.loc[0, \"Fraud_indicator\"]) if \"Fraud_indicator\" in data_ao.columns else \"0\"\n",
    "ao_Outlet_activity_code = str(data_ao.loc[0, \"Outlet_activity_code\"]) if \"Outlet_activity_code\" in data_ao.columns else \"0099\"\n",
    "ao_Floor_limit_idx = str(data_ao.loc[0, \"Floor_limit_idx\"]) if \"Floor_limit_idx\" in data_ao.columns else \"0001\"\n",
    "ao_NBA = str(data_ao.loc[0, \"NBA\"]) if \"NBA\" in data_ao.columns else \"01\"\n",
    "ao_Account_number = str(data_ao.loc[0, \"Account_number\"]) if \"Account_number\" in data_ao.columns else \"1270001000109999\"\n",
    "ao_Legal_ID = str(data_ao.loc[0, \"Legal_id\"]).ljust(30) if \"Legal_id\" in data_ao.columns else am_Legal_ID "
   ]
  },
  {
   "cell_type": "code",
   "execution_count": 56,
   "id": "202b7214-5967-4275-ad35-226d958469ca",
   "metadata": {
    "tags": []
   },
   "outputs": [
    {
     "name": "stdout",
     "output_type": "stream",
     "text": [
      "/home/ec2-user/service_account_key.json\n"
     ]
    },
    {
     "data": {
      "text/plain": [
       "'REF000000008'"
      ]
     },
     "execution_count": 56,
     "metadata": {},
     "output_type": "execute_result"
    }
   ],
   "source": [
    "ref_data = google_sheets(\"Bank misr\", \"REF\", \"get\")\n",
    "hr_id = str(ref_data.iloc[-1] [\"Refrence_no\"])\n",
    "hr_id"
   ]
  },
  {
   "cell_type": "code",
   "execution_count": 59,
   "id": "4dbbb87f-d42b-41d1-ad8a-48e5b356ffe2",
   "metadata": {
    "tags": []
   },
   "outputs": [
    {
     "name": "stdout",
     "output_type": "stream",
     "text": [
      "/home/ec2-user/service_account_key.json\n"
     ]
    },
    {
     "data": {
      "text/plain": [
       "'Data is appended to the sheet successfully'"
      ]
     },
     "execution_count": 59,
     "metadata": {},
     "output_type": "execute_result"
    }
   ],
   "source": [
    "new_hr_id = hr_id[:3] + str(int(hr_id[3:]) + 1).zfill(len(hr_id[3:]))\n",
    "new_row_df = pd.DataFrame([{\"Refrence_no\": new_hr_id}])\n",
    "google_sheets(\"Bank misr\", \"REF\", \"append\", df=new_row_df)"
   ]
  },
  {
   "cell_type": "code",
   "execution_count": 89,
   "id": "e0adaf61-beeb-4509-bbb7-ddde8ca725fe",
   "metadata": {},
   "outputs": [
    {
     "name": "stdout",
     "output_type": "stream",
     "text": [
      "/home/ec2-user/service_account_key.json\n",
      "/home/ec2-user/service_account_key.json\n",
      "/home/ec2-user/service_account_key.json\n",
      "/home/ec2-user/service_account_key.json\n",
      "/home/ec2-user/service_account_key.json\n",
      "CSV file successfully written to: output_20250708.csv\n"
     ]
    }
   ],
   "source": [
    "import csv\n",
    "import sys\n",
    "from datetime import datetime\n",
    "\n",
    "my_date = datetime.now().strftime(\"%Y%m%d\")\n",
    "\n",
    "ref_data = google_sheets(\"Bank misr\", \"REF\", \"get\")\n",
    "hr_id = str(ref_data.iloc[-1] [\"Refrence_no\"])\n",
    "new_hr_id = hr_id[:3] + str(int(hr_id[3:]) + 1).zfill(len(hr_id[3:]))\n",
    "new_row_df = pd.DataFrame([{\"Refrence_no\": new_hr_id}])\n",
    "google_sheets(\"Bank misr\", \"REF\", \"append\", df=new_row_df)\n",
    "\n",
    "ref = f\"REF{hr_id}\"\n",
    "# ----------------------------------------\n",
    "# AM\n",
    "# ----------------------------------------\n",
    "data_am= google_sheets(\"Bank misr\", \"AM\", \"get\")\n",
    "\n",
    "\n",
    "cols_to_convert = [\"Main_system\",\"Phone\", \"Legal_id\", \"Account_number\"]\n",
    "for col in cols_to_convert:\n",
    "    if col in data_am.columns:\n",
    "        data_am[col] = data_am[col].apply(lambda x: str(int(x)) if pd.notnull(x) else \"\")\n",
    "        \n",
    "columns_with_prefix = [\"City_code\", \"Reigon_code\", \"Doc_code\", \"NBA\"]\n",
    "for col in columns_with_prefix:\n",
    "    if col in data_am.columns:\n",
    "        data_am[col] = data_am[col].astype(str).str[1:]  # Remove first character\n",
    "\n",
    "am_main_system_id = str(data_am.loc[0, \"Main_system\"])\n",
    "am_retailer_id = f\"MAXAB{am_main_system_id}\"\n",
    "am_no_of_accounts_linked = \"001\" #no_of_accounts_linked_to_merchent\n",
    "am_account_number = str(data_am.loc[0, \"Account_number\"])\n",
    "am_account_buffer = f\"{am_account_number}        EGPN\"\n",
    "am_Branch_code = \"000523\" # const\n",
    "am_Profile_code = \"011\" # const\n",
    "am_Acronym = str(data_am.loc[0, \"Acronym\"])\n",
    "am_City = \"Cairo\" # const\n",
    "am_Company = str(data_am.loc[0, \"Company\"])\n",
    "am_discount_code = \"M07\" # const\n",
    "am_Acitivity_code = \"0099\" # const\n",
    "am_Language = \"ENG\" #const\n",
    "am_LEGAL_IDENTIFICATION = str(data_am.loc[0, \"Legal_id\"])\n",
    "am_statment_code = \"01\" #const\n",
    "am_SETTLEMENT_MODE = \"T\" #const\n",
    "am_NBA = str(data_am.loc[0, \"NBA\"])\n",
    "\n",
    "am_Last_name = str(data_am.loc[0, \"Last_name\"]).ljust(40)\n",
    "am_First_name = str(data_am.loc[0, \"First_name\"]).ljust(40)\n",
    "am_Document_code = \"ID\".ljust(2)\n",
    "am_Legal_ID = str(data_am.loc[0, \"Legal_id\"]).ljust(30)\n",
    "am_Owner_Address1 = str(data_am.loc[0, \"Adress1\"]).ljust(30)\n",
    "am_Owner_Address2 = str(data_am.loc[0, \"Adress2\"]).ljust(30)\n",
    "am_Owner_Address3 = str(data_am.loc[0, \"Adress3\"]).ljust(30)\n",
    "am_Owner_Address4 = str(data_am.loc[0, \"Adress4\"]).ljust(30)\n",
    "am_Owner_Zip_code = \"\".ljust(10)\n",
    "am_Owner_city_code = str(data_am.loc[0, \"City_code\"]).ljust(5)\n",
    "am_Owner_Region = str(data_am.loc[0, \"Reigon_code\"]).ljust(3)\n",
    "am_Owner_Phone = str(data_am.loc[0, \"Phone\"]).ljust(20)\n",
    "am_Owner_Phone2 = \"\".ljust(20)\n",
    "am_Owner_Email = \"\".ljust(40)\n",
    "am_Owner_Filler = \"\".ljust(100)\n",
    "am_Owner_info = f\"{am_Last_name}{am_First_name}{am_Document_code}{am_Legal_ID}{am_Owner_Address1}{am_Owner_Address2}{am_Owner_Address3}{am_Owner_Address4}{am_Owner_Zip_code}{am_Owner_city_code}{am_Owner_Region}{am_Owner_Phone}{am_Owner_Phone2}{am_Owner_Email}{am_Owner_Filler}\"\n",
    "\n",
    "am_Address1 = str(data_am.loc[0, \"Adress1\"]).ljust(30)\n",
    "am_Address2 = str(data_am.loc[0, \"Adress2\"]).ljust(30)\n",
    "am_Address3 = str(data_am.loc[0, \"Adress3\"]).ljust(30)\n",
    "am_Address4 = str(data_am.loc[0, \"Adress4\"]).ljust(30)\n",
    "am_Zip_code = \"\".ljust(10)\n",
    "am_city_code = str(data_am.loc[0, \"City_code\"]).ljust(5)\n",
    "am_Region = str(data_am.loc[0, \"Reigon_code\"]).ljust(3)\n",
    "am_Phone = str(data_am.loc[0, \"Phone\"]).ljust(20)\n",
    "am_Phone2 = \"\".ljust(20)\n",
    "am_Email = \"\".ljust(40)\n",
    "am_Filler = \"\".ljust(100)\n",
    "am_Address = f\"{am_Address1}{am_Address2}{am_Address3}{am_Address4}{am_Zip_code}{am_city_code}{am_Region}{am_Phone}{am_Phone2}{am_Email}{am_Filler}\"\n",
    "\n",
    "# ----------------------------------------\n",
    "# AO\n",
    "# ----------------------------------------\n",
    "data_ao = google_sheets(\"Bank misr\", \"AO\", \"get\")\n",
    "\n",
    "cols_to_convert = [\"Main_system\",\"Phone\", \"Legal_id\", \"Account_number\"]\n",
    "for col in cols_to_convert:\n",
    "    if col in data_ao.columns:\n",
    "        data_ao[col] = data_ao[col].apply(lambda x: str(int(x)) if pd.notnull(x) else \"\")\n",
    "        \n",
    "columns_with_prefix = [\"City_code\", \"Reigon_code\", \"Doc_code\", \"NBA\"]\n",
    "for col in columns_with_prefix:\n",
    "    if col in data_ao.columns:\n",
    "        data_ao[col] = data_ao[col].astype(str).str[1:]  # Remove first character\n",
    "\n",
    "ao_retailer_id = f\"MAXAB{str(data_ao.loc[0, 'Main_system'])}\"\n",
    "ao_Bank_code = \"011200\"\n",
    "ao_Outlet_name = str(data_ao.loc[0, \"Outlet_name\"]) if \"Outlet_name\" in data_ao.columns else \"Maxab Outlet\"\n",
    "ao_acronym = str(data_ao.loc[0, \"Acronym\"]) if \"Acronym\" in data_ao.columns else \"MAXAB\"\n",
    "ao_city = str(data_ao.loc[0, \"City\"]) if \"City\" in data_ao.columns else \"Cairo\"\n",
    "ao_MCC = str(data_ao.loc[0, \"MCC\"]) if \"MCC\" in data_ao.columns else \"5411\"\n",
    "ao_Currency = str(data_ao.loc[0, \"Currency\"]) if \"Currency\" in data_ao.columns else \"EGP\"\n",
    "\n",
    "# Expanded AO address\n",
    "\n",
    "ao_Address1 = str(data_ao.loc[0, \"Adress1\"]).ljust(30)\n",
    "ao_Address2 = str(data_ao.loc[0, \"Adress2\"]).ljust(30)\n",
    "ao_Address3 = str(data_ao.loc[0, \"Adress3\"]).ljust(30)\n",
    "ao_Address4 = str(data_ao.loc[0, \"Adress4\"]).ljust(30)\n",
    "ao_Zip_code = \"\".ljust(10)\n",
    "ao_city_code = str(data_ao.loc[0, \"City_code\"]).ljust(5)\n",
    "ao_Region = str(data_ao.loc[0, \"Reigon_code\"]).ljust(3)\n",
    "ao_Phone = str(data_ao.loc[0, \"Phone\"]).ljust(20)\n",
    "ao_Phone2 = \"\".ljust(20)\n",
    "ao_Email = \"\".ljust(40)\n",
    "ao_Filler = \"\".ljust(100)\n",
    "ao_Address_AO = f\"{ao_Address1}{ao_Address2}{ao_Address3}{ao_Address4}{ao_Zip_code}{ao_city_code}{ao_Region}{ao_Phone}{ao_Phone2}{ao_Email}{ao_Filler}\"\n",
    "\n",
    "ao_Equipment_code = str(data_ao.loc[0, \"Equipment_code\"]) if \"Equipment_code\" in data_ao.columns else \"200\"\n",
    "ao_Equipment_no = str(data_ao.loc[0, \"Equipment_no\"]) if \"Equipment_no\" in data_ao.columns else \"2\"\n",
    "ao_Equipment_fees = str(data_ao.loc[0, \"Equipment_fees\"]) if \"Equipment_fees\" in data_ao.columns else \"100.00\"\n",
    "ao_Capture_mode = str(data_ao.loc[0, \"Capture_mode\"]) if \"Capture_mode\" in data_ao.columns else \"B\"\n",
    "ao_Fraud_indicator = str(data_ao.loc[0, \"Fraud_indicator\"]) if \"Fraud_indicator\" in data_ao.columns else \"0\"\n",
    "ao_Outlet_activity_code = str(data_ao.loc[0, \"Outlet_activity_code\"]) if \"Outlet_activity_code\" in data_ao.columns else \"0099\"\n",
    "ao_Floor_limit_idx = str(data_ao.loc[0, \"Floor_limit_idx\"]) if \"Floor_limit_idx\" in data_ao.columns else \"0001\"\n",
    "ao_NBA = str(data_ao.loc[0, \"NBA\"]) if \"NBA\" in data_ao.columns else \"01\"\n",
    "ao_Account_number = str(data_ao.loc[0, \"Account_number\"]) if \"Account_number\" in data_ao.columns else \"1270001000109999\"\n",
    "ao_Legal_ID = str(data_ao.loc[0, \"Legal_id\"]).ljust(30) if \"Legal_id\" in data_ao.columns else am_Legal_ID \n",
    "\n",
    "\n",
    "\n",
    "# ----------------------------------------\n",
    "# AP\n",
    "# ---------------------------------------\n",
    "data_ap = google_sheets(\"Bank misr\", \"AP\", \"get\")\n",
    "\n",
    "ap_Pos_serial_number = str(data_ap.loc[0, \"POS serial number\"])\n",
    "ap_Retailer_id = str(data_ap.loc[0, \"Retailer id\"])\n",
    "ap_Master_pos_indcator = str(data_ap.loc[0, \"Master Pos indicator\"])\n",
    "ap_Pos_acronym = str(data_ap.loc[0, \"Pos acronym\"])\n",
    "ap_Pos_location = str(data_ap.loc[0, \"Pos location\"])\n",
    "ap_City_code = str(data_ap.loc[0, \"City code\"])\n",
    "ap_Reigon_code = str(data_ap.loc[0, \"Region code\"])\n",
    "\n",
    "# (You can now use these variables in the AP row of your CSV as needed)\n",
    "\n",
    "rows = [\n",
    "    [\n",
    "        \"HR\", ref, my_date, \"\", \"\"\n",
    "    ],\n",
    "    [\n",
    "        \"AM\", am_retailer_id, am_Branch_code, am_Profile_code, am_Acronym,\n",
    "        am_City, am_Company, \"\", am_discount_code, \"\", am_Acitivity_code,\n",
    "        am_Address, am_Language, am_Owner_info,\n",
    "        \"\", \"\", \"\", \"\", am_LEGAL_IDENTIFICATION, am_statment_code,\n",
    "        am_SETTLEMENT_MODE, \"\", \"\", am_NBA, am_account_buffer, \"\", \"\"\n",
    "    ],\n",
    "    [\n",
    "        \"AO\", ao_retailer_id, ao_retailer_id, ao_Bank_code, am_Branch_code,\n",
    "        ao_Outlet_name, ao_acronym, ao_city, ao_MCC, ao_Currency, ao_Address_AO,\"\",\"\",\n",
    "          ao_Legal_ID, ao_Equipment_code, ao_Equipment_no, ao_Equipment_fees, \"\",\"\", \"\", \"\",\"\", \"\",\n",
    "            ao_Capture_mode, \"\", am_statment_code, am_Language, \"\", ao_Fraud_indicator, ao_Outlet_activity_code, am_discount_code, \"\", ao_Floor_limit_idx, \"\", ao_NBA, ao_Account_number, \"\", \"\",\n",
    "            ],\n",
    "    [\n",
    "        \"AP\", ap_Pos_serial_number, ap_Retailer_id, ao_Bank_code, am_Branch_code,\n",
    "        ap_Master_pos_indcator,\"\",\"001\", ap_Pos_acronym, ap_Pos_location,\n",
    "        ap_City_code, ap_Reigon_code,\"002\", \"20\", \"0002\", \"DM\", \"                         \",\n",
    "        \"L\", \"EGP\", \"\", \"\", \"\", \"\", \"\", \"\", \"\", \"\", \"\", \"\", \"\", \"\", \"\", \"\", \"\", \"\", \"\", \"\", \"\", \"\", \"\", \"\", \"\", \"\", my_date, \"\", \"T\", \"\", \"\", \"\", \"\", \"\", \"ENG\", \"\", \"\", \"\", \"\", \"\", \"\", \"\", \"\", \"\"\n",
    "    ],\n",
    "    [\n",
    "        \"TR\", \"00000001\", \"00000001\", \"00000001\",\n",
    "        \"00000000\", \"00000000\", \"00000000\", \"00000000\",\n",
    "        \"00000000\", \"00000000\", \"0000003\", \"\"\n",
    "    ]\n",
    "]\n",
    "\n",
    "with open(filename, mode=\"w\", newline=\"\", encoding=\"utf-8\") as file:\n",
    "    writer = csv.writer(file, delimiter=\";\", lineterminator=\"\\n\")\n",
    "    writer.writerows(rows)\n",
    "\n",
    "print(f\"CSV file successfully written to: {filename}\")"
   ]
  },
  {
   "cell_type": "code",
   "execution_count": 47,
   "id": "1569c1ee-b2d2-4a0b-8eb1-6abe868f0e55",
   "metadata": {
    "tags": []
   },
   "outputs": [
    {
     "name": "stdout",
     "output_type": "stream",
     "text": [
      "/home/ec2-user/service_account_key.json\n"
     ]
    },
    {
     "data": {
      "text/html": [
       "<div>\n",
       "<style scoped>\n",
       "    .dataframe tbody tr th:only-of-type {\n",
       "        vertical-align: middle;\n",
       "    }\n",
       "\n",
       "    .dataframe tbody tr th {\n",
       "        vertical-align: top;\n",
       "    }\n",
       "\n",
       "    .dataframe thead th {\n",
       "        text-align: right;\n",
       "    }\n",
       "</style>\n",
       "<table border=\"1\" class=\"dataframe\">\n",
       "  <thead>\n",
       "    <tr style=\"text-align: right;\">\n",
       "      <th></th>\n",
       "      <th>POS serial number</th>\n",
       "      <th>Retailer id</th>\n",
       "      <th>Master Pos indicator</th>\n",
       "      <th>Master Pos number</th>\n",
       "      <th>Pos acronym</th>\n",
       "      <th>Pos location</th>\n",
       "      <th>Pos brand code</th>\n",
       "      <th>City code</th>\n",
       "      <th>Region code</th>\n",
       "    </tr>\n",
       "  </thead>\n",
       "  <tbody>\n",
       "    <tr>\n",
       "      <th>0</th>\n",
       "      <td>1.0</td>\n",
       "      <td>212325.0</td>\n",
       "      <td>5.0</td>\n",
       "      <td>4.0</td>\n",
       "      <td>3.0</td>\n",
       "      <td>2.0</td>\n",
       "      <td>6.0</td>\n",
       "      <td>A00001</td>\n",
       "      <td>A001</td>\n",
       "    </tr>\n",
       "  </tbody>\n",
       "</table>\n",
       "</div>"
      ],
      "text/plain": [
       "   POS serial number  Retailer id  Master Pos indicator  Master Pos number  \\\n",
       "0                1.0     212325.0                   5.0                4.0   \n",
       "\n",
       "   Pos acronym  Pos location  Pos brand code City code Region code  \n",
       "0          3.0           2.0             6.0    A00001        A001  "
      ]
     },
     "execution_count": 47,
     "metadata": {},
     "output_type": "execute_result"
    }
   ],
   "source": [
    "data_ap = google_sheets(\"Bank misr\", \"AP\", \"get\")\n",
    "data_ap"
   ]
  },
  {
   "cell_type": "code",
   "execution_count": 49,
   "id": "023f54aa-4e0a-48f9-baa6-c03534d9a7c1",
   "metadata": {
    "tags": []
   },
   "outputs": [
    {
     "name": "stdout",
     "output_type": "stream",
     "text": [
      "['POS serial number', 'Retailer id', 'Master Pos indicator', 'Master Pos number', 'Pos acronym', 'Pos location', 'Pos brand code', 'City code', 'Region code']\n"
     ]
    }
   ],
   "source": [
    "print(data_ap.columns.tolist())"
   ]
  }
 ],
 "metadata": {
  "kernelspec": {
   "display_name": "conda_python3",
   "language": "python",
   "name": "conda_python3"
  },
  "language_info": {
   "codemirror_mode": {
    "name": "ipython",
    "version": 3
   },
   "file_extension": ".py",
   "mimetype": "text/x-python",
   "name": "python",
   "nbconvert_exporter": "python",
   "pygments_lexer": "ipython3",
   "version": "3.10.18"
  }
 },
 "nbformat": 4,
 "nbformat_minor": 5
}
