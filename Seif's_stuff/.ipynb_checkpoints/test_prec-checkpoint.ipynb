{
 "cells": [
  {
   "cell_type": "code",
   "execution_count": 3,
   "id": "e34d2732-ed75-44e7-b658-f00c9d2b2e97",
   "metadata": {
    "tags": []
   },
   "outputs": [],
   "source": [
    "from common_functions import ret_metabase, upload_dataframe_to_snowflake, snowflake_query, google_sheets, upload_dataframe_to_pg, dwh_query\n",
    "\n",
    "import pandas as pd\n",
    "from datetime import datetime, timedelta\n",
    "import datetime as dt\n",
    "import time\n",
    "import os\n",
    "import boto3\n",
    "import base64\n",
    "from botocore.exceptions import ClientError\n",
    "import json\n",
    "import requests\n",
    "from pathlib import Path\n",
    "from io import StringIO\n",
    "import pandas as pd\n",
    "import sqlalchemy\n",
    "import psycopg2\n",
    "import numpy as np\n",
    "import gspread\n",
    "import pytz"
   ]
  },
  {
   "cell_type": "code",
   "execution_count": 3,
   "id": "62137e63-d44f-4db4-b313-402fd6022b1c",
   "metadata": {
    "tags": []
   },
   "outputs": [
    {
     "name": "stdout",
     "output_type": "stream",
     "text": [
      "/home/ec2-user/service_account_key.json\n"
     ]
    },
    {
     "data": {
      "text/html": [
       "<div>\n",
       "<style scoped>\n",
       "    .dataframe tbody tr th:only-of-type {\n",
       "        vertical-align: middle;\n",
       "    }\n",
       "\n",
       "    .dataframe tbody tr th {\n",
       "        vertical-align: top;\n",
       "    }\n",
       "\n",
       "    .dataframe thead th {\n",
       "        text-align: right;\n",
       "    }\n",
       "</style>\n",
       "<table border=\"1\" class=\"dataframe\">\n",
       "  <thead>\n",
       "    <tr style=\"text-align: right;\">\n",
       "      <th></th>\n",
       "      <th>column_name</th>\n",
       "      <th>data_type</th>\n",
       "      <th>character_maximum_length</th>\n",
       "      <th>numeric_precision</th>\n",
       "      <th>numeric_scale</th>\n",
       "      <th>is_nullable</th>\n",
       "    </tr>\n",
       "  </thead>\n",
       "  <tbody>\n",
       "    <tr>\n",
       "      <th>0</th>\n",
       "      <td>CAMPAIGN_ID</td>\n",
       "      <td>NUMBER</td>\n",
       "      <td>None</td>\n",
       "      <td>38</td>\n",
       "      <td>0</td>\n",
       "      <td>YES</td>\n",
       "    </tr>\n",
       "    <tr>\n",
       "      <th>1</th>\n",
       "      <td>OBJECTIVE</td>\n",
       "      <td>TEXT</td>\n",
       "      <td>16777216</td>\n",
       "      <td>None</td>\n",
       "      <td>None</td>\n",
       "      <td>YES</td>\n",
       "    </tr>\n",
       "    <tr>\n",
       "      <th>2</th>\n",
       "      <td>SUPPLIER_ID</td>\n",
       "      <td>NUMBER</td>\n",
       "      <td>None</td>\n",
       "      <td>38</td>\n",
       "      <td>0</td>\n",
       "      <td>YES</td>\n",
       "    </tr>\n",
       "    <tr>\n",
       "      <th>3</th>\n",
       "      <td>OFFER_TYPE</td>\n",
       "      <td>TEXT</td>\n",
       "      <td>16777216</td>\n",
       "      <td>None</td>\n",
       "      <td>None</td>\n",
       "      <td>YES</td>\n",
       "    </tr>\n",
       "    <tr>\n",
       "      <th>4</th>\n",
       "      <td>ACTIVE_BASE</td>\n",
       "      <td>NUMBER</td>\n",
       "      <td>None</td>\n",
       "      <td>38</td>\n",
       "      <td>0</td>\n",
       "      <td>YES</td>\n",
       "    </tr>\n",
       "    <tr>\n",
       "      <th>5</th>\n",
       "      <td>CHURNEDR_BASE</td>\n",
       "      <td>NUMBER</td>\n",
       "      <td>None</td>\n",
       "      <td>38</td>\n",
       "      <td>0</td>\n",
       "      <td>YES</td>\n",
       "    </tr>\n",
       "    <tr>\n",
       "      <th>6</th>\n",
       "      <td>CHURNEDO_BASE</td>\n",
       "      <td>NUMBER</td>\n",
       "      <td>None</td>\n",
       "      <td>38</td>\n",
       "      <td>0</td>\n",
       "      <td>YES</td>\n",
       "    </tr>\n",
       "    <tr>\n",
       "      <th>7</th>\n",
       "      <td>COMP_BASE</td>\n",
       "      <td>NUMBER</td>\n",
       "      <td>None</td>\n",
       "      <td>38</td>\n",
       "      <td>0</td>\n",
       "      <td>YES</td>\n",
       "    </tr>\n",
       "    <tr>\n",
       "      <th>8</th>\n",
       "      <td>TOTAL_BUDGET</td>\n",
       "      <td>NUMBER</td>\n",
       "      <td>None</td>\n",
       "      <td>38</td>\n",
       "      <td>0</td>\n",
       "      <td>YES</td>\n",
       "    </tr>\n",
       "    <tr>\n",
       "      <th>9</th>\n",
       "      <td>SENDING_BUDGET</td>\n",
       "      <td>NUMBER</td>\n",
       "      <td>None</td>\n",
       "      <td>38</td>\n",
       "      <td>0</td>\n",
       "      <td>YES</td>\n",
       "    </tr>\n",
       "    <tr>\n",
       "      <th>10</th>\n",
       "      <td>OFFERS_BUDGET</td>\n",
       "      <td>NUMBER</td>\n",
       "      <td>None</td>\n",
       "      <td>38</td>\n",
       "      <td>0</td>\n",
       "      <td>YES</td>\n",
       "    </tr>\n",
       "    <tr>\n",
       "      <th>11</th>\n",
       "      <td>CONSUMED_BUDGET</td>\n",
       "      <td>NUMBER</td>\n",
       "      <td>None</td>\n",
       "      <td>38</td>\n",
       "      <td>0</td>\n",
       "      <td>YES</td>\n",
       "    </tr>\n",
       "    <tr>\n",
       "      <th>12</th>\n",
       "      <td>START_AT</td>\n",
       "      <td>TEXT</td>\n",
       "      <td>16777216</td>\n",
       "      <td>None</td>\n",
       "      <td>None</td>\n",
       "      <td>YES</td>\n",
       "    </tr>\n",
       "    <tr>\n",
       "      <th>13</th>\n",
       "      <td>END_AT</td>\n",
       "      <td>TEXT</td>\n",
       "      <td>16777216</td>\n",
       "      <td>None</td>\n",
       "      <td>None</td>\n",
       "      <td>YES</td>\n",
       "    </tr>\n",
       "  </tbody>\n",
       "</table>\n",
       "</div>"
      ],
      "text/plain": [
       "        column_name data_type character_maximum_length numeric_precision  \\\n",
       "0       CAMPAIGN_ID    NUMBER                     None                38   \n",
       "1         OBJECTIVE      TEXT                 16777216              None   \n",
       "2       SUPPLIER_ID    NUMBER                     None                38   \n",
       "3        OFFER_TYPE      TEXT                 16777216              None   \n",
       "4       ACTIVE_BASE    NUMBER                     None                38   \n",
       "5     CHURNEDR_BASE    NUMBER                     None                38   \n",
       "6     CHURNEDO_BASE    NUMBER                     None                38   \n",
       "7         COMP_BASE    NUMBER                     None                38   \n",
       "8      TOTAL_BUDGET    NUMBER                     None                38   \n",
       "9    SENDING_BUDGET    NUMBER                     None                38   \n",
       "10    OFFERS_BUDGET    NUMBER                     None                38   \n",
       "11  CONSUMED_BUDGET    NUMBER                     None                38   \n",
       "12         START_AT      TEXT                 16777216              None   \n",
       "13           END_AT      TEXT                 16777216              None   \n",
       "\n",
       "   numeric_scale is_nullable  \n",
       "0              0         YES  \n",
       "1           None         YES  \n",
       "2              0         YES  \n",
       "3           None         YES  \n",
       "4              0         YES  \n",
       "5              0         YES  \n",
       "6              0         YES  \n",
       "7              0         YES  \n",
       "8              0         YES  \n",
       "9              0         YES  \n",
       "10             0         YES  \n",
       "11             0         YES  \n",
       "12          None         YES  \n",
       "13          None         YES  "
      ]
     },
     "execution_count": 3,
     "metadata": {},
     "output_type": "execute_result"
    }
   ],
   "source": [
    "snowflake_query(\"Egypt\", \"\"\"SELECT \n",
    "    COLUMN_NAME,\n",
    "    DATA_TYPE,\n",
    "    CHARACTER_MAXIMUM_LENGTH,\n",
    "    NUMERIC_PRECISION,\n",
    "    NUMERIC_SCALE,\n",
    "    IS_NULLABLE\n",
    "FROM INFORMATION_SCHEMA.COLUMNS\n",
    "WHERE TABLE_SCHEMA = 'MATERIALIZED_VIEWS'\n",
    "  AND TABLE_NAME = 'CAMPAIGN_LOGS'\n",
    "ORDER BY ORDINAL_POSITION;\n",
    "\"\"\", warehouse=None, columns=[], conn=None)"
   ]
  },
  {
   "cell_type": "code",
   "execution_count": 4,
   "id": "fe7c96a7-fd98-4ff2-84ae-523ee8768c08",
   "metadata": {
    "tags": []
   },
   "outputs": [
    {
     "name": "stdout",
     "output_type": "stream",
     "text": [
      "/home/ec2-user/service_account_key.json\n"
     ]
    }
   ],
   "source": [
    "df = snowflake_query(\"Egypt\", \"select * from MATERIALIZED_VIEWS.Campaign_logs\", warehouse=None, columns=[], conn=None)"
   ]
  },
  {
   "cell_type": "code",
   "execution_count": 7,
   "id": "b2784cea-518e-448c-b673-63a29cbd5af7",
   "metadata": {
    "tags": []
   },
   "outputs": [],
   "source": [
    "# Convert numeric-looking columns\n",
    "num_cols = [\n",
    "    \"campaign_id\", \"supplier_id\", \"active_base\", \"churnedr_base\", \n",
    "    \"churnedo_base\", \"comp_base\", \"total_budget\", \"sending_budget\", \n",
    "    \"offers_budget\", \"consumed_budget\"\n",
    "]\n",
    "df[num_cols] = df[num_cols].apply(pd.to_numeric, errors=\"coerce\")\n",
    "\n",
    "# Convert dates\n",
    "df[\"start_at\"] = pd.to_datetime(df[\"start_at\"], errors=\"coerce\")\n",
    "df[\"end_at\"] = pd.to_datetime(df[\"end_at\"], errors=\"coerce\")\n"
   ]
  },
  {
   "cell_type": "code",
   "execution_count": 9,
   "id": "c5469bd6-ff12-497e-93cc-d58a2eb2e7f5",
   "metadata": {
    "tags": []
   },
   "outputs": [],
   "source": [
    "text_cols = [\"objective\", \"offer_type\", \"start_at\", \"end_at\"]\n",
    "\n",
    "df[text_cols] = df[text_cols].astype(\"string\")\n"
   ]
  },
  {
   "cell_type": "code",
   "execution_count": 12,
   "id": "a8f112bb-a0dc-460a-bb9e-4f70b62ce038",
   "metadata": {
    "tags": []
   },
   "outputs": [],
   "source": [
    "# Convert start_at and end_at to pandas datetime\n",
    "df[\"start_at\"] = pd.to_datetime(df[\"start_at\"], errors=\"coerce\")\n",
    "df[\"end_at\"] = pd.to_datetime(df[\"end_at\"], errors=\"coerce\")\n"
   ]
  },
  {
   "cell_type": "code",
   "execution_count": 13,
   "id": "3db93586-f306-4e67-8038-88a92297ab14",
   "metadata": {
    "tags": []
   },
   "outputs": [
    {
     "name": "stdout",
     "output_type": "stream",
     "text": [
      "        COLUMN_NAME       DATA_TYPE  HAS_NULLS\n",
      "0       campaign_id           int64      False\n",
      "1         objective          string      False\n",
      "2       supplier_id           int64      False\n",
      "3        offer_type          string      False\n",
      "4       active_base           int64      False\n",
      "5     churnedr_base           int64      False\n",
      "6     churnedo_base           int64      False\n",
      "7         comp_base           int64      False\n",
      "8      total_budget           int64      False\n",
      "9    sending_budget           int64      False\n",
      "10    offers_budget           int64      False\n",
      "11  consumed_budget           int64      False\n",
      "12         start_at  datetime64[ns]      False\n",
      "13           end_at  datetime64[ns]      False\n"
     ]
    }
   ],
   "source": [
    "df_schema = pd.DataFrame({\n",
    "    \"COLUMN_NAME\": df.columns,\n",
    "    \"DATA_TYPE\": df.dtypes.astype(str).values,\n",
    "    \"HAS_NULLS\": df.isnull().any().values\n",
    "})\n",
    "\n",
    "print(df_schema)"
   ]
  },
  {
   "cell_type": "code",
   "execution_count": 26,
   "id": "3303fc2c-51a0-49bf-93cd-229e301dd205",
   "metadata": {
    "tags": []
   },
   "outputs": [
    {
     "name": "stdout",
     "output_type": "stream",
     "text": [
      "/home/ec2-user/service_account_key.json\n"
     ]
    }
   ],
   "source": [
    "upload_dataframe_to_pg(df_pg, \"Egypt\", \"replace\",\"MATERIALIZED_VIEWS\" ,\"offer_tool_logs\" , db_conn=None)"
   ]
  },
  {
   "cell_type": "code",
   "execution_count": 25,
   "id": "979a540d-61dd-42e4-9eda-053ce737c35e",
   "metadata": {
    "tags": []
   },
   "outputs": [
    {
     "data": {
      "text/html": [
       "<div>\n",
       "<style scoped>\n",
       "    .dataframe tbody tr th:only-of-type {\n",
       "        vertical-align: middle;\n",
       "    }\n",
       "\n",
       "    .dataframe tbody tr th {\n",
       "        vertical-align: top;\n",
       "    }\n",
       "\n",
       "    .dataframe thead th {\n",
       "        text-align: right;\n",
       "    }\n",
       "</style>\n",
       "<table border=\"1\" class=\"dataframe\">\n",
       "  <thead>\n",
       "    <tr style=\"text-align: right;\">\n",
       "      <th></th>\n",
       "      <th>id</th>\n",
       "      <th>campaign_id</th>\n",
       "      <th>supplier_id</th>\n",
       "      <th>retailer_list</th>\n",
       "      <th>offer_type</th>\n",
       "      <th>status</th>\n",
       "      <th>start_at</th>\n",
       "      <th>end_at</th>\n",
       "    </tr>\n",
       "  </thead>\n",
       "  <tbody>\n",
       "  </tbody>\n",
       "</table>\n",
       "</div>"
      ],
      "text/plain": [
       "Empty DataFrame\n",
       "Columns: [id, campaign_id, supplier_id, retailer_list, offer_type, status, start_at, end_at]\n",
       "Index: []"
      ]
     },
     "execution_count": 25,
     "metadata": {},
     "output_type": "execute_result"
    }
   ],
   "source": [
    "import pandas as pd\n",
    "\n",
    "df_pg = pd.DataFrame(columns=[\n",
    "    \"id\", \n",
    "    \"campaign_id\", \n",
    "    \"supplier_id\", \n",
    "    \"retailer_list\", \n",
    "    \"offer_type\", \n",
    "    \"status\", \n",
    "    \"start_at\",\n",
    "    \"end_at\",\n",
    "])\n",
    "df_pg"
   ]
  },
  {
   "cell_type": "code",
   "execution_count": 6,
   "id": "f409548e-cee1-49ac-bc96-7b31b232207a",
   "metadata": {
    "tags": []
   },
   "outputs": [
    {
     "name": "stdout",
     "output_type": "stream",
     "text": [
      "/home/ec2-user/service_account_key.json\n"
     ]
    }
   ],
   "source": [
    "dwh_query(\"egypt\", \"\"\"ALTER TABLE MATERIALIZED_VIEWS.Campaign_logs\n",
    "ADD COLUMN campaign_name VARCHAR;\n",
    "\"\"\", \"write\", columns=[], conn=None)\n"
   ]
  }
 ],
 "metadata": {
  "kernelspec": {
   "display_name": "conda_python3",
   "language": "python",
   "name": "conda_python3"
  },
  "language_info": {
   "codemirror_mode": {
    "name": "ipython",
    "version": 3
   },
   "file_extension": ".py",
   "mimetype": "text/x-python",
   "name": "python",
   "nbconvert_exporter": "python",
   "pygments_lexer": "ipython3",
   "version": "3.10.18"
  }
 },
 "nbformat": 4,
 "nbformat_minor": 5
}
