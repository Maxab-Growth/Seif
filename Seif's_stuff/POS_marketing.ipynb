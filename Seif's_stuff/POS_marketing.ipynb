{
 "cells": [
  {
   "cell_type": "code",
   "execution_count": 1,
   "id": "f1756470-e1ff-43d6-bf96-5c33246b904d",
   "metadata": {
    "tags": []
   },
   "outputs": [
    {
     "name": "stderr",
     "output_type": "stream",
     "text": [
      "/home/ec2-user/anaconda3/envs/python3/lib/python3.10/site-packages/pandas/core/computation/expressions.py:21: UserWarning: Pandas requires version '2.8.4' or newer of 'numexpr' (version '2.7.3' currently installed).\n",
      "  from pandas.core.computation.check import NUMEXPR_INSTALLED\n"
     ]
    }
   ],
   "source": [
    "from common_functions import ret_metabase, google_sheets, upload_dataframe_to_snowflake, snowflake_query, upload_dataframe_to_pg, dwh_query, get_secret\n",
    "import pandas as pd\n",
    "from datetime import datetime, timedelta\n",
    "import datetime as dt\n",
    "import time\n",
    "import os\n",
    "import boto3\n",
    "import base64\n",
    "from botocore.exceptions import ClientError\n",
    "import json\n",
    "import requests\n",
    "from pathlib import Path\n",
    "from io import StringIO\n",
    "import pandas as pd\n",
    "# import psycopg2\n",
    "import numpy as np\n",
    "import gspread\n",
    "import sqlalchemy\n",
    "import pytz\n",
    "import psycopg2"
   ]
  },
  {
   "cell_type": "code",
   "execution_count": 2,
   "id": "1cd167f6-2b1d-4422-a15f-f0a4f7eca741",
   "metadata": {
    "tags": []
   },
   "outputs": [],
   "source": [
    "def initialize_env():\n",
    "    \"\"\"\n",
    "    Initialize environment variables and credentials for Snowflake, Slack, Metabase, and Google Sheets.\n",
    "    Reads secrets and sets them as environment variables for use in other functions.\n",
    "    \"\"\"\n",
    "    snowflake_sg_secret = json.loads(get_secret(\"Snowflake-sagemaker\"))\n",
    "    slack_secret = json.loads(get_secret(\"prod/slack/reports\"))\n",
    "    fintech_service_account = json.loads(get_secret(\"prod/fintechServiceEmail/credentials\"))\n",
    "    dwh_writer_secret = json.loads(get_secret(\"prod/db/datawarehouse/sagemaker\"))\n",
    "\n",
    "    os.environ[\"SNOWFLAKE_USERNAME\"] = snowflake_sg_secret[\"username\"]\n",
    "    os.environ[\"SNOWFLAKE_PASSWORD\"] = snowflake_sg_secret[\"password\"]\n",
    "    os.environ[\"SNOWFLAKE_ACCOUNT\"] = snowflake_sg_secret[\"account\"]\n",
    "    os.environ[\"SNOWFLAKE_DATABASE\"] = snowflake_sg_secret[\"database\"]\n",
    "\n",
    "    os.environ[\"SLACK_TOKEN\"] = slack_secret[\"token\"]\n",
    "\n",
    "    os.environ[\"FINTECH_EMONEY_EMAIL\"] = fintech_service_account[\"email_name\"]\n",
    "    os.environ[\"FINTECH_EMONEY_PASSWORD\"] = fintech_service_account[\"email_password\"]\n",
    "\n",
    "    metabase_secret = json.loads(get_secret(\"prod/metabase/maxab_config\"))\n",
    "    os.environ[\"EGYPT_METABASE_USERNAME\"] = metabase_secret[\"metabase_user\"]\n",
    "    os.environ[\"EGYPT_METABASE_PASSWORD\"] = metabase_secret[\"metabase_password\"]\n",
    "\n",
    "    os.environ[\"DWH_WRITER_HOST_NEW\"] = dwh_writer_secret[\"host\"]\n",
    "    os.environ[\"DWH_WRITER_NAME_NEW\"] = dwh_writer_secret[\"dbname\"]\n",
    "    os.environ[\"DWH_WRITER_USER_NAME_NEW\"] = dwh_writer_secret[\"username\"]\n",
    "    os.environ[\"DWH_WRITER_PASSWORD_NEW\"] = dwh_writer_secret[\"password\"] \n",
    "\n",
    "    json_path_sheets = str(Path.home()) + \"/service_account_key_sheets.json\"\n",
    "    sheets_key = get_secret(\"prod/maxab-sheets\")\n",
    "    f = open(json_path_sheets, \"w\")\n",
    "    f.write(sheets_key)\n",
    "    f.close()\n",
    "    os.environ[\"GOOGLE_APPLICATION_CREDENTIALS_SHEETS\"] = json_path_sheets\n"
   ]
  },
  {
   "cell_type": "code",
   "execution_count": 3,
   "id": "0dc9db94-fb94-43ef-ae01-134972a2d05b",
   "metadata": {
    "tags": []
   },
   "outputs": [
    {
     "name": "stdout",
     "output_type": "stream",
     "text": [
      "Successfully connected to DB\n"
     ]
    }
   ],
   "source": [
    "initialize_env()\n",
    "\n",
    "host = os.environ[\"DWH_WRITER_HOST_NEW\"]\n",
    "database = os.environ[\"DWH_WRITER_NAME_NEW\"]\n",
    "user = os.environ[\"DWH_WRITER_USER_NAME_NEW\"]\n",
    "password = os.environ[\"DWH_WRITER_PASSWORD_NEW\"]\n",
    "\n",
    "conn = psycopg2.connect(host=host, database=database, user=user, password=password)\n",
    "print(\"Successfully connected to DB\")"
   ]
  },
  {
   "cell_type": "code",
   "execution_count": 4,
   "id": "c1c1186b-2a74-46d9-8ff5-37011286c1f2",
   "metadata": {
    "tags": []
   },
   "outputs": [
    {
     "name": "stdout",
     "output_type": "stream",
     "text": [
      "True\n"
     ]
    }
   ],
   "source": [
    "    engine = sqlalchemy.create_engine(f\"postgresql+psycopg2://{user}:{password}@{host}/{database}\")\n",
    "    print(bool(engine))"
   ]
  },
  {
   "cell_type": "code",
   "execution_count": 5,
   "id": "cafca5d8-ac32-4837-99f2-a6ab0cf615aa",
   "metadata": {
    "tags": []
   },
   "outputs": [
    {
     "name": "stdout",
     "output_type": "stream",
     "text": [
      "/home/ec2-user/service_account_key.json\n"
     ]
    },
    {
     "data": {
      "text/plain": [
       "['Benchmark',\n",
       " 'Somaya Alrab',\n",
       " 'Esraa Mohamed',\n",
       " 'Ebthal Saber',\n",
       " 'Raneen Ali',\n",
       " 'Abdelrahman Merghany',\n",
       " 'Israa Abdelhamid',\n",
       " 'Nada Saber',\n",
       " 'Marina Riyad']"
      ]
     },
     "execution_count": 5,
     "metadata": {},
     "output_type": "execute_result"
    }
   ],
   "source": [
    "agent_group = google_sheets(\"Agents - Retailers\", \"Agent-to-group\", \"get\")\n",
    "col_list = agent_group.columns.tolist()\n",
    "col_list"
   ]
  },
  {
   "cell_type": "code",
   "execution_count": 6,
   "id": "e358a59b-6d92-4c88-bf54-d29e8261c6cd",
   "metadata": {
    "tags": []
   },
   "outputs": [],
   "source": [
    "def get_available_agents(attendance_df, current_hour):\n",
    "    \"\"\"\n",
    "    Get a list of available task-based agents for the current hour based on attendance DataFrame.\n",
    "    Args:\n",
    "        attendance_df (pd.DataFrame): DataFrame with agent attendance info\n",
    "        current_hour (int): Current hour (24-hour format)\n",
    "    Returns:\n",
    "        list: List of available agent IDs\n",
    "    \"\"\"\n",
    "    attendance_copy = attendance_df.copy()\n",
    "    \n",
    "    attendance_copy['start_time'] = attendance_copy['start_time'].astype(int)\n",
    "    attendance_copy['end_time'] = attendance_copy['end_time'].astype(int)\n",
    "    \n",
    "    attendance_copy['assignment_start_time'] = attendance_copy['start_time'] - 1\n",
    "    attendance_copy['assignment_end_time'] = attendance_copy['end_time'] - 1\n",
    "    \n",
    "    attendance_copy['assign_data'] = np.where(\n",
    "        (current_hour >= attendance_copy['assignment_start_time']) & \n",
    "        (current_hour <= attendance_copy['assignment_end_time']),\n",
    "        'yes', 'no')\n",
    "    \n",
    "    task_based_agents = attendance_copy.loc[\n",
    "        (attendance_copy['project'] == 'task_based') & \n",
    "        (attendance_copy['assign_data'] == 'yes')]\n",
    "    \n",
    "    task_based_list = task_based_agents['agent_id'].values.tolist()\n",
    "    print(f\"Number of available agents: {len(task_based_list)}\")\n",
    "    return task_based_list\n",
    "\n",
    "\n",
    "def assign_data_equal_projects(df, list):\n",
    "    df = df.sample(frac=1)  # Shuffle the data\n",
    "    project_types = df['project_name'].unique()\n",
    "    \n",
    "    assigned_data = pd.DataFrame()\n",
    "    \n",
    "    for project in project_types:\n",
    "        project_df = df[df['project_name'] == project]\n",
    "        project_df = project_df.reset_index(drop=True)\n",
    "        rows_per_agent = len(project_df) // len(list)\n",
    "        remainder = len(project_df) % len(list)\n",
    "        \n",
    "        # Distribute rows equally\n",
    "        for i, agent in enumerate(list):\n",
    "            start_idx = i * rows_per_agent\n",
    "            end_idx = start_idx + rows_per_agent\n",
    "            agent_data = project_df.iloc[start_idx:end_idx].copy()\n",
    "            agent_data['agent_assigned'] = agent\n",
    "            \n",
    "            # Handle remainder\n",
    "            if i < remainder:\n",
    "                extra_row = project_df.iloc[end_idx:end_idx+1].copy()\n",
    "                extra_row['agent_assigned'] = agent\n",
    "                agent_data = pd.concat([agent_data, extra_row])\n",
    "            \n",
    "            assigned_data = pd.concat([assigned_data, agent_data])\n",
    "    \n",
    "    assigned_data = assigned_data.reset_index(drop=True)\n",
    "    \n",
    "    return assigned_data"
   ]
  },
  {
   "cell_type": "code",
   "execution_count": 7,
   "id": "737239fe-4f83-426b-9a88-4db8e333b083",
   "metadata": {
    "tags": []
   },
   "outputs": [
    {
     "name": "stdout",
     "output_type": "stream",
     "text": [
      "/home/ec2-user/service_account_key.json\n",
      "Total agents: 5\n",
      "Number of available agents: 5\n"
     ]
    }
   ],
   "source": [
    "now = datetime.now() + timedelta(hours=3)\n",
    "hour = int(str(now.time())[0:2])\n",
    "attendance = ret_metabase(\"EGYPT\", 13502)\n",
    "print(f\"Total agents: {len(attendance)}\")\n",
    "task_based_list = get_available_agents(attendance, hour)"
   ]
  },
  {
   "cell_type": "code",
   "execution_count": 17,
   "id": "f5de7f27-b39f-4265-a380-bc700136eba7",
   "metadata": {
    "tags": []
   },
   "outputs": [
    {
     "name": "stdout",
     "output_type": "stream",
     "text": [
      "/home/ec2-user/service_account_key.json\n",
      "Number of available agents: 5\n",
      "/home/ec2-user/service_account_key.json\n"
     ]
    },
    {
     "name": "stderr",
     "output_type": "stream",
     "text": [
      "/tmp/ipykernel_14981/3591926963.py:49: SettingWithCopyWarning: \n",
      "A value is trying to be set on a copy of a slice from a DataFrame\n",
      "\n",
      "See the caveats in the documentation: https://pandas.pydata.org/pandas-docs/stable/user_guide/indexing.html#returning-a-view-versus-a-copy\n",
      "  filtered_df.drop(columns=[\"agent_assigned\"], inplace=True)\n"
     ]
    },
    {
     "name": "stdout",
     "output_type": "stream",
     "text": [
      "Assigned to Somaya Alrab,64 Task-based Tasks\n",
      "/home/ec2-user/service_account_key.json\n"
     ]
    },
    {
     "name": "stderr",
     "output_type": "stream",
     "text": [
      "/tmp/ipykernel_14981/3591926963.py:49: SettingWithCopyWarning: \n",
      "A value is trying to be set on a copy of a slice from a DataFrame\n",
      "\n",
      "See the caveats in the documentation: https://pandas.pydata.org/pandas-docs/stable/user_guide/indexing.html#returning-a-view-versus-a-copy\n",
      "  filtered_df.drop(columns=[\"agent_assigned\"], inplace=True)\n"
     ]
    },
    {
     "name": "stdout",
     "output_type": "stream",
     "text": [
      "Assigned to Esraa Mohamed,64 Task-based Tasks\n",
      "/home/ec2-user/service_account_key.json\n"
     ]
    },
    {
     "name": "stderr",
     "output_type": "stream",
     "text": [
      "/tmp/ipykernel_14981/3591926963.py:49: SettingWithCopyWarning: \n",
      "A value is trying to be set on a copy of a slice from a DataFrame\n",
      "\n",
      "See the caveats in the documentation: https://pandas.pydata.org/pandas-docs/stable/user_guide/indexing.html#returning-a-view-versus-a-copy\n",
      "  filtered_df.drop(columns=[\"agent_assigned\"], inplace=True)\n"
     ]
    },
    {
     "name": "stdout",
     "output_type": "stream",
     "text": [
      "Assigned to Ebthal Saber,63 Task-based Tasks\n",
      "/home/ec2-user/service_account_key.json\n"
     ]
    },
    {
     "name": "stderr",
     "output_type": "stream",
     "text": [
      "/tmp/ipykernel_14981/3591926963.py:49: SettingWithCopyWarning: \n",
      "A value is trying to be set on a copy of a slice from a DataFrame\n",
      "\n",
      "See the caveats in the documentation: https://pandas.pydata.org/pandas-docs/stable/user_guide/indexing.html#returning-a-view-versus-a-copy\n",
      "  filtered_df.drop(columns=[\"agent_assigned\"], inplace=True)\n"
     ]
    },
    {
     "name": "stdout",
     "output_type": "stream",
     "text": [
      "Assigned to Raneen Ali,0 Task-based Tasks\n",
      "/home/ec2-user/service_account_key.json\n"
     ]
    },
    {
     "name": "stderr",
     "output_type": "stream",
     "text": [
      "/home/ec2-user/SageMaker/git_files/Seif/Seif's_stuff/common_functions.py:285: FutureWarning: The behavior of DataFrame concatenation with empty or all-NA entries is deprecated. In a future version, this will no longer exclude empty or all-NA columns when determining the result dtypes. To retain the old behavior, exclude the relevant entries before the concat operation.\n",
      "  updated_data = pd.concat([existing_data, df], ignore_index=True)\n",
      "/tmp/ipykernel_14981/3591926963.py:49: SettingWithCopyWarning: \n",
      "A value is trying to be set on a copy of a slice from a DataFrame\n",
      "\n",
      "See the caveats in the documentation: https://pandas.pydata.org/pandas-docs/stable/user_guide/indexing.html#returning-a-view-versus-a-copy\n",
      "  filtered_df.drop(columns=[\"agent_assigned\"], inplace=True)\n"
     ]
    },
    {
     "name": "stdout",
     "output_type": "stream",
     "text": [
      "Assigned to Abdelrahman Merghany,64 Task-based Tasks\n",
      "/home/ec2-user/service_account_key.json\n"
     ]
    },
    {
     "name": "stderr",
     "output_type": "stream",
     "text": [
      "/tmp/ipykernel_14981/3591926963.py:49: SettingWithCopyWarning: \n",
      "A value is trying to be set on a copy of a slice from a DataFrame\n",
      "\n",
      "See the caveats in the documentation: https://pandas.pydata.org/pandas-docs/stable/user_guide/indexing.html#returning-a-view-versus-a-copy\n",
      "  filtered_df.drop(columns=[\"agent_assigned\"], inplace=True)\n"
     ]
    },
    {
     "name": "stdout",
     "output_type": "stream",
     "text": [
      "Assigned to Israa Abdelhamid,64 Task-based Tasks\n",
      "/home/ec2-user/service_account_key.json\n"
     ]
    },
    {
     "name": "stderr",
     "output_type": "stream",
     "text": [
      "/tmp/ipykernel_14981/3591926963.py:49: SettingWithCopyWarning: \n",
      "A value is trying to be set on a copy of a slice from a DataFrame\n",
      "\n",
      "See the caveats in the documentation: https://pandas.pydata.org/pandas-docs/stable/user_guide/indexing.html#returning-a-view-versus-a-copy\n",
      "  filtered_df.drop(columns=[\"agent_assigned\"], inplace=True)\n"
     ]
    },
    {
     "name": "stdout",
     "output_type": "stream",
     "text": [
      "Assigned to Nada Saber,0 Task-based Tasks\n",
      "/home/ec2-user/service_account_key.json\n"
     ]
    },
    {
     "name": "stderr",
     "output_type": "stream",
     "text": [
      "/home/ec2-user/SageMaker/git_files/Seif/Seif's_stuff/common_functions.py:285: FutureWarning: The behavior of DataFrame concatenation with empty or all-NA entries is deprecated. In a future version, this will no longer exclude empty or all-NA columns when determining the result dtypes. To retain the old behavior, exclude the relevant entries before the concat operation.\n",
      "  updated_data = pd.concat([existing_data, df], ignore_index=True)\n",
      "/tmp/ipykernel_14981/3591926963.py:49: SettingWithCopyWarning: \n",
      "A value is trying to be set on a copy of a slice from a DataFrame\n",
      "\n",
      "See the caveats in the documentation: https://pandas.pydata.org/pandas-docs/stable/user_guide/indexing.html#returning-a-view-versus-a-copy\n",
      "  filtered_df.drop(columns=[\"agent_assigned\"], inplace=True)\n"
     ]
    },
    {
     "name": "stdout",
     "output_type": "stream",
     "text": [
      "Assigned to Marina Riyad,64 Task-based Tasks\n",
      "/home/ec2-user/service_account_key.json\n"
     ]
    },
    {
     "name": "stderr",
     "output_type": "stream",
     "text": [
      "/home/ec2-user/SageMaker/git_files/Seif/Seif's_stuff/common_functions.py:285: FutureWarning: The behavior of DataFrame concatenation with empty or all-NA entries is deprecated. In a future version, this will no longer exclude empty or all-NA columns when determining the result dtypes. To retain the old behavior, exclude the relevant entries before the concat operation.\n",
      "  updated_data = pd.concat([existing_data, df], ignore_index=True)\n"
     ]
    }
   ],
   "source": [
    "Data = google_sheets(\"POS Campaign | July & August 2025\", \"Main\", \"Get\")\n",
    "\n",
    "task_based_list = get_available_agents(attendance, hour)\n",
    "# Convert Date column\n",
    "Data[\"Date\"] = pd.to_datetime(Data[\"Date\"], format=\"%m/%d/%Y\")\n",
    "# Get today's date (normalized to midnight)\n",
    "today = pd.Timestamp.today().normalize()\n",
    "# Filter for today's rows\n",
    "Data_filtered = Data[Data[\"Date\"] == today]\n",
    "\n",
    "sheet_Data = Data_filtered.copy()\n",
    "sheet_Data.rename(columns={'mobile': 'main_system_id','name': 'retailer_name'},inplace=True)\n",
    "\n",
    "sheet_Data[\"main_system_id\"] = sheet_Data[\"main_system_id\"].astype('Int64').astype(str)\n",
    "# Remove leading '2' if present\n",
    "sheet_Data[\"main_system_id\"] = sheet_Data[\"main_system_id\"].str.replace(r\"^2\", \"\", regex=True)\n",
    "\n",
    "# Drop duplicate main_system_id values (keeping first occurrence)\n",
    "sheet_Data = sheet_Data.drop_duplicates(subset=\"main_system_id\", keep=\"first\")\n",
    "\n",
    "sheet_Data[\"description\"] = (\n",
    "    \"POS Acquisition Marketing - location: \"\n",
    "    + sheet_Data[\"location\"].astype(str)\n",
    "    + \" - campaign:\"\n",
    "    + sheet_Data[\"campaign\"].astype(str)\n",
    ")\n",
    "\n",
    "sheet_Data.drop(columns=[\"location\", \"campaign\", \"Date\"], inplace=True)\n",
    "sheet_Data['Added_at'] = now\n",
    "sheet_Data['project_name'] = \"POS Leads\"\n",
    "name_list = ['Somaya Alrab','Esraa Mohamed','Marina Riyad','Abdelrahman Merghany','Israa Abdelhamid','Ebthal Saber']\n",
    "Pos_leads = assign_data_equal_projects(sheet_Data , name_list)\n",
    "data_for_sql = assign_data_equal_projects(sheet_Data, task_based_list)\n",
    "data_for_sql.rename(columns={'main_system_id': 'offer'},inplace=True)\n",
    "data_for_sql['main_system_id'] = 11111\n",
    "# Check if description column exists before dropping it\n",
    "if \"description\" in data_for_sql.columns:\n",
    "    data_for_sql.drop(columns=[\"description\"], inplace=True)\n",
    "data_for_sql[\"description\"] = \"POS Acquisition Marketing - campaign: \" + Data[\"campaign\"]\n",
    "data_for_sql = data_for_sql[['main_system_id', 'description','offer','agent_assigned']]\n",
    "data_for_sql['dispatched_at'] = now\n",
    "data_for_sql['agent_assigned'] = data_for_sql['agent_assigned'].astype(int) \n",
    "google_sheets(\"Agents - Retailers\", \"Task_based\", \"append\", df=Pos_leads)\n",
    "\n",
    "for i in col_list:\n",
    "    if i == \"Benchmark\":\n",
    "        continue \n",
    "    filtered_df = Pos_leads[Pos_leads[\"agent_assigned\"] == i]\n",
    "    filtered_df.drop(columns=[\"agent_assigned\"], inplace=True)\n",
    "    print(f\"Assigned to {i},{len(filtered_df)} Task-based Tasks\")\n",
    "    google_sheets(i, \"Task_based\", \"append\", df=filtered_df)\n",
    "\n",
    "with engine.connect() as conn:\n",
    "    data_for_sql.to_sql('task_based_am_projects', schema='fintech', con=engine, if_exists='append', chunksize=1000, method='multi', index=False)\n"
   ]
  },
  {
   "cell_type": "code",
   "execution_count": 14,
   "id": "9701cf59-f1d7-4051-816c-13f8c32e1293",
   "metadata": {
    "tags": []
   },
   "outputs": [
    {
     "data": {
      "text/html": [
       "<div>\n",
       "<style scoped>\n",
       "    .dataframe tbody tr th:only-of-type {\n",
       "        vertical-align: middle;\n",
       "    }\n",
       "\n",
       "    .dataframe tbody tr th {\n",
       "        vertical-align: top;\n",
       "    }\n",
       "\n",
       "    .dataframe thead th {\n",
       "        text-align: right;\n",
       "    }\n",
       "</style>\n",
       "<table border=\"1\" class=\"dataframe\">\n",
       "  <thead>\n",
       "    <tr style=\"text-align: right;\">\n",
       "      <th></th>\n",
       "      <th>Date</th>\n",
       "      <th>name</th>\n",
       "      <th>mobile</th>\n",
       "      <th>location</th>\n",
       "      <th>campaign</th>\n",
       "    </tr>\n",
       "  </thead>\n",
       "  <tbody>\n",
       "    <tr>\n",
       "      <th>2509</th>\n",
       "      <td>2025-10-12</td>\n",
       "      <td>Alaa Sayed</td>\n",
       "      <td>201207394811</td>\n",
       "      <td>Alexandria</td>\n",
       "      <td>Alex</td>\n",
       "    </tr>\n",
       "    <tr>\n",
       "      <th>2510</th>\n",
       "      <td>2025-10-12</td>\n",
       "      <td>ابو اسيل ولانا</td>\n",
       "      <td>201223002444</td>\n",
       "      <td>Mansoura</td>\n",
       "      <td>Alex</td>\n",
       "    </tr>\n",
       "    <tr>\n",
       "      <th>2511</th>\n",
       "      <td>2025-10-12</td>\n",
       "      <td>مدحت عزمي ثابت</td>\n",
       "      <td>201141350803</td>\n",
       "      <td>اسيوط مركز صدفا اولاد الياس</td>\n",
       "      <td>Alex</td>\n",
       "    </tr>\n",
       "    <tr>\n",
       "      <th>2512</th>\n",
       "      <td>2025-10-12</td>\n",
       "      <td>صلاح محمد دياب</td>\n",
       "      <td>201066957120</td>\n",
       "      <td>Ismailia</td>\n",
       "      <td>Alex</td>\n",
       "    </tr>\n",
       "    <tr>\n",
       "      <th>2513</th>\n",
       "      <td>2025-10-12</td>\n",
       "      <td>احمد سوهاج</td>\n",
       "      <td>201004092239</td>\n",
       "      <td>جرجا</td>\n",
       "      <td>Alex</td>\n",
       "    </tr>\n",
       "    <tr>\n",
       "      <th>...</th>\n",
       "      <td>...</td>\n",
       "      <td>...</td>\n",
       "      <td>...</td>\n",
       "      <td>...</td>\n",
       "      <td>...</td>\n",
       "    </tr>\n",
       "    <tr>\n",
       "      <th>2889</th>\n",
       "      <td>2025-10-12</td>\n",
       "      <td>دهب عطية ضاحي</td>\n",
       "      <td>201126254690</td>\n",
       "      <td>القاهرة</td>\n",
       "      <td>Cairo &amp; Giza</td>\n",
       "    </tr>\n",
       "    <tr>\n",
       "      <th>2890</th>\n",
       "      <td>2025-10-12</td>\n",
       "      <td>Mohamad Hosny</td>\n",
       "      <td>201117700737</td>\n",
       "      <td>Cairo</td>\n",
       "      <td>Cairo &amp; Giza</td>\n",
       "    </tr>\n",
       "    <tr>\n",
       "      <th>2891</th>\n",
       "      <td>2025-10-12</td>\n",
       "      <td>Ahmed Salem</td>\n",
       "      <td>201116076265</td>\n",
       "      <td>Cairo</td>\n",
       "      <td>Cairo &amp; Giza</td>\n",
       "    </tr>\n",
       "    <tr>\n",
       "      <th>2892</th>\n",
       "      <td>2025-10-12</td>\n",
       "      <td>Shnoda Abdallah</td>\n",
       "      <td>201017139132</td>\n",
       "      <td>Cairo</td>\n",
       "      <td>Cairo &amp; Giza</td>\n",
       "    </tr>\n",
       "    <tr>\n",
       "      <th>2893</th>\n",
       "      <td>2025-10-12</td>\n",
       "      <td>MOohamed M. Nady</td>\n",
       "      <td>201143790578</td>\n",
       "      <td>Giza</td>\n",
       "      <td>Cairo &amp; Giza</td>\n",
       "    </tr>\n",
       "  </tbody>\n",
       "</table>\n",
       "<p>385 rows × 5 columns</p>\n",
       "</div>"
      ],
      "text/plain": [
       "           Date              name        mobile                     location  \\\n",
       "2509 2025-10-12        Alaa Sayed  201207394811                   Alexandria   \n",
       "2510 2025-10-12    ابو اسيل ولانا  201223002444                     Mansoura   \n",
       "2511 2025-10-12    مدحت عزمي ثابت  201141350803  اسيوط مركز صدفا اولاد الياس   \n",
       "2512 2025-10-12    صلاح محمد دياب  201066957120                     Ismailia   \n",
       "2513 2025-10-12        احمد سوهاج  201004092239                         جرجا   \n",
       "...         ...               ...           ...                          ...   \n",
       "2889 2025-10-12     دهب عطية ضاحي  201126254690                      القاهرة   \n",
       "2890 2025-10-12     Mohamad Hosny  201117700737                        Cairo   \n",
       "2891 2025-10-12       Ahmed Salem  201116076265                        Cairo   \n",
       "2892 2025-10-12   Shnoda Abdallah  201017139132                        Cairo   \n",
       "2893 2025-10-12  MOohamed M. Nady  201143790578                         Giza   \n",
       "\n",
       "          campaign  \n",
       "2509          Alex  \n",
       "2510          Alex  \n",
       "2511          Alex  \n",
       "2512          Alex  \n",
       "2513          Alex  \n",
       "...            ...  \n",
       "2889  Cairo & Giza  \n",
       "2890  Cairo & Giza  \n",
       "2891  Cairo & Giza  \n",
       "2892  Cairo & Giza  \n",
       "2893  Cairo & Giza  \n",
       "\n",
       "[385 rows x 5 columns]"
      ]
     },
     "execution_count": 14,
     "metadata": {},
     "output_type": "execute_result"
    }
   ],
   "source": [
    "Data_filtered"
   ]
  },
  {
   "cell_type": "code",
   "execution_count": 15,
   "id": "87316f12-193c-4746-bb67-9688b0c76b04",
   "metadata": {
    "tags": []
   },
   "outputs": [
    {
     "data": {
      "text/html": [
       "<div>\n",
       "<style scoped>\n",
       "    .dataframe tbody tr th:only-of-type {\n",
       "        vertical-align: middle;\n",
       "    }\n",
       "\n",
       "    .dataframe tbody tr th {\n",
       "        vertical-align: top;\n",
       "    }\n",
       "\n",
       "    .dataframe thead th {\n",
       "        text-align: right;\n",
       "    }\n",
       "</style>\n",
       "<table border=\"1\" class=\"dataframe\">\n",
       "  <thead>\n",
       "    <tr style=\"text-align: right;\">\n",
       "      <th></th>\n",
       "      <th>Date</th>\n",
       "      <th>name</th>\n",
       "      <th>mobile</th>\n",
       "      <th>location</th>\n",
       "      <th>campaign</th>\n",
       "    </tr>\n",
       "  </thead>\n",
       "  <tbody>\n",
       "    <tr>\n",
       "      <th>2598</th>\n",
       "      <td>2025-10-12</td>\n",
       "      <td>Hussien Madany Hassan Mahmuod</td>\n",
       "      <td>20974620020</td>\n",
       "      <td>Aswan</td>\n",
       "      <td>Alex</td>\n",
       "    </tr>\n",
       "    <tr>\n",
       "      <th>2824</th>\n",
       "      <td>2025-10-12</td>\n",
       "      <td>ابو فارس الامير ابوحشيش</td>\n",
       "      <td>2032904004</td>\n",
       "      <td>Sohag</td>\n",
       "      <td>Cairo &amp; Giza</td>\n",
       "    </tr>\n",
       "    <tr>\n",
       "      <th>2857</th>\n",
       "      <td>2025-10-12</td>\n",
       "      <td>محمدخلیل</td>\n",
       "      <td>20242107023</td>\n",
       "      <td>Qalyub</td>\n",
       "      <td>Cairo &amp; Giza</td>\n",
       "    </tr>\n",
       "    <tr>\n",
       "      <th>2772</th>\n",
       "      <td>2025-10-12</td>\n",
       "      <td>محمدجبريل ابوالفضل</td>\n",
       "      <td>201288694794</td>\n",
       "      <td>1288694794</td>\n",
       "      <td>Cairo &amp; Giza</td>\n",
       "    </tr>\n",
       "    <tr>\n",
       "      <th>2720</th>\n",
       "      <td>2025-10-12</td>\n",
       "      <td>ابو يوسف الجز</td>\n",
       "      <td>201287997669</td>\n",
       "      <td>Benha</td>\n",
       "      <td>Cairo &amp; Giza</td>\n",
       "    </tr>\n",
       "    <tr>\n",
       "      <th>...</th>\n",
       "      <td>...</td>\n",
       "      <td>...</td>\n",
       "      <td>...</td>\n",
       "      <td>...</td>\n",
       "      <td>...</td>\n",
       "    </tr>\n",
       "    <tr>\n",
       "      <th>2537</th>\n",
       "      <td>2025-10-12</td>\n",
       "      <td>Ahmed Elsharkawy</td>\n",
       "      <td>201000377444</td>\n",
       "      <td>Tanta</td>\n",
       "      <td>Alex</td>\n",
       "    </tr>\n",
       "    <tr>\n",
       "      <th>2752</th>\n",
       "      <td>2025-10-12</td>\n",
       "      <td>الطيب ابوالطيب</td>\n",
       "      <td>201000350107</td>\n",
       "      <td>Zagazig</td>\n",
       "      <td>Cairo &amp; Giza</td>\n",
       "    </tr>\n",
       "    <tr>\n",
       "      <th>2655</th>\n",
       "      <td>2025-10-12</td>\n",
       "      <td>محمدعاشور عيسى</td>\n",
       "      <td>201000271540</td>\n",
       "      <td>Abu el-Matamir el-Bahari</td>\n",
       "      <td>Alex</td>\n",
       "    </tr>\n",
       "    <tr>\n",
       "      <th>2757</th>\n",
       "      <td>2025-10-12</td>\n",
       "      <td>احمد عمر مكرم</td>\n",
       "      <td>#VALUE! (In FIND evaluation, cannot find '20' ...</td>\n",
       "      <td>اسيوط منقباد العدر</td>\n",
       "      <td>Cairo &amp; Giza</td>\n",
       "    </tr>\n",
       "    <tr>\n",
       "      <th>2656</th>\n",
       "      <td>2025-10-12</td>\n",
       "      <td>اتقوا ربنا حرام عليكم بلاش الاعلان في موقع الدين</td>\n",
       "      <td>#VALUE! (In FIND evaluation, cannot find '20' ...</td>\n",
       "      <td>Mecca</td>\n",
       "      <td>Alex</td>\n",
       "    </tr>\n",
       "  </tbody>\n",
       "</table>\n",
       "<p>385 rows × 5 columns</p>\n",
       "</div>"
      ],
      "text/plain": [
       "           Date                                              name  \\\n",
       "2598 2025-10-12                     Hussien Madany Hassan Mahmuod   \n",
       "2824 2025-10-12                           ابو فارس الامير ابوحشيش   \n",
       "2857 2025-10-12                                          محمدخلیل   \n",
       "2772 2025-10-12                                محمدجبريل ابوالفضل   \n",
       "2720 2025-10-12                                     ابو يوسف الجز   \n",
       "...         ...                                               ...   \n",
       "2537 2025-10-12                                  Ahmed Elsharkawy   \n",
       "2752 2025-10-12                                    الطيب ابوالطيب   \n",
       "2655 2025-10-12                                    محمدعاشور عيسى   \n",
       "2757 2025-10-12                                     احمد عمر مكرم   \n",
       "2656 2025-10-12  اتقوا ربنا حرام عليكم بلاش الاعلان في موقع الدين   \n",
       "\n",
       "                                                 mobile  \\\n",
       "2598                                        20974620020   \n",
       "2824                                         2032904004   \n",
       "2857                                        20242107023   \n",
       "2772                                       201288694794   \n",
       "2720                                       201287997669   \n",
       "...                                                 ...   \n",
       "2537                                       201000377444   \n",
       "2752                                       201000350107   \n",
       "2655                                       201000271540   \n",
       "2757  #VALUE! (In FIND evaluation, cannot find '20' ...   \n",
       "2656  #VALUE! (In FIND evaluation, cannot find '20' ...   \n",
       "\n",
       "                      location      campaign  \n",
       "2598                     Aswan          Alex  \n",
       "2824                     Sohag  Cairo & Giza  \n",
       "2857                    Qalyub  Cairo & Giza  \n",
       "2772                1288694794  Cairo & Giza  \n",
       "2720                     Benha  Cairo & Giza  \n",
       "...                        ...           ...  \n",
       "2537                     Tanta          Alex  \n",
       "2752                   Zagazig  Cairo & Giza  \n",
       "2655  Abu el-Matamir el-Bahari          Alex  \n",
       "2757        اسيوط منقباد العدر  Cairo & Giza  \n",
       "2656                     Mecca          Alex  \n",
       "\n",
       "[385 rows x 5 columns]"
      ]
     },
     "execution_count": 15,
     "metadata": {},
     "output_type": "execute_result"
    }
   ],
   "source": [
    "sheet_data = Data_filtered.sort_values(by='mobile', ascending=False)\n",
    "sheet_data"
   ]
  }
 ],
 "metadata": {
  "kernelspec": {
   "display_name": "conda_python3",
   "language": "python",
   "name": "conda_python3"
  },
  "language_info": {
   "codemirror_mode": {
    "name": "ipython",
    "version": 3
   },
   "file_extension": ".py",
   "mimetype": "text/x-python",
   "name": "python",
   "nbconvert_exporter": "python",
   "pygments_lexer": "ipython3",
   "version": "3.10.18"
  }
 },
 "nbformat": 4,
 "nbformat_minor": 5
}
