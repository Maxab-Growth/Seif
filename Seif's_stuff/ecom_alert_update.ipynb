{
 "cells": [
  {
   "cell_type": "code",
   "execution_count": 1,
   "id": "069a627e-e0f3-45cb-a6f3-23e0c28c0238",
   "metadata": {
    "tags": []
   },
   "outputs": [],
   "source": [
    "from common_functions import ret_metabase, google_sheets, upload_dataframe_to_snowflake, snowflake_query, upload_dataframe_to_pg, dwh_query, initialize_env\n",
    "import pandas as pd\n",
    "from datetime import datetime, timedelta\n",
    "import datetime as dt\n",
    "import time\n",
    "import os\n",
    "import boto3\n",
    "import base64\n",
    "from botocore.exceptions import ClientError\n",
    "import json\n",
    "import requests\n",
    "from pathlib import Path\n",
    "from io import StringIO\n",
    "import pandas as pd\n",
    "# import psycopg2\n",
    "import numpy as np\n",
    "import gspread\n",
    "import pytz"
   ]
  },
  {
   "cell_type": "code",
   "execution_count": null,
   "id": "6830e34c-3143-42ef-a924-6ec5bb41421f",
   "metadata": {
    "tags": []
   },
   "outputs": [],
   "source": [
    "dwh_query(\"Egypt\", \"\"\"\n",
    "with thresholds as (\n",
    "select  day_of_week, \n",
    "\t\thour, \n",
    "\t\thalf_hour_label, \n",
    "\t\tmin(order_count) min_count, \n",
    "\t\tmax(order_count) max_count, \n",
    "\t\tmedian(order_count) as median, \n",
    "\t\tmin(case when percentile >= 0.1 then order_count end) as lowest_decile, \n",
    "\t\tmin(case when percentile >= 0.05 then order_count end) as lowest_fifth\n",
    "from (\n",
    "select *, \n",
    "\t\tpercent_rank() over(partition by day_of_week, half_hour_label order by order_count) percentile\n",
    "from (\n",
    "select dayname(so.created_at) as day_of_week, \n",
    "\t   hour(so.created_at) as hour, \n",
    "\t   so.created_at::date as so_date, \n",
    "\t   TO_CHAR( DATEADD(minute,CEIL(DATE_PART(minute, created_at) / 30.0) * 30,DATE_TRUNC(hour, created_at)),'HH24:MI') AS half_hour_label, \n",
    "count(distinct parent_sales_order_id) as order_count\n",
    "from  public.sales_orders so \n",
    "where so.created_at::date between current_date - 60 and current_date \n",
    "group by all)) \n",
    "group by all ), \n",
    "\n",
    "so as (\n",
    "select dayname(so.created_at) as day_of_week, \n",
    "\t   hour(so.created_at) as hour, \n",
    "\t   so.created_at::date as so_date, \n",
    "\t   TO_CHAR( DATEADD(minute,CEIL(DATE_PART(minute, created_at) / 30.0) * 30,DATE_TRUNC(hour, created_at)),'HH24:MI') AS half_hour_label, \n",
    "count(distinct parent_sales_order_id) as order_count\n",
    "from  public.sales_orders so \n",
    "where so.created_at::date = current_date \n",
    "group by all) \n",
    "\n",
    "select t.*, \n",
    "\t\torder_count\n",
    "from thresholds t \n",
    "left join so on t.day_of_week = so.day_of_week and t.half_hour_label = so.half_hour_label\n",
    "where t.day_of_week = dayname(current_date)\n",
    "order by t.hour, so.half_hour_label\n",
    "\"\"\", \"read\", columns=[], conn=None)"
   ]
  },
  {
   "cell_type": "code",
   "execution_count": null,
   "id": "58177a31-1550-49c8-b86e-45a3b077d6c0",
   "metadata": {},
   "outputs": [],
   "source": []
  }
 ],
 "metadata": {
  "kernelspec": {
   "display_name": "conda_python3",
   "language": "python",
   "name": "conda_python3"
  },
  "language_info": {
   "codemirror_mode": {
    "name": "ipython",
    "version": 3
   },
   "file_extension": ".py",
   "mimetype": "text/x-python",
   "name": "python",
   "nbconvert_exporter": "python",
   "pygments_lexer": "ipython3",
   "version": "3.10.18"
  }
 },
 "nbformat": 4,
 "nbformat_minor": 5
}
