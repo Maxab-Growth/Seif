{
 "cells": [
  {
   "cell_type": "code",
   "execution_count": 24,
   "id": "470e4083-8ee9-4221-8161-71cf19452077",
   "metadata": {
    "tags": []
   },
   "outputs": [],
   "source": [
    "import json\n",
    "import requests\n",
    "from common_functions import ret_metabase\n",
    "import tempfile\n",
    "import os\n",
    "# WhatsApp API credentials\n",
    "ACCESS_TOKEN = \"EAAJUOAC5laEBPMGI74eGPYFDaU1er4NFoPcjtuKZAeckOeQcE2GBXTh4pqz0C8lriQB8ha7yAduipLrLwJIGmknHBCIuO2dv2wx3T9h84R3cupLL3u2b4IYVqjmUZBdPgwvGWLGkUYZC0z25trxGkpDRijNxZBBzlkZBbPWjAKteV51Cc3ThtsrYvUUa5Fb0rKgZDZD\"\n",
    "PHONE_NUMBER_ID = \"566689589857674\"\n",
    "WHATSAPP_API_URL = f\"https://graph.facebook.com/v17.0/{PHONE_NUMBER_ID}/messages\"\n",
    "WHATSAPP_API_URL = f\"https://graph.facebook.com/v17.0/{PHONE_NUMBER_ID}/messages\"\n",
    "WHATSAPP_MEDIA_URL = f\"https://graph.facebook.com/v17.0/{PHONE_NUMBER_ID}/media\"\n",
    "\n",
    "TO_NUMBER = \"971554512935\"  # e.g., \"971554512935\"\n",
    "\n",
    "def send_whatsapp_report_file():\n",
    "    # 1. Get the data\n",
    "    data = ret_metabase(\"Egypt\", 61992)\n",
    "    print(\"DataFrame shape:\", data.shape)\n",
    "    print(\"DataFrame head:\\n\", data.head())\n",
    "    if data.empty:\n",
    "        print(\"No data to send.\")\n",
    "        return\n",
    "\n",
    "    # 2. Save DataFrame to a temporary CSV file\n",
    "    with tempfile.NamedTemporaryFile(suffix=\".xlsx\", delete=False) as tmp:\n",
    "        data.to_excel(tmp.name, index=False)\n",
    "        file_path = tmp.name\n",
    "\n",
    "    # 3. Upload the file to WhatsApp (media endpoint)\n",
    "    headers = {\"Authorization\": f\"Bearer {ACCESS_TOKEN}\"}\n",
    "    files = {\n",
    "        \"file\": (\"report.xlsx\", open(file_path, \"rb\"), \"application/vnd.openxmlformats-officedocument.spreadsheetml.sheet\")\n",
    "    }\n",
    "    data_payload = {\"messaging_product\": \"whatsapp\"}\n",
    "    media_response = requests.post(WHATSAPP_MEDIA_URL, headers=headers, files=files, data=data_payload)\n",
    "    print(\"Media upload response:\", media_response.status_code, media_response.text)\n",
    "    media_response.raise_for_status()\n",
    "    media_id = media_response.json()[\"id\"]\n",
    "\n",
    "    # 4. Send the document message\n",
    "    payload = {\n",
    "        \"messaging_product\": \"whatsapp\",\n",
    "        \"to\": TO_NUMBER,\n",
    "        \"type\": \"document\",\n",
    "        \"document\": {\n",
    "            \"id\": media_id,\n",
    "            \"filename\": \"daily_report.csv\"\n",
    "        }\n",
    "    }\n",
    "    doc_response = requests.post(WHATSAPP_API_URL, headers=headers, json=payload)\n",
    "    print(\"Document message response:\", doc_response.status_code, doc_response.text)\n",
    "    doc_response.raise_for_status()\n",
    "\n",
    "    # 5. Clean up the temp file\n",
    "    os.remove(file_path)"
   ]
  },
  {
   "cell_type": "code",
   "execution_count": 6,
   "id": "dba57c34-8a29-45d7-b813-060372952c1e",
   "metadata": {
    "tags": []
   },
   "outputs": [
    {
     "name": "stderr",
     "output_type": "stream",
     "text": [
      "/home/ec2-user/anaconda3/envs/python3/lib/python3.10/site-packages/pandas/core/computation/expressions.py:21: UserWarning: Pandas requires version '2.8.4' or newer of 'numexpr' (version '2.7.3' currently installed).\n",
      "  from pandas.core.computation.check import NUMEXPR_INSTALLED\n"
     ]
    },
    {
     "name": "stdout",
     "output_type": "stream",
     "text": [
      "/home/ec2-user/service_account_key.json\n"
     ]
    }
   ],
   "source": [
    "data = ret_metabase(\"Egypt\", 61992)"
   ]
  },
  {
   "cell_type": "code",
   "execution_count": 25,
   "id": "5aaf2d23-eb5e-4892-b757-bdf2dd86b2ce",
   "metadata": {
    "tags": []
   },
   "outputs": [
    {
     "name": "stdout",
     "output_type": "stream",
     "text": [
      "/home/ec2-user/service_account_key.json\n",
      "DataFrame shape: (19, 5)\n",
      "DataFrame head:\n",
      "   تاريخ اليوم  كود التاجر  رقم التليفون         سحب      ايداع\n",
      "0  2025-07-15      731668    1010105276    11110.00        0.0\n",
      "1  2025-07-15      880885    1222323498        0.00  3900000.0\n",
      "2  2025-07-15      880921    1010105297  5560690.99        0.0\n",
      "3  2025-07-15      882475    1111147632  2800260.00        0.0\n",
      "4  2025-07-15      880884    1029272337   680453.25        0.0\n",
      "Media upload response: 200 {\"id\":\"757944846795751\"}\n",
      "Document message response: 200 {\"messaging_product\":\"whatsapp\",\"contacts\":[{\"input\":\"971554512935\",\"wa_id\":\"971554512935\"}],\"messages\":[{\"id\":\"wamid.HBgMOTcxNTU0NTEyOTM1FQIAERgSRURDRTg2QkVCNkU1RTlBMEE5AA==\"}]}\n"
     ]
    }
   ],
   "source": [
    "send_whatsapp_report_file()"
   ]
  }
 ],
 "metadata": {
  "kernelspec": {
   "display_name": "conda_python3",
   "language": "python",
   "name": "conda_python3"
  },
  "language_info": {
   "codemirror_mode": {
    "name": "ipython",
    "version": 3
   },
   "file_extension": ".py",
   "mimetype": "text/x-python",
   "name": "python",
   "nbconvert_exporter": "python",
   "pygments_lexer": "ipython3",
   "version": "3.10.18"
  }
 },
 "nbformat": 4,
 "nbformat_minor": 5
}
