{
 "cells": [
  {
   "cell_type": "markdown",
   "id": "089b3961-a055-4c6c-9e19-1e727084f8c6",
   "metadata": {},
   "source": [
    "## Actual Working Script"
   ]
  },
  {
   "cell_type": "code",
   "execution_count": 1,
   "id": "3555583a-a461-4dd9-a5c3-8c02aaacf1b4",
   "metadata": {
    "collapsed": true,
    "jupyter": {
     "outputs_hidden": true
    },
    "tags": []
   },
   "outputs": [
    {
     "name": "stdout",
     "output_type": "stream",
     "text": [
      "Requirement already satisfied: gspread in /home/ec2-user/anaconda3/envs/python3/lib/python3.10/site-packages (6.2.1)\n",
      "Requirement already satisfied: google-auth>=1.12.0 in /home/ec2-user/anaconda3/envs/python3/lib/python3.10/site-packages (from gspread) (2.40.3)\n",
      "Requirement already satisfied: google-auth-oauthlib>=0.4.1 in /home/ec2-user/anaconda3/envs/python3/lib/python3.10/site-packages (from gspread) (1.2.2)\n",
      "Requirement already satisfied: cachetools<6.0,>=2.0.0 in /home/ec2-user/anaconda3/envs/python3/lib/python3.10/site-packages (from google-auth>=1.12.0->gspread) (5.5.2)\n",
      "Requirement already satisfied: pyasn1-modules>=0.2.1 in /home/ec2-user/anaconda3/envs/python3/lib/python3.10/site-packages (from google-auth>=1.12.0->gspread) (0.4.2)\n",
      "Requirement already satisfied: rsa<5,>=3.1.4 in /home/ec2-user/anaconda3/envs/python3/lib/python3.10/site-packages (from google-auth>=1.12.0->gspread) (4.7.2)\n",
      "Requirement already satisfied: pyasn1>=0.1.3 in /home/ec2-user/anaconda3/envs/python3/lib/python3.10/site-packages (from rsa<5,>=3.1.4->google-auth>=1.12.0->gspread) (0.6.1)\n",
      "Requirement already satisfied: requests-oauthlib>=0.7.0 in /home/ec2-user/anaconda3/envs/python3/lib/python3.10/site-packages (from google-auth-oauthlib>=0.4.1->gspread) (2.0.0)\n",
      "Requirement already satisfied: oauthlib>=3.0.0 in /home/ec2-user/anaconda3/envs/python3/lib/python3.10/site-packages (from requests-oauthlib>=0.7.0->google-auth-oauthlib>=0.4.1->gspread) (3.3.1)\n",
      "Requirement already satisfied: requests>=2.0.0 in /home/ec2-user/anaconda3/envs/python3/lib/python3.10/site-packages (from requests-oauthlib>=0.7.0->google-auth-oauthlib>=0.4.1->gspread) (2.32.4)\n",
      "Requirement already satisfied: charset_normalizer<4,>=2 in /home/ec2-user/anaconda3/envs/python3/lib/python3.10/site-packages (from requests>=2.0.0->requests-oauthlib>=0.7.0->google-auth-oauthlib>=0.4.1->gspread) (3.4.2)\n",
      "Requirement already satisfied: idna<4,>=2.5 in /home/ec2-user/anaconda3/envs/python3/lib/python3.10/site-packages (from requests>=2.0.0->requests-oauthlib>=0.7.0->google-auth-oauthlib>=0.4.1->gspread) (3.10)\n",
      "Requirement already satisfied: urllib3<3,>=1.21.1 in /home/ec2-user/anaconda3/envs/python3/lib/python3.10/site-packages (from requests>=2.0.0->requests-oauthlib>=0.7.0->google-auth-oauthlib>=0.4.1->gspread) (2.5.0)\n",
      "Requirement already satisfied: certifi>=2017.4.17 in /home/ec2-user/anaconda3/envs/python3/lib/python3.10/site-packages (from requests>=2.0.0->requests-oauthlib>=0.7.0->google-auth-oauthlib>=0.4.1->gspread) (2025.8.3)\n",
      "Requirement already satisfied: oauth2client in /home/ec2-user/anaconda3/envs/python3/lib/python3.10/site-packages (4.1.3)\n",
      "Requirement already satisfied: httplib2>=0.9.1 in /home/ec2-user/anaconda3/envs/python3/lib/python3.10/site-packages (from oauth2client) (0.30.0)\n",
      "Requirement already satisfied: pyasn1>=0.1.7 in /home/ec2-user/anaconda3/envs/python3/lib/python3.10/site-packages (from oauth2client) (0.6.1)\n",
      "Requirement already satisfied: pyasn1-modules>=0.0.5 in /home/ec2-user/anaconda3/envs/python3/lib/python3.10/site-packages (from oauth2client) (0.4.2)\n",
      "Requirement already satisfied: rsa>=3.1.4 in /home/ec2-user/anaconda3/envs/python3/lib/python3.10/site-packages (from oauth2client) (4.7.2)\n",
      "Requirement already satisfied: six>=1.6.1 in /home/ec2-user/anaconda3/envs/python3/lib/python3.10/site-packages (from oauth2client) (1.17.0)\n",
      "Requirement already satisfied: pyparsing<4,>=3.0.4 in /home/ec2-user/anaconda3/envs/python3/lib/python3.10/site-packages (from httplib2>=0.9.1->oauth2client) (3.2.3)\n",
      "Requirement already satisfied: snowflake-connector-python in /home/ec2-user/anaconda3/envs/python3/lib/python3.10/site-packages (3.17.3)\n",
      "Requirement already satisfied: asn1crypto<2.0.0,>0.24.0 in /home/ec2-user/anaconda3/envs/python3/lib/python3.10/site-packages (from snowflake-connector-python) (1.5.1)\n",
      "Requirement already satisfied: boto3>=1.24 in /home/ec2-user/anaconda3/envs/python3/lib/python3.10/site-packages (from snowflake-connector-python) (1.40.16)\n",
      "Requirement already satisfied: botocore>=1.24 in /home/ec2-user/anaconda3/envs/python3/lib/python3.10/site-packages (from snowflake-connector-python) (1.40.16)\n",
      "Requirement already satisfied: cffi<2.0.0,>=1.9 in /home/ec2-user/anaconda3/envs/python3/lib/python3.10/site-packages (from snowflake-connector-python) (1.17.1)\n",
      "Requirement already satisfied: cryptography>=3.1.0 in /home/ec2-user/anaconda3/envs/python3/lib/python3.10/site-packages (from snowflake-connector-python) (45.0.5)\n",
      "Requirement already satisfied: pyOpenSSL<26.0.0,>=22.0.0 in /home/ec2-user/anaconda3/envs/python3/lib/python3.10/site-packages (from snowflake-connector-python) (25.1.0)\n",
      "Requirement already satisfied: pyjwt<3.0.0 in /home/ec2-user/anaconda3/envs/python3/lib/python3.10/site-packages (from snowflake-connector-python) (2.10.1)\n",
      "Requirement already satisfied: pytz in /home/ec2-user/anaconda3/envs/python3/lib/python3.10/site-packages (from snowflake-connector-python) (2024.1)\n",
      "Requirement already satisfied: requests<3.0.0 in /home/ec2-user/anaconda3/envs/python3/lib/python3.10/site-packages (from snowflake-connector-python) (2.32.4)\n",
      "Requirement already satisfied: packaging in /home/ec2-user/anaconda3/envs/python3/lib/python3.10/site-packages (from snowflake-connector-python) (24.2)\n",
      "Requirement already satisfied: charset_normalizer<4,>=2 in /home/ec2-user/anaconda3/envs/python3/lib/python3.10/site-packages (from snowflake-connector-python) (3.4.2)\n",
      "Requirement already satisfied: idna<4,>=2.5 in /home/ec2-user/anaconda3/envs/python3/lib/python3.10/site-packages (from snowflake-connector-python) (3.10)\n",
      "Requirement already satisfied: certifi>=2017.4.17 in /home/ec2-user/anaconda3/envs/python3/lib/python3.10/site-packages (from snowflake-connector-python) (2025.8.3)\n",
      "Requirement already satisfied: typing_extensions<5,>=4.3 in /home/ec2-user/anaconda3/envs/python3/lib/python3.10/site-packages (from snowflake-connector-python) (4.14.1)\n",
      "Requirement already satisfied: filelock<4,>=3.5 in /home/ec2-user/anaconda3/envs/python3/lib/python3.10/site-packages (from snowflake-connector-python) (3.16.1)\n",
      "Requirement already satisfied: sortedcontainers>=2.4.0 in /home/ec2-user/anaconda3/envs/python3/lib/python3.10/site-packages (from snowflake-connector-python) (2.4.0)\n",
      "Requirement already satisfied: platformdirs<5.0.0,>=2.6.0 in /home/ec2-user/anaconda3/envs/python3/lib/python3.10/site-packages (from snowflake-connector-python) (4.3.8)\n",
      "Requirement already satisfied: tomlkit in /home/ec2-user/anaconda3/envs/python3/lib/python3.10/site-packages (from snowflake-connector-python) (0.13.3)\n",
      "Requirement already satisfied: pycparser in /home/ec2-user/anaconda3/envs/python3/lib/python3.10/site-packages (from cffi<2.0.0,>=1.9->snowflake-connector-python) (2.22)\n",
      "Requirement already satisfied: urllib3<3,>=1.21.1 in /home/ec2-user/anaconda3/envs/python3/lib/python3.10/site-packages (from requests<3.0.0->snowflake-connector-python) (2.5.0)\n",
      "Requirement already satisfied: jmespath<2.0.0,>=0.7.1 in /home/ec2-user/anaconda3/envs/python3/lib/python3.10/site-packages (from boto3>=1.24->snowflake-connector-python) (1.0.1)\n",
      "Requirement already satisfied: s3transfer<0.14.0,>=0.13.0 in /home/ec2-user/anaconda3/envs/python3/lib/python3.10/site-packages (from boto3>=1.24->snowflake-connector-python) (0.13.1)\n",
      "Requirement already satisfied: python-dateutil<3.0.0,>=2.1 in /home/ec2-user/anaconda3/envs/python3/lib/python3.10/site-packages (from botocore>=1.24->snowflake-connector-python) (2.9.0.post0)\n",
      "Requirement already satisfied: six>=1.5 in /home/ec2-user/anaconda3/envs/python3/lib/python3.10/site-packages (from python-dateutil<3.0.0,>=2.1->botocore>=1.24->snowflake-connector-python) (1.17.0)\n",
      "Collecting snowflake-snowpark-python\n",
      "  Downloading snowflake_snowpark_python-1.38.0-py3-none-any.whl.metadata (159 kB)\n",
      "Requirement already satisfied: setuptools>=40.6.0 in /home/ec2-user/anaconda3/envs/python3/lib/python3.10/site-packages (from snowflake-snowpark-python) (80.9.0)\n",
      "Requirement already satisfied: wheel in /home/ec2-user/anaconda3/envs/python3/lib/python3.10/site-packages (from snowflake-snowpark-python) (0.45.1)\n",
      "Requirement already satisfied: snowflake-connector-python<4.0.0,>=3.14.0 in /home/ec2-user/anaconda3/envs/python3/lib/python3.10/site-packages (from snowflake-snowpark-python) (3.17.3)\n",
      "Requirement already satisfied: typing-extensions<5.0.0,>=4.1.0 in /home/ec2-user/anaconda3/envs/python3/lib/python3.10/site-packages (from snowflake-snowpark-python) (4.14.1)\n",
      "Requirement already satisfied: pyyaml in /home/ec2-user/anaconda3/envs/python3/lib/python3.10/site-packages (from snowflake-snowpark-python) (6.0.2)\n",
      "Requirement already satisfied: cloudpickle!=2.1.0,!=2.2.0,<=3.1.1,>=1.6.0 in /home/ec2-user/anaconda3/envs/python3/lib/python3.10/site-packages (from snowflake-snowpark-python) (3.1.1)\n",
      "Requirement already satisfied: protobuf<6.32,>=3.20 in /home/ec2-user/anaconda3/envs/python3/lib/python3.10/site-packages (from snowflake-snowpark-python) (6.31.1)\n",
      "Requirement already satisfied: python-dateutil in /home/ec2-user/anaconda3/envs/python3/lib/python3.10/site-packages (from snowflake-snowpark-python) (2.9.0.post0)\n",
      "Collecting tzlocal (from snowflake-snowpark-python)\n",
      "  Downloading tzlocal-5.3.1-py3-none-any.whl.metadata (7.6 kB)\n",
      "Requirement already satisfied: asn1crypto<2.0.0,>0.24.0 in /home/ec2-user/anaconda3/envs/python3/lib/python3.10/site-packages (from snowflake-connector-python<4.0.0,>=3.14.0->snowflake-snowpark-python) (1.5.1)\n",
      "Requirement already satisfied: boto3>=1.24 in /home/ec2-user/anaconda3/envs/python3/lib/python3.10/site-packages (from snowflake-connector-python<4.0.0,>=3.14.0->snowflake-snowpark-python) (1.40.16)\n",
      "Requirement already satisfied: botocore>=1.24 in /home/ec2-user/anaconda3/envs/python3/lib/python3.10/site-packages (from snowflake-connector-python<4.0.0,>=3.14.0->snowflake-snowpark-python) (1.40.16)\n",
      "Requirement already satisfied: cffi<2.0.0,>=1.9 in /home/ec2-user/anaconda3/envs/python3/lib/python3.10/site-packages (from snowflake-connector-python<4.0.0,>=3.14.0->snowflake-snowpark-python) (1.17.1)\n",
      "Requirement already satisfied: cryptography>=3.1.0 in /home/ec2-user/anaconda3/envs/python3/lib/python3.10/site-packages (from snowflake-connector-python<4.0.0,>=3.14.0->snowflake-snowpark-python) (45.0.5)\n",
      "Requirement already satisfied: pyOpenSSL<26.0.0,>=22.0.0 in /home/ec2-user/anaconda3/envs/python3/lib/python3.10/site-packages (from snowflake-connector-python<4.0.0,>=3.14.0->snowflake-snowpark-python) (25.1.0)\n",
      "Requirement already satisfied: pyjwt<3.0.0 in /home/ec2-user/anaconda3/envs/python3/lib/python3.10/site-packages (from snowflake-connector-python<4.0.0,>=3.14.0->snowflake-snowpark-python) (2.10.1)\n",
      "Requirement already satisfied: pytz in /home/ec2-user/anaconda3/envs/python3/lib/python3.10/site-packages (from snowflake-connector-python<4.0.0,>=3.14.0->snowflake-snowpark-python) (2024.1)\n",
      "Requirement already satisfied: requests<3.0.0 in /home/ec2-user/anaconda3/envs/python3/lib/python3.10/site-packages (from snowflake-connector-python<4.0.0,>=3.14.0->snowflake-snowpark-python) (2.32.4)\n",
      "Requirement already satisfied: packaging in /home/ec2-user/anaconda3/envs/python3/lib/python3.10/site-packages (from snowflake-connector-python<4.0.0,>=3.14.0->snowflake-snowpark-python) (24.2)\n",
      "Requirement already satisfied: charset_normalizer<4,>=2 in /home/ec2-user/anaconda3/envs/python3/lib/python3.10/site-packages (from snowflake-connector-python<4.0.0,>=3.14.0->snowflake-snowpark-python) (3.4.2)\n",
      "Requirement already satisfied: idna<4,>=2.5 in /home/ec2-user/anaconda3/envs/python3/lib/python3.10/site-packages (from snowflake-connector-python<4.0.0,>=3.14.0->snowflake-snowpark-python) (3.10)\n",
      "Requirement already satisfied: certifi>=2017.4.17 in /home/ec2-user/anaconda3/envs/python3/lib/python3.10/site-packages (from snowflake-connector-python<4.0.0,>=3.14.0->snowflake-snowpark-python) (2025.8.3)\n",
      "Requirement already satisfied: filelock<4,>=3.5 in /home/ec2-user/anaconda3/envs/python3/lib/python3.10/site-packages (from snowflake-connector-python<4.0.0,>=3.14.0->snowflake-snowpark-python) (3.16.1)\n",
      "Requirement already satisfied: sortedcontainers>=2.4.0 in /home/ec2-user/anaconda3/envs/python3/lib/python3.10/site-packages (from snowflake-connector-python<4.0.0,>=3.14.0->snowflake-snowpark-python) (2.4.0)\n",
      "Requirement already satisfied: platformdirs<5.0.0,>=2.6.0 in /home/ec2-user/anaconda3/envs/python3/lib/python3.10/site-packages (from snowflake-connector-python<4.0.0,>=3.14.0->snowflake-snowpark-python) (4.3.8)\n",
      "Requirement already satisfied: tomlkit in /home/ec2-user/anaconda3/envs/python3/lib/python3.10/site-packages (from snowflake-connector-python<4.0.0,>=3.14.0->snowflake-snowpark-python) (0.13.3)\n",
      "Requirement already satisfied: pycparser in /home/ec2-user/anaconda3/envs/python3/lib/python3.10/site-packages (from cffi<2.0.0,>=1.9->snowflake-connector-python<4.0.0,>=3.14.0->snowflake-snowpark-python) (2.22)\n",
      "Requirement already satisfied: urllib3<3,>=1.21.1 in /home/ec2-user/anaconda3/envs/python3/lib/python3.10/site-packages (from requests<3.0.0->snowflake-connector-python<4.0.0,>=3.14.0->snowflake-snowpark-python) (2.5.0)\n",
      "Requirement already satisfied: jmespath<2.0.0,>=0.7.1 in /home/ec2-user/anaconda3/envs/python3/lib/python3.10/site-packages (from boto3>=1.24->snowflake-connector-python<4.0.0,>=3.14.0->snowflake-snowpark-python) (1.0.1)\n",
      "Requirement already satisfied: s3transfer<0.14.0,>=0.13.0 in /home/ec2-user/anaconda3/envs/python3/lib/python3.10/site-packages (from boto3>=1.24->snowflake-connector-python<4.0.0,>=3.14.0->snowflake-snowpark-python) (0.13.1)\n",
      "Requirement already satisfied: six>=1.5 in /home/ec2-user/anaconda3/envs/python3/lib/python3.10/site-packages (from python-dateutil->snowflake-snowpark-python) (1.17.0)\n",
      "Downloading snowflake_snowpark_python-1.38.0-py3-none-any.whl (1.7 MB)\n",
      "\u001b[2K   \u001b[90m━━━━━━━━━━━━━━━━━━━━━━━━━━━━━━━━━━━━━━━━\u001b[0m \u001b[32m1.7/1.7 MB\u001b[0m \u001b[31m68.6 MB/s\u001b[0m  \u001b[33m0:00:00\u001b[0m\n",
      "\u001b[?25hDownloading tzlocal-5.3.1-py3-none-any.whl (18 kB)\n",
      "Installing collected packages: tzlocal, snowflake-snowpark-python\n",
      "\u001b[2K   \u001b[90m━━━━━━━━━━━━━━━━━━━━━━━━━━━━━━━━━━━━━━━━\u001b[0m \u001b[32m2/2\u001b[0m [snowflake-snowpark-python]e-snowpark-python]\n",
      "\u001b[1A\u001b[2KSuccessfully installed snowflake-snowpark-python-1.38.0 tzlocal-5.3.1\n",
      "Requirement already satisfied: psycopg2 in /home/ec2-user/anaconda3/envs/python3/lib/python3.10/site-packages (2.9.10)\n",
      "Requirement already satisfied: sqlalchemy in /home/ec2-user/anaconda3/envs/python3/lib/python3.10/site-packages (2.0.42)\n",
      "Collecting sqlalchemy\n",
      "  Downloading sqlalchemy-2.0.43-cp310-cp310-manylinux_2_17_x86_64.manylinux2014_x86_64.whl.metadata (9.6 kB)\n",
      "Requirement already satisfied: greenlet>=1 in /home/ec2-user/anaconda3/envs/python3/lib/python3.10/site-packages (from sqlalchemy) (3.2.3)\n",
      "Requirement already satisfied: typing-extensions>=4.6.0 in /home/ec2-user/anaconda3/envs/python3/lib/python3.10/site-packages (from sqlalchemy) (4.14.1)\n",
      "Downloading sqlalchemy-2.0.43-cp310-cp310-manylinux_2_17_x86_64.manylinux2014_x86_64.whl (3.2 MB)\n",
      "\u001b[2K   \u001b[90m━━━━━━━━━━━━━━━━━━━━━━━━━━━━━━━━━━━━━━━━\u001b[0m \u001b[32m3.2/3.2 MB\u001b[0m \u001b[31m50.6 MB/s\u001b[0m  \u001b[33m0:00:00\u001b[0m\n",
      "\u001b[?25hInstalling collected packages: sqlalchemy\n",
      "  Attempting uninstall: sqlalchemy\n",
      "    Found existing installation: SQLAlchemy 2.0.42\n",
      "    Uninstalling SQLAlchemy-2.0.42:\n",
      "      Successfully uninstalled SQLAlchemy-2.0.42\n",
      "Successfully installed sqlalchemy-2.0.43\n",
      "Collecting df2gspread\n",
      "  Downloading df2gspread-1.0.4.tar.gz (11 kB)\n",
      "  Preparing metadata (setup.py) ... \u001b[?25ldone\n",
      "\u001b[?25hCollecting argparse>=1.3.0 (from df2gspread)\n",
      "  Downloading argparse-1.4.0-py2.py3-none-any.whl.metadata (2.8 kB)\n",
      "Collecting google-api-python-client==1.6.7 (from df2gspread)\n",
      "  Downloading google_api_python_client-1.6.7-py2.py3-none-any.whl.metadata (1.2 kB)\n",
      "Requirement already satisfied: gspread>=2.1.1 in /home/ec2-user/anaconda3/envs/python3/lib/python3.10/site-packages (from df2gspread) (6.2.1)\n",
      "Requirement already satisfied: oauth2client<5.0.0dev,>=1.5.0 in /home/ec2-user/anaconda3/envs/python3/lib/python3.10/site-packages (from df2gspread) (4.1.3)\n",
      "Requirement already satisfied: pandas in /home/ec2-user/anaconda3/envs/python3/lib/python3.10/site-packages (from df2gspread) (2.2.3)\n",
      "Requirement already satisfied: httplib2<1dev,>=0.9.2 in /home/ec2-user/anaconda3/envs/python3/lib/python3.10/site-packages (from google-api-python-client==1.6.7->df2gspread) (0.30.0)\n",
      "Requirement already satisfied: six<2dev,>=1.6.1 in /home/ec2-user/anaconda3/envs/python3/lib/python3.10/site-packages (from google-api-python-client==1.6.7->df2gspread) (1.17.0)\n",
      "Collecting uritemplate<4dev,>=3.0.0 (from google-api-python-client==1.6.7->df2gspread)\n",
      "  Downloading uritemplate-3.0.1-py2.py3-none-any.whl.metadata (4.6 kB)\n",
      "Requirement already satisfied: pyparsing<4,>=3.0.4 in /home/ec2-user/anaconda3/envs/python3/lib/python3.10/site-packages (from httplib2<1dev,>=0.9.2->google-api-python-client==1.6.7->df2gspread) (3.2.3)\n",
      "Requirement already satisfied: pyasn1>=0.1.7 in /home/ec2-user/anaconda3/envs/python3/lib/python3.10/site-packages (from oauth2client<5.0.0dev,>=1.5.0->df2gspread) (0.6.1)\n",
      "Requirement already satisfied: pyasn1-modules>=0.0.5 in /home/ec2-user/anaconda3/envs/python3/lib/python3.10/site-packages (from oauth2client<5.0.0dev,>=1.5.0->df2gspread) (0.4.2)\n",
      "Requirement already satisfied: rsa>=3.1.4 in /home/ec2-user/anaconda3/envs/python3/lib/python3.10/site-packages (from oauth2client<5.0.0dev,>=1.5.0->df2gspread) (4.7.2)\n",
      "Requirement already satisfied: google-auth>=1.12.0 in /home/ec2-user/anaconda3/envs/python3/lib/python3.10/site-packages (from gspread>=2.1.1->df2gspread) (2.40.3)\n",
      "Requirement already satisfied: google-auth-oauthlib>=0.4.1 in /home/ec2-user/anaconda3/envs/python3/lib/python3.10/site-packages (from gspread>=2.1.1->df2gspread) (1.2.2)\n",
      "Requirement already satisfied: cachetools<6.0,>=2.0.0 in /home/ec2-user/anaconda3/envs/python3/lib/python3.10/site-packages (from google-auth>=1.12.0->gspread>=2.1.1->df2gspread) (5.5.2)\n",
      "Requirement already satisfied: requests-oauthlib>=0.7.0 in /home/ec2-user/anaconda3/envs/python3/lib/python3.10/site-packages (from google-auth-oauthlib>=0.4.1->gspread>=2.1.1->df2gspread) (2.0.0)\n",
      "Requirement already satisfied: oauthlib>=3.0.0 in /home/ec2-user/anaconda3/envs/python3/lib/python3.10/site-packages (from requests-oauthlib>=0.7.0->google-auth-oauthlib>=0.4.1->gspread>=2.1.1->df2gspread) (3.3.1)\n",
      "Requirement already satisfied: requests>=2.0.0 in /home/ec2-user/anaconda3/envs/python3/lib/python3.10/site-packages (from requests-oauthlib>=0.7.0->google-auth-oauthlib>=0.4.1->gspread>=2.1.1->df2gspread) (2.32.4)\n",
      "Requirement already satisfied: charset_normalizer<4,>=2 in /home/ec2-user/anaconda3/envs/python3/lib/python3.10/site-packages (from requests>=2.0.0->requests-oauthlib>=0.7.0->google-auth-oauthlib>=0.4.1->gspread>=2.1.1->df2gspread) (3.4.2)\n",
      "Requirement already satisfied: idna<4,>=2.5 in /home/ec2-user/anaconda3/envs/python3/lib/python3.10/site-packages (from requests>=2.0.0->requests-oauthlib>=0.7.0->google-auth-oauthlib>=0.4.1->gspread>=2.1.1->df2gspread) (3.10)\n",
      "Requirement already satisfied: urllib3<3,>=1.21.1 in /home/ec2-user/anaconda3/envs/python3/lib/python3.10/site-packages (from requests>=2.0.0->requests-oauthlib>=0.7.0->google-auth-oauthlib>=0.4.1->gspread>=2.1.1->df2gspread) (2.5.0)\n",
      "Requirement already satisfied: certifi>=2017.4.17 in /home/ec2-user/anaconda3/envs/python3/lib/python3.10/site-packages (from requests>=2.0.0->requests-oauthlib>=0.7.0->google-auth-oauthlib>=0.4.1->gspread>=2.1.1->df2gspread) (2025.8.3)\n",
      "Requirement already satisfied: numpy>=1.22.4 in /home/ec2-user/anaconda3/envs/python3/lib/python3.10/site-packages (from pandas->df2gspread) (1.26.4)\n",
      "Requirement already satisfied: python-dateutil>=2.8.2 in /home/ec2-user/anaconda3/envs/python3/lib/python3.10/site-packages (from pandas->df2gspread) (2.9.0.post0)\n",
      "Requirement already satisfied: pytz>=2020.1 in /home/ec2-user/anaconda3/envs/python3/lib/python3.10/site-packages (from pandas->df2gspread) (2024.1)\n",
      "Requirement already satisfied: tzdata>=2022.7 in /home/ec2-user/anaconda3/envs/python3/lib/python3.10/site-packages (from pandas->df2gspread) (2025.2)\n",
      "Downloading google_api_python_client-1.6.7-py2.py3-none-any.whl (56 kB)\n",
      "Downloading uritemplate-3.0.1-py2.py3-none-any.whl (15 kB)\n",
      "Downloading argparse-1.4.0-py2.py3-none-any.whl (23 kB)\n",
      "Building wheels for collected packages: df2gspread\n",
      "\u001b[33m  DEPRECATION: Building 'df2gspread' using the legacy setup.py bdist_wheel mechanism, which will be removed in a future version. pip 25.3 will enforce this behaviour change. A possible replacement is to use the standardized build interface by setting the `--use-pep517` option, (possibly combined with `--no-build-isolation`), or adding a `pyproject.toml` file to the source tree of 'df2gspread'. Discussion can be found at https://github.com/pypa/pip/issues/6334\u001b[0m\u001b[33m\n",
      "\u001b[0m  Building wheel for df2gspread (setup.py) ... \u001b[?25ldone\n",
      "\u001b[?25h  Created wheel for df2gspread: filename=df2gspread-1.0.4-py3-none-any.whl size=12004 sha256=5f87a9d8c7826c8a196d6041239a8bdf6d5a59935cddff9299bc205bb0d49081\n",
      "  Stored in directory: /home/ec2-user/.cache/pip/wheels/80/2f/29/b15c01e2e9fbfaae81e5f9e8a05735954fc125b7cd9f1423a5\n",
      "Successfully built df2gspread\n",
      "Installing collected packages: argparse, uritemplate, google-api-python-client, df2gspread\n",
      "\u001b[2K   \u001b[90m━━━━━━━━━━━━━━━━━━━━━━━━━━━━━━━━━━━━━━━━\u001b[0m \u001b[32m4/4\u001b[0m [df2gspread]\n",
      "\u001b[1A\u001b[2KSuccessfully installed argparse-1.4.0 df2gspread-1.0.4 google-api-python-client-1.6.7 uritemplate-3.0.1\n",
      "Requirement already satisfied: tqdm in /home/ec2-user/anaconda3/envs/python3/lib/python3.10/site-packages (4.67.1)\n"
     ]
    }
   ],
   "source": [
    "!pip install gspread\n",
    "!pip install oauth2client\n",
    "!pip install -U snowflake-connector-python\n",
    "!pip install -U snowflake-snowpark-python\n",
    "!pip install --upgrade psycopg2\n",
    "!pip install -U sqlalchemy\n",
    "!pip install df2gspread\n",
    "!pip install tqdm"
   ]
  },
  {
   "cell_type": "code",
   "execution_count": 4,
   "id": "d38e9d5b-0fab-49ae-ba44-187e3a581613",
   "metadata": {
    "tags": []
   },
   "outputs": [],
   "source": [
    "from common_functions import ret_metabase, upload_dataframe_to_snowflake, snowflake_query\n",
    "from datetime import datetime, timedelta\n",
    "import datetime as dt\n",
    "import time\n",
    "import os\n",
    "import boto3\n",
    "import base64\n",
    "from botocore.exceptions import ClientError\n",
    "import json\n",
    "import requests\n",
    "from pathlib import Path\n",
    "from io import StringIO\n",
    "import pandas as pd\n",
    "import sqlalchemy\n",
    "import psycopg2\n",
    "import numpy as np\n",
    "import gspread\n",
    "from oauth2client.service_account import ServiceAccountCredentials\n",
    "import os\n",
    "import requests\n",
    "import json\n",
    "import pandas as pd\n",
    "import numpy as np\n",
    "import re\n",
    "import datetime\n",
    "import seaborn as sns\n",
    "from io import StringIO, BytesIO\n",
    "import sys\n",
    "from datetime import datetime\n",
    "\n"
   ]
  },
  {
   "cell_type": "code",
   "execution_count": 8,
   "id": "d984f566-1874-4c65-92fa-63aa2976d158",
   "metadata": {
    "tags": []
   },
   "outputs": [],
   "source": [
    "import requests\n",
    "\n",
    "def address_details(lat, lon):\n",
    "    # Construct the API URL\n",
    "    url = f\"https://nominatim.openstreetmap.org/reverse?format=jsonv2&lat={lat}&lon={lon}\"\n",
    "    \n",
    "    # Headers to avoid being blocked and to force English response\n",
    "    headers = {\n",
    "        'User-Agent': 'Mozilla/5.0 (compatible; MyGeocodingApp/1.0; +http://example.com/my-geocoding-app)',\n",
    "        'Accept-Language': 'en'  # Force response in English\n",
    "    }\n",
    "    \n",
    "    # Make the API request\n",
    "    # Check if the request was successful\n",
    "    try:\n",
    "        response = requests.get(url, headers=headers)\n",
    "        if response.status_code == 200:\n",
    "            data = response.json()\n",
    "            display_name = data.get(\"display_name\")\n",
    "            name = data.get(\"name\")\n",
    "            road = data.get(\"address\", {}).get(\"road\")\n",
    "            suburb = data.get(\"address\", {}).get(\"suburb\")\n",
    "            city = data.get(\"address\", {}).get(\"city\") or data.get(\"address\", {}).get(\"town\") or data.get(\"address\", {}).get(\"village\")\n",
    "            state = data.get(\"address\", {}).get(\"state\")\n",
    "            country = data.get(\"address\", {}).get(\"country\")\n",
    "            return display_name, name, road, suburb, city, state, country\n",
    "        else:\n",
    "            print(f\"API error: status code {response.status_code}\")\n",
    "            return None, None, None, None, None, None, None\n",
    "    except Exception as e:\n",
    "        print(f\"Exception during API call: {e}\")\n",
    "        return None, None, None, None, None, None, None"
   ]
  },
  {
   "cell_type": "markdown",
   "id": "8a340b9a",
   "metadata": {},
   "source": [
    "# Morocco"
   ]
  },
  {
   "cell_type": "raw",
   "id": "e539713f",
   "metadata": {},
   "source": [
    "tablename: reatiler_addresses_v2 \n",
    "schema name: fintech \n",
    "country: MA \n",
    "df: df_updated "
   ]
  },
  {
   "cell_type": "code",
   "execution_count": 9,
   "id": "61a75ae5-8777-47a5-8160-74de9d4e2801",
   "metadata": {
    "tags": []
   },
   "outputs": [
    {
     "name": "stdout",
     "output_type": "stream",
     "text": [
      "/home/ec2-user/service_account_key.json\n"
     ]
    }
   ],
   "source": [
    "df = ret_metabase(\"Morocco\" , 18371)"
   ]
  },
  {
   "cell_type": "code",
   "execution_count": 10,
   "id": "d768aa55-08ff-4f52-bb25-950fc522cadf",
   "metadata": {
    "tags": []
   },
   "outputs": [
    {
     "data": {
      "text/html": [
       "<div>\n",
       "<style scoped>\n",
       "    .dataframe tbody tr th:only-of-type {\n",
       "        vertical-align: middle;\n",
       "    }\n",
       "\n",
       "    .dataframe tbody tr th {\n",
       "        vertical-align: top;\n",
       "    }\n",
       "\n",
       "    .dataframe thead th {\n",
       "        text-align: right;\n",
       "    }\n",
       "</style>\n",
       "<table border=\"1\" class=\"dataframe\">\n",
       "  <thead>\n",
       "    <tr style=\"text-align: right;\">\n",
       "      <th></th>\n",
       "      <th>MAIN_SYSTEM_ID</th>\n",
       "      <th>ID</th>\n",
       "      <th>LATITUDE</th>\n",
       "      <th>LONGITUDE</th>\n",
       "    </tr>\n",
       "  </thead>\n",
       "  <tbody>\n",
       "    <tr>\n",
       "      <th>0</th>\n",
       "      <td>63798</td>\n",
       "      <td>63131</td>\n",
       "      <td>30.414714</td>\n",
       "      <td>-9.496111</td>\n",
       "    </tr>\n",
       "    <tr>\n",
       "      <th>1</th>\n",
       "      <td>70300</td>\n",
       "      <td>69576</td>\n",
       "      <td>32.350981</td>\n",
       "      <td>-7.946858</td>\n",
       "    </tr>\n",
       "    <tr>\n",
       "      <th>2</th>\n",
       "      <td>70917</td>\n",
       "      <td>70192</td>\n",
       "      <td>31.526099</td>\n",
       "      <td>-9.101299</td>\n",
       "    </tr>\n",
       "    <tr>\n",
       "      <th>3</th>\n",
       "      <td>66030</td>\n",
       "      <td>65341</td>\n",
       "      <td>28.614859</td>\n",
       "      <td>-9.442440</td>\n",
       "    </tr>\n",
       "    <tr>\n",
       "      <th>4</th>\n",
       "      <td>65437</td>\n",
       "      <td>64757</td>\n",
       "      <td>33.002207</td>\n",
       "      <td>-7.624329</td>\n",
       "    </tr>\n",
       "    <tr>\n",
       "      <th>...</th>\n",
       "      <td>...</td>\n",
       "      <td>...</td>\n",
       "      <td>...</td>\n",
       "      <td>...</td>\n",
       "    </tr>\n",
       "    <tr>\n",
       "      <th>4355</th>\n",
       "      <td>74633</td>\n",
       "      <td>73898</td>\n",
       "      <td>31.754831</td>\n",
       "      <td>-8.027131</td>\n",
       "    </tr>\n",
       "    <tr>\n",
       "      <th>4356</th>\n",
       "      <td>76566</td>\n",
       "      <td>75824</td>\n",
       "      <td>35.768818</td>\n",
       "      <td>-5.817978</td>\n",
       "    </tr>\n",
       "    <tr>\n",
       "      <th>4357</th>\n",
       "      <td>81275</td>\n",
       "      <td>80517</td>\n",
       "      <td>34.228435</td>\n",
       "      <td>-3.347852</td>\n",
       "    </tr>\n",
       "    <tr>\n",
       "      <th>4358</th>\n",
       "      <td>76046</td>\n",
       "      <td>75304</td>\n",
       "      <td>35.616933</td>\n",
       "      <td>-5.273915</td>\n",
       "    </tr>\n",
       "    <tr>\n",
       "      <th>4359</th>\n",
       "      <td>76103</td>\n",
       "      <td>75361</td>\n",
       "      <td>34.007489</td>\n",
       "      <td>-5.006768</td>\n",
       "    </tr>\n",
       "  </tbody>\n",
       "</table>\n",
       "<p>4360 rows × 4 columns</p>\n",
       "</div>"
      ],
      "text/plain": [
       "      MAIN_SYSTEM_ID     ID   LATITUDE  LONGITUDE\n",
       "0              63798  63131  30.414714  -9.496111\n",
       "1              70300  69576  32.350981  -7.946858\n",
       "2              70917  70192  31.526099  -9.101299\n",
       "3              66030  65341  28.614859  -9.442440\n",
       "4              65437  64757  33.002207  -7.624329\n",
       "...              ...    ...        ...        ...\n",
       "4355           74633  73898  31.754831  -8.027131\n",
       "4356           76566  75824  35.768818  -5.817978\n",
       "4357           81275  80517  34.228435  -3.347852\n",
       "4358           76046  75304  35.616933  -5.273915\n",
       "4359           76103  75361  34.007489  -5.006768\n",
       "\n",
       "[4360 rows x 4 columns]"
      ]
     },
     "execution_count": 10,
     "metadata": {},
     "output_type": "execute_result"
    }
   ],
   "source": [
    "df "
   ]
  },
  {
   "cell_type": "code",
   "execution_count": null,
   "id": "2e5160e1-6513-4949-9a39-7f7434a15d4b",
   "metadata": {},
   "outputs": [],
   "source": [
    "df_empty = pd.DataFrame({\n",
    "    \"MAIN_SYSTEM_ID\": pd.Series(dtype=\"Int64\"),   # nullable int\n",
    "    \"RETAILER_ID\": pd.Series(dtype=\"Int64\"),      # nullable int\n",
    "    \"ADDRESS\": pd.Series(dtype=\"string\"),\n",
    "    \"DISTRICT\": pd.Series(dtype=\"string\"),\n",
    "    \"STATE\": pd.Series(dtype=\"string\"),\n",
    "    \"COUNTRY\": pd.Series(dtype=\"string\")\n",
    "})\n"
   ]
  },
  {
   "cell_type": "code",
   "execution_count": null,
   "id": "6d342337-de2b-4118-ab79-2768e573a26b",
   "metadata": {
    "tags": []
   },
   "outputs": [
    {
     "name": "stdout",
     "output_type": "stream",
     "text": [
      "Total retailers to process: 4360\n"
     ]
    },
    {
     "name": "stderr",
     "output_type": "stream",
     "text": [
      "Processing retailers:   0%|          | 0/4360 [00:00<?, ?retailer/s]"
     ]
    },
    {
     "name": "stdout",
     "output_type": "stream",
     "text": [
      "\n",
      "📦 Processing batch 1/88 (retailers 1-50)\n"
     ]
    },
    {
     "name": "stderr",
     "output_type": "stream",
     "text": [
      "Processing retailers:   1%|          | 50/4360 [04:55<7:13:20,  6.03s/retailer, Current=ID:66537.0, Processed=50, Remaining=4310]"
     ]
    },
    {
     "name": "stdout",
     "output_type": "stream",
     "text": [
      "💾 Uploading batch 1 to Snowflake...\n",
      "/home/ec2-user/service_account_key.json\n",
      "✅ Batch 1 successfully uploaded to Snowflake!\n",
      "✅ Batch 1 completed. Progress: 50/4360 retailers (1.1%)\n",
      "⏱️  Elapsed: 303.8s | Est. remaining: 26184.0s\n",
      "\n",
      "📦 Processing batch 2/88 (retailers 51-100)\n"
     ]
    },
    {
     "name": "stderr",
     "output_type": "stream",
     "text": [
      "Processing retailers:   2%|▏         | 100/4360 [09:59<7:07:28,  6.02s/retailer, Current=ID:65300.0, Processed=100, Remaining=4260]"
     ]
    },
    {
     "name": "stdout",
     "output_type": "stream",
     "text": [
      "💾 Uploading batch 2 to Snowflake...\n",
      "/home/ec2-user/service_account_key.json\n",
      "✅ Batch 2 successfully uploaded to Snowflake!\n",
      "✅ Batch 2 completed. Progress: 100/4360 retailers (2.3%)\n",
      "⏱️  Elapsed: 606.6s | Est. remaining: 25843.2s\n",
      "\n",
      "📦 Processing batch 3/88 (retailers 101-150)\n"
     ]
    },
    {
     "name": "stderr",
     "output_type": "stream",
     "text": [
      "Processing retailers:   3%|▎         | 150/4360 [15:02<7:02:16,  6.02s/retailer, Current=ID:65356.0, Processed=150, Remaining=4210]"
     ]
    },
    {
     "name": "stdout",
     "output_type": "stream",
     "text": [
      "💾 Uploading batch 3 to Snowflake...\n",
      "/home/ec2-user/service_account_key.json\n",
      "✅ Batch 3 successfully uploaded to Snowflake!\n",
      "✅ Batch 3 completed. Progress: 150/4360 retailers (3.4%)\n",
      "⏱️  Elapsed: 968.7s | Est. remaining: 27188.3s\n",
      "\n",
      "📦 Processing batch 4/88 (retailers 151-200)\n"
     ]
    },
    {
     "name": "stderr",
     "output_type": "stream",
     "text": [
      "Processing retailers:   5%|▍         | 200/4360 [21:04<7:00:33,  6.07s/retailer, Current=ID:63413.0, Processed=200, Remaining=4160] "
     ]
    },
    {
     "name": "stdout",
     "output_type": "stream",
     "text": [
      "💾 Uploading batch 4 to Snowflake...\n",
      "/home/ec2-user/service_account_key.json\n",
      "✅ Batch 4 successfully uploaded to Snowflake!\n",
      "✅ Batch 4 completed. Progress: 200/4360 retailers (4.6%)\n",
      "⏱️  Elapsed: 1271.9s | Est. remaining: 26456.5s\n",
      "\n",
      "📦 Processing batch 5/88 (retailers 201-250)\n"
     ]
    },
    {
     "name": "stderr",
     "output_type": "stream",
     "text": [
      "Processing retailers:   6%|▌         | 250/4360 [26:07<6:52:36,  6.02s/retailer, Current=ID:73261.0, Processed=250, Remaining=4110]"
     ]
    },
    {
     "name": "stdout",
     "output_type": "stream",
     "text": [
      "💾 Uploading batch 5 to Snowflake...\n",
      "/home/ec2-user/service_account_key.json\n",
      "✅ Batch 5 successfully uploaded to Snowflake!\n",
      "✅ Batch 5 completed. Progress: 250/4360 retailers (5.7%)\n",
      "⏱️  Elapsed: 1575.2s | Est. remaining: 25896.4s\n",
      "\n",
      "📦 Processing batch 6/88 (retailers 251-300)\n"
     ]
    },
    {
     "name": "stderr",
     "output_type": "stream",
     "text": [
      "Processing retailers:   7%|▋         | 300/4360 [31:10<6:46:23,  6.01s/retailer, Current=ID:72146.0, Processed=300, Remaining=4060]"
     ]
    },
    {
     "name": "stdout",
     "output_type": "stream",
     "text": [
      "💾 Uploading batch 6 to Snowflake...\n",
      "/home/ec2-user/service_account_key.json\n",
      "✅ Batch 6 successfully uploaded to Snowflake!\n",
      "✅ Batch 6 completed. Progress: 300/4360 retailers (6.9%)\n",
      "⏱️  Elapsed: 1878.2s | Est. remaining: 25418.2s\n",
      "\n",
      "📦 Processing batch 7/88 (retailers 301-350)\n"
     ]
    },
    {
     "name": "stderr",
     "output_type": "stream",
     "text": [
      "Processing retailers:   8%|▊         | 350/4360 [36:13<6:42:33,  6.02s/retailer, Current=ID:68612.0, Processed=350, Remaining=4010]"
     ]
    },
    {
     "name": "stdout",
     "output_type": "stream",
     "text": [
      "💾 Uploading batch 7 to Snowflake...\n",
      "/home/ec2-user/service_account_key.json\n",
      "✅ Batch 7 successfully uploaded to Snowflake!\n",
      "✅ Batch 7 completed. Progress: 350/4360 retailers (8.0%)\n",
      "⏱️  Elapsed: 2180.9s | Est. remaining: 24987.3s\n",
      "\n",
      "📦 Processing batch 8/88 (retailers 351-400)\n"
     ]
    },
    {
     "name": "stderr",
     "output_type": "stream",
     "text": [
      "Processing retailers:   9%|▉         | 400/4360 [41:16<6:38:51,  6.04s/retailer, Current=ID:74430.0, Processed=400, Remaining=3960]"
     ]
    },
    {
     "name": "stdout",
     "output_type": "stream",
     "text": [
      "💾 Uploading batch 8 to Snowflake...\n",
      "/home/ec2-user/service_account_key.json\n",
      "✅ Batch 8 successfully uploaded to Snowflake!\n",
      "✅ Batch 8 completed. Progress: 400/4360 retailers (9.2%)\n",
      "⏱️  Elapsed: 2484.1s | Est. remaining: 24593.1s\n",
      "\n",
      "📦 Processing batch 9/88 (retailers 401-450)\n"
     ]
    },
    {
     "name": "stderr",
     "output_type": "stream",
     "text": [
      "Processing retailers:  10%|█         | 450/4360 [46:19<6:32:35,  6.02s/retailer, Current=ID:62282.0, Processed=450, Remaining=3910]"
     ]
    },
    {
     "name": "stdout",
     "output_type": "stream",
     "text": [
      "💾 Uploading batch 9 to Snowflake...\n",
      "/home/ec2-user/service_account_key.json\n",
      "✅ Batch 9 successfully uploaded to Snowflake!\n",
      "✅ Batch 9 completed. Progress: 450/4360 retailers (10.3%)\n",
      "⏱️  Elapsed: 2787.8s | Est. remaining: 24222.7s\n",
      "\n",
      "📦 Processing batch 10/88 (retailers 451-500)\n"
     ]
    },
    {
     "name": "stderr",
     "output_type": "stream",
     "text": [
      "Processing retailers:  11%|█▏        | 500/4360 [51:23<6:28:25,  6.04s/retailer, Current=ID:78656.0, Processed=500, Remaining=3860]"
     ]
    },
    {
     "name": "stdout",
     "output_type": "stream",
     "text": [
      "💾 Uploading batch 10 to Snowflake...\n",
      "/home/ec2-user/service_account_key.json\n",
      "✅ Batch 10 successfully uploaded to Snowflake!\n",
      "✅ Batch 10 completed. Progress: 500/4360 retailers (11.5%)\n",
      "⏱️  Elapsed: 3091.2s | Est. remaining: 23864.1s\n",
      "\n",
      "📦 Processing batch 11/88 (retailers 501-550)\n"
     ]
    },
    {
     "name": "stderr",
     "output_type": "stream",
     "text": [
      "Processing retailers:  13%|█▎        | 550/4360 [56:26<6:22:25,  6.02s/retailer, Current=ID:72632.0, Processed=550, Remaining=3810]"
     ]
    },
    {
     "name": "stdout",
     "output_type": "stream",
     "text": [
      "💾 Uploading batch 11 to Snowflake...\n",
      "/home/ec2-user/service_account_key.json\n",
      "✅ Batch 11 successfully uploaded to Snowflake!\n",
      "✅ Batch 11 completed. Progress: 550/4360 retailers (12.6%)\n",
      "⏱️  Elapsed: 3394.3s | Est. remaining: 23513.1s\n",
      "\n",
      "📦 Processing batch 12/88 (retailers 551-600)\n"
     ]
    },
    {
     "name": "stderr",
     "output_type": "stream",
     "text": [
      "Processing retailers:  14%|█▍        | 600/4360 [1:01:30<6:18:42,  6.04s/retailer, Current=ID:63893.0, Processed=600, Remaining=3760]"
     ]
    },
    {
     "name": "stdout",
     "output_type": "stream",
     "text": [
      "💾 Uploading batch 12 to Snowflake...\n",
      "/home/ec2-user/service_account_key.json\n",
      "✅ Batch 12 successfully uploaded to Snowflake!\n",
      "✅ Batch 12 completed. Progress: 600/4360 retailers (13.8%)\n",
      "⏱️  Elapsed: 3697.6s | Est. remaining: 23171.9s\n",
      "\n",
      "📦 Processing batch 13/88 (retailers 601-650)\n"
     ]
    },
    {
     "name": "stderr",
     "output_type": "stream",
     "text": [
      "Processing retailers:  15%|█▍        | 650/4360 [1:06:33<6:15:40,  6.08s/retailer, Current=ID:64540.0, Processed=650, Remaining=3710]"
     ]
    },
    {
     "name": "stdout",
     "output_type": "stream",
     "text": [
      "💾 Uploading batch 13 to Snowflake...\n",
      "/home/ec2-user/service_account_key.json\n",
      "✅ Batch 13 successfully uploaded to Snowflake!\n",
      "✅ Batch 13 completed. Progress: 650/4360 retailers (14.9%)\n",
      "⏱️  Elapsed: 4015.4s | Est. remaining: 22918.7s\n",
      "\n",
      "📦 Processing batch 14/88 (retailers 651-700)\n"
     ]
    },
    {
     "name": "stderr",
     "output_type": "stream",
     "text": [
      "Processing retailers:  16%|█▌        | 700/4360 [1:11:51<6:06:11,  6.00s/retailer, Current=ID:78189.0, Processed=700, Remaining=3660] "
     ]
    },
    {
     "name": "stdout",
     "output_type": "stream",
     "text": [
      "💾 Uploading batch 14 to Snowflake...\n",
      "/home/ec2-user/service_account_key.json\n",
      "✅ Batch 14 successfully uploaded to Snowflake!\n",
      "✅ Batch 14 completed. Progress: 700/4360 retailers (16.1%)\n",
      "⏱️  Elapsed: 4318.1s | Est. remaining: 22577.4s\n",
      "\n",
      "📦 Processing batch 15/88 (retailers 701-750)\n"
     ]
    },
    {
     "name": "stderr",
     "output_type": "stream",
     "text": [
      "Processing retailers:  17%|█▋        | 750/4360 [1:16:53<6:00:46,  6.00s/retailer, Current=ID:64290.0, Processed=750, Remaining=3610]"
     ]
    },
    {
     "name": "stdout",
     "output_type": "stream",
     "text": [
      "💾 Uploading batch 15 to Snowflake...\n",
      "/home/ec2-user/service_account_key.json\n",
      "✅ Batch 15 successfully uploaded to Snowflake!\n",
      "✅ Batch 15 completed. Progress: 750/4360 retailers (17.2%)\n",
      "⏱️  Elapsed: 4621.7s | Est. remaining: 22245.8s\n",
      "\n",
      "📦 Processing batch 16/88 (retailers 751-800)\n"
     ]
    },
    {
     "name": "stderr",
     "output_type": "stream",
     "text": [
      "Processing retailers:  18%|█▊        | 774/4360 [1:19:20<6:01:01,  6.04s/retailer, Current=ID:80485.0, Processed=774, Remaining=3586]"
     ]
    },
    {
     "name": "stdout",
     "output_type": "stream",
     "text": [
      "/home/ec2-user/service_account_key.json\n",
      "✅ Batch 16 successfully uploaded to Snowflake!\n",
      "✅ Batch 16 completed. Progress: 800/4360 retailers (18.3%)\n",
      "⏱️  Elapsed: 4925.4s | Est. remaining: 21917.9s\n",
      "\n",
      "📦 Processing batch 17/88 (retailers 801-850)\n"
     ]
    },
    {
     "name": "stderr",
     "output_type": "stream",
     "text": [
      "Processing retailers:  19%|█▉        | 850/4360 [1:27:01<5:52:27,  6.03s/retailer, Current=ID:51183.0, Processed=850, Remaining=3510]"
     ]
    },
    {
     "name": "stdout",
     "output_type": "stream",
     "text": [
      "💾 Uploading batch 17 to Snowflake...\n",
      "/home/ec2-user/service_account_key.json\n",
      "✅ Batch 17 successfully uploaded to Snowflake!\n",
      "✅ Batch 17 completed. Progress: 850/4360 retailers (19.5%)\n",
      "⏱️  Elapsed: 5228.8s | Est. remaining: 21591.8s\n",
      "\n",
      "📦 Processing batch 18/88 (retailers 851-900)\n"
     ]
    },
    {
     "name": "stderr",
     "output_type": "stream",
     "text": [
      "Processing retailers:  21%|██        | 900/4360 [1:32:04<5:46:36,  6.01s/retailer, Current=ID:66064.0, Processed=900, Remaining=3460]"
     ]
    },
    {
     "name": "stdout",
     "output_type": "stream",
     "text": [
      "💾 Uploading batch 18 to Snowflake...\n",
      "/home/ec2-user/service_account_key.json\n",
      "✅ Batch 18 successfully uploaded to Snowflake!\n",
      "✅ Batch 18 completed. Progress: 900/4360 retailers (20.6%)\n",
      "⏱️  Elapsed: 5532.2s | Est. remaining: 21268.2s\n",
      "\n",
      "📦 Processing batch 19/88 (retailers 901-950)\n"
     ]
    },
    {
     "name": "stderr",
     "output_type": "stream",
     "text": [
      "Processing retailers:  22%|██▏       | 950/4360 [1:37:07<5:40:41,  5.99s/retailer, Current=ID:73768.0, Processed=950, Remaining=3410]"
     ]
    },
    {
     "name": "stdout",
     "output_type": "stream",
     "text": [
      "💾 Uploading batch 19 to Snowflake...\n",
      "/home/ec2-user/service_account_key.json\n",
      "✅ Batch 19 successfully uploaded to Snowflake!\n",
      "✅ Batch 19 completed. Progress: 950/4360 retailers (21.8%)\n",
      "⏱️  Elapsed: 5835.4s | Est. remaining: 20946.0s\n",
      "\n",
      "📦 Processing batch 20/88 (retailers 951-1000)\n"
     ]
    },
    {
     "name": "stderr",
     "output_type": "stream",
     "text": [
      "Processing retailers:  23%|██▎       | 1000/4360 [1:42:11<5:38:38,  6.05s/retailer, Current=ID:73116.0, Processed=1000, Remaining=3360]"
     ]
    },
    {
     "name": "stdout",
     "output_type": "stream",
     "text": [
      "💾 Uploading batch 20 to Snowflake...\n",
      "/home/ec2-user/service_account_key.json\n",
      "✅ Batch 20 successfully uploaded to Snowflake!\n",
      "✅ Batch 20 completed. Progress: 1000/4360 retailers (22.9%)\n",
      "⏱️  Elapsed: 6138.7s | Est. remaining: 20626.2s\n",
      "\n",
      "📦 Processing batch 21/88 (retailers 1001-1050)\n"
     ]
    },
    {
     "name": "stderr",
     "output_type": "stream",
     "text": [
      "Processing retailers:  24%|██▍       | 1050/4360 [1:47:14<5:31:53,  6.02s/retailer, Current=ID:70796.0, Processed=1050, Remaining=3310]"
     ]
    },
    {
     "name": "stdout",
     "output_type": "stream",
     "text": [
      "💾 Uploading batch 21 to Snowflake...\n",
      "/home/ec2-user/service_account_key.json\n",
      "✅ Batch 21 successfully uploaded to Snowflake!\n",
      "✅ Batch 21 completed. Progress: 1050/4360 retailers (24.1%)\n",
      "⏱️  Elapsed: 6442.5s | Est. remaining: 20309.3s\n",
      "\n",
      "📦 Processing batch 22/88 (retailers 1051-1100)\n"
     ]
    },
    {
     "name": "stderr",
     "output_type": "stream",
     "text": [
      "Processing retailers:  25%|██▌       | 1100/4360 [1:52:18<5:28:10,  6.04s/retailer, Current=ID:70932.0, Processed=1100, Remaining=3260]"
     ]
    },
    {
     "name": "stdout",
     "output_type": "stream",
     "text": [
      "💾 Uploading batch 22 to Snowflake...\n",
      "/home/ec2-user/service_account_key.json\n",
      "✅ Batch 22 successfully uploaded to Snowflake!\n",
      "✅ Batch 22 completed. Progress: 1100/4360 retailers (25.2%)\n",
      "⏱️  Elapsed: 6746.8s | Est. remaining: 19995.0s\n",
      "\n",
      "📦 Processing batch 23/88 (retailers 1101-1150)\n"
     ]
    },
    {
     "name": "stderr",
     "output_type": "stream",
     "text": [
      "Processing retailers:  26%|██▋       | 1150/4360 [1:57:22<5:23:50,  6.05s/retailer, Current=ID:71423.0, Processed=1150, Remaining=3210]"
     ]
    },
    {
     "name": "stdout",
     "output_type": "stream",
     "text": [
      "💾 Uploading batch 23 to Snowflake...\n",
      "/home/ec2-user/service_account_key.json\n",
      "✅ Batch 23 successfully uploaded to Snowflake!\n",
      "✅ Batch 23 completed. Progress: 1150/4360 retailers (26.4%)\n",
      "⏱️  Elapsed: 7050.9s | Est. remaining: 19681.3s\n",
      "\n",
      "📦 Processing batch 24/88 (retailers 1151-1200)\n"
     ]
    },
    {
     "name": "stderr",
     "output_type": "stream",
     "text": [
      "Processing retailers:  28%|██▊       | 1200/4360 [2:02:26<5:18:31,  6.05s/retailer, Current=ID:67373.0, Processed=1200, Remaining=3160]"
     ]
    },
    {
     "name": "stdout",
     "output_type": "stream",
     "text": [
      "💾 Uploading batch 24 to Snowflake...\n",
      "/home/ec2-user/service_account_key.json\n",
      "✅ Batch 24 successfully uploaded to Snowflake!\n",
      "✅ Batch 24 completed. Progress: 1200/4360 retailers (27.5%)\n",
      "⏱️  Elapsed: 7354.4s | Est. remaining: 19366.7s\n",
      "\n",
      "📦 Processing batch 25/88 (retailers 1201-1250)\n"
     ]
    },
    {
     "name": "stderr",
     "output_type": "stream",
     "text": [
      "Processing retailers:  29%|██▊       | 1250/4360 [2:07:30<5:14:11,  6.06s/retailer, Current=ID:72649.0, Processed=1250, Remaining=3110]"
     ]
    },
    {
     "name": "stdout",
     "output_type": "stream",
     "text": [
      "💾 Uploading batch 25 to Snowflake...\n",
      "/home/ec2-user/service_account_key.json\n",
      "✅ Batch 25 successfully uploaded to Snowflake!\n",
      "✅ Batch 25 completed. Progress: 1250/4360 retailers (28.7%)\n",
      "⏱️  Elapsed: 7658.1s | Est. remaining: 19053.5s\n",
      "\n",
      "📦 Processing batch 26/88 (retailers 1251-1300)\n"
     ]
    },
    {
     "name": "stderr",
     "output_type": "stream",
     "text": [
      "Processing retailers:  30%|██▉       | 1300/4360 [2:12:33<5:07:56,  6.04s/retailer, Current=ID:80250.0, Processed=1300, Remaining=3060]"
     ]
    },
    {
     "name": "stdout",
     "output_type": "stream",
     "text": [
      "💾 Uploading batch 26 to Snowflake...\n",
      "/home/ec2-user/service_account_key.json\n",
      "✅ Batch 26 successfully uploaded to Snowflake!\n",
      "✅ Batch 26 completed. Progress: 1300/4360 retailers (29.8%)\n",
      "⏱️  Elapsed: 7962.7s | Est. remaining: 18742.9s\n",
      "\n",
      "📦 Processing batch 27/88 (retailers 1301-1350)\n"
     ]
    },
    {
     "name": "stderr",
     "output_type": "stream",
     "text": [
      "Processing retailers:  31%|███       | 1350/4360 [2:17:38<5:03:29,  6.05s/retailer, Current=ID:64370.0, Processed=1350, Remaining=3010]"
     ]
    },
    {
     "name": "stdout",
     "output_type": "stream",
     "text": [
      "💾 Uploading batch 27 to Snowflake...\n",
      "/home/ec2-user/service_account_key.json\n",
      "✅ Batch 27 successfully uploaded to Snowflake!\n",
      "✅ Batch 27 completed. Progress: 1350/4360 retailers (31.0%)\n",
      "⏱️  Elapsed: 8267.1s | Est. remaining: 18432.5s\n",
      "\n",
      "📦 Processing batch 28/88 (retailers 1351-1400)\n"
     ]
    },
    {
     "name": "stderr",
     "output_type": "stream",
     "text": [
      "Processing retailers:  32%|███▏      | 1378/4360 [2:20:30<5:01:20,  6.06s/retailer, Current=ID:64763.0, Processed=1378, Remaining=2982]"
     ]
    }
   ],
   "source": [
    "import pandas as pd\n",
    "import requests\n",
    "from time import sleep\n",
    "from tqdm import tqdm\n",
    "import time\n",
    "from datetime import datetime, timedelta\n",
    "\n",
    "# Initialize an empty list to store the updated data\n",
    "updated_data = []\n",
    "print(f\"Total retailers to process: {len(df)}\")\n",
    "\n",
    "# Process retailers in batches of 50\n",
    "batch_size = 50\n",
    "total_batches = (len(df) + batch_size - 1) // batch_size\n",
    "\n",
    "# Start timing\n",
    "start_time = time.time()\n",
    "\n",
    "# Main progress bar for batches\n",
    "with tqdm(total=len(df), desc=\"Processing retailers\", unit=\"retailer\") as pbar:\n",
    "    for batch_num, start in enumerate(range(0, len(df), batch_size), 1):\n",
    "        batch = df.iloc[start:start + batch_size]\n",
    "        \n",
    "        # Progress message for current batch\n",
    "        print(f\"\\n📦 Processing batch {batch_num}/{total_batches} (retailers {start+1}-{min(start+batch_size, len(df))})\")\n",
    "        \n",
    "        for index, row in batch.iterrows():\n",
    "            main_system_id = row['MAIN_SYSTEM_ID']\n",
    "            retailer_id = row['ID']\n",
    "            lat = row['LATITUDE']\n",
    "            lon = row['LONGITUDE']\n",
    "            \n",
    "            try:\n",
    "                display_name, name, road, suburb, city, state, country = address_details(lat, lon)\n",
    "            except Exception as e:\n",
    "                print(f\"❌ Error processing retailer_id {retailer_id}: {e}\")\n",
    "                display_name, name, road, suburb, city, state, country = [None] * 7\n",
    "            \n",
    "            updated_data.append([\n",
    "                 main_system_id, retailer_id, display_name, city, state, country\n",
    "            ])\n",
    "            \n",
    "            # Update progress bar\n",
    "            pbar.update(1)\n",
    "            pbar.set_postfix({\n",
    "                'Current': f\"ID:{retailer_id}\",\n",
    "                'Processed': len(updated_data),\n",
    "                'Remaining': len(df) - len(updated_data)\n",
    "            })\n",
    "\n",
    "        # Create DataFrame for current batch only (not accumulated data)\n",
    "        current_batch_data = []\n",
    "        for index, row in batch.iterrows():\n",
    "            main_system_id = row['MAIN_SYSTEM_ID']\n",
    "            retailer_id = row['ID']\n",
    "            lat = row['LATITUDE']\n",
    "            lon = row['LONGITUDE']\n",
    "            \n",
    "            try:\n",
    "                display_name, name, road, suburb, city, state, country = address_details(lat, lon)\n",
    "            except Exception as e:\n",
    "                print(f\"❌ Error processing retailer_id {retailer_id}: {e}\")\n",
    "                display_name, name, road, suburb, city, state, country = [None] * 7\n",
    "            \n",
    "            current_batch_data.append([\n",
    "                 main_system_id, retailer_id, display_name, city, state, country\n",
    "            ])\n",
    "        \n",
    "        # Upload current batch to Snowflake immediately\n",
    "        print(f\"💾 Uploading batch {batch_num} to Snowflake...\")\n",
    "        try:\n",
    "            df_current_batch = pd.DataFrame(current_batch_data, columns=[\n",
    "               'main_system_id','retailer_id', 'address', 'district', 'state', 'country'])\n",
    "            now = datetime.now() + timedelta(hours=3)\n",
    "            df_current_batch['dispatched_at'] = now\n",
    "            upload_dataframe_to_snowflake(\"Morocco\", df_current_batch, \"fintech\", \"retailer_addresses_v2\", \"append\", auto_create_table=True, conn=None)\n",
    "            print(f\"✅ Batch {batch_num} successfully uploaded to Snowflake!\")\n",
    "        except Exception as e:\n",
    "            print(f\"❌ Error uploading batch {batch_num} to Snowflake: {e}\")\n",
    "            # Continue processing but log the error\n",
    "        \n",
    "        # Show batch completion status\n",
    "        elapsed_time = time.time() - start_time\n",
    "        avg_time_per_retailer = elapsed_time / len(updated_data)\n",
    "        estimated_remaining = avg_time_per_retailer * (len(df) - len(updated_data))\n",
    "        \n",
    "        print(f\"✅ Batch {batch_num} completed. Progress: {len(updated_data)}/{len(df)} retailers ({len(updated_data)/len(df)*100:.1f}%)\")\n",
    "        print(f\"⏱️  Elapsed: {elapsed_time:.1f}s | Est. remaining: {estimated_remaining:.1f}s\")\n",
    "\n",
    "# Calculate final timing\n",
    "total_time = time.time() - start_time\n",
    "print(f\"\\n🎉 Processing completed!\")\n",
    "print(f\"📊 Final stats:\")\n",
    "print(f\"   • Total retailers processed: {len(updated_data)}\")\n",
    "print(f\"   • Total time: {total_time:.2f} seconds\")\n",
    "print(f\"   • Average time per retailer: {total_time/len(updated_data):.3f} seconds\")\n",
    "\n",
    "# --- Final completion message ---\n",
    "print(f\"\\n🎉 All batches processed and uploaded to Snowflake!\")\n",
    "print(f\"📊 Final stats:\")\n",
    "print(f\"   • Total retailers processed: {len(updated_data)}\")\n",
    "print(f\"   • Total time: {total_time:.2f} seconds\")\n",
    "print(f\"   • Average time per retailer: {total_time/len(updated_data):.3f} seconds\")\n",
    "print(f\"   • All data successfully uploaded to Snowflake table: reatiler_addresses_v2\")\n",
    "\n",
    "# Optionally save to Excel as backup\n",
    "# df_updated = pd.DataFrame(updated_data, columns=['main_system_id','retailer_id', 'address', 'district', 'state', 'country'])\n",
    "# df_updated.to_excel('retailers_with_regions.xlsx', index=False)\n",
    "# print(\"✅ Exported final file: retailers_with_regions.xlsx\")"
   ]
  },
  {
   "cell_type": "code",
   "execution_count": 32,
   "id": "3ef7a78d-f314-48c1-9d66-3dfc3ad35323",
   "metadata": {
    "tags": []
   },
   "outputs": [
    {
     "name": "stdout",
     "output_type": "stream",
     "text": [
      "/home/ec2-user/service_account_key.json\n"
     ]
    },
    {
     "data": {
      "text/plain": [
       "True"
      ]
     },
     "execution_count": 32,
     "metadata": {},
     "output_type": "execute_result"
    }
   ],
   "source": [
    "df_empty = pd.DataFrame({\n",
    "    \"main_system_id\": pd.Series(dtype=\"Int64\"),   # nullable int\n",
    "    \"retailer_id\": pd.Series(dtype=\"Int64\"),      # nullable int\n",
    "    \"address\": pd.Series(dtype=\"string\"),\n",
    "    \"district\": pd.Series(dtype=\"string\"),\n",
    "    \"state\": pd.Series(dtype=\"string\"),\n",
    "    \"country\": pd.Series(dtype=\"string\")\n",
    "})\n",
    "\n",
    "upload_dataframe_to_snowflake(\"Morocco\", df_empty, \"fintech\", \"retailer_addresses_v2\", \"overwrite\", auto_create_table=True, conn=None)"
   ]
  },
  {
   "cell_type": "code",
   "execution_count": 12,
   "id": "eeadbdf4-c4d0-49e4-971c-8a031d8ba468",
   "metadata": {
    "tags": []
   },
   "outputs": [
    {
     "name": "stdout",
     "output_type": "stream",
     "text": [
      "5\n",
      "/home/ec2-user/service_account_key.json\n"
     ]
    },
    {
     "data": {
      "text/plain": [
       "True"
      ]
     },
     "execution_count": 12,
     "metadata": {},
     "output_type": "execute_result"
    }
   ],
   "source": [
    "import pandas as pd\n",
    "import requests\n",
    "from time import sleep\n",
    "\n",
    "# Initialize an empty list to store the updated data\n",
    "updated_data = []\n",
    "print(len(df))\n",
    "\n",
    "# Process retailers in batches of 50\n",
    "batch_size = 50\n",
    "\n",
    "\n",
    "for start in range(0, len(df), batch_size):\n",
    "    batch = df.iloc[start:start + batch_size]\n",
    "    for index, row in batch.iterrows():\n",
    "        main_system_id = row['MAIN_SYSTEM_ID']\n",
    "#         cash_in_id = row['cash_in_id']\n",
    "        retailer_id =  row['ID']\n",
    "        lat = row['LATITUDE']\n",
    "        lon = row['LONGITUDE']\n",
    "        try:\n",
    "            display_name, name, road, suburb, city, state, country = address_details(lat, lon)\n",
    "        except Exception as e:\n",
    "            print(f\"Error processing retailer_id {retailer_id}: {e}\")\n",
    "            display_name, name, road, suburb, city, state, country = [None] * 7\n",
    "        \n",
    "        updated_data.append([\n",
    "             main_system_id, retailer_id, display_name, city, state, country\n",
    "        ])\n",
    "        \n",
    "#         print(updated_data)\n",
    "#         sleep(1)\n",
    "\n",
    "    df_temp = pd.DataFrame(updated_data, columns=[\n",
    "       'main_system_id','retailer_id', 'address', 'district', 'state', 'country'])\n",
    "#     df_temp.to_excel('retailers_partial_output.xlsx', index=False)\n",
    "    \n",
    "    \n",
    "\n",
    "# --- Step 4: Final save ---\n",
    "df_updated = pd.DataFrame(updated_data, columns=['main_system_id','retailer_id', 'address', 'district', 'state', 'country'])\n",
    "upload_dataframe_to_snowflake(\"Morocco\", df_updated, \"fintech\", \"retailer_addresses_v2\", \"overwrite\", auto_create_table=True, conn=None)\n",
    "# df_updated.to_excel('retailers_with_regions.xlsx', index=False)\n",
    "# print(\"✅ Exported final file: retailers_with_regions.xlsx\")"
   ]
  },
  {
   "cell_type": "markdown",
   "id": "3a7893cf",
   "metadata": {},
   "source": [
    "# Egypt"
   ]
  },
  {
   "cell_type": "markdown",
   "id": "097be967",
   "metadata": {},
   "source": [
    "tablename: reatiler_addresses_v2 \n",
    "schema name: fintech \n",
    "country: EG \n",
    "df: df_updated "
   ]
  },
  {
   "cell_type": "code",
   "execution_count": 13,
   "id": "80d8ccb0",
   "metadata": {
    "tags": []
   },
   "outputs": [
    {
     "name": "stdout",
     "output_type": "stream",
     "text": [
      "/home/ec2-user/service_account_key.json\n"
     ]
    }
   ],
   "source": [
    "df_eg = ret_metabase(\"Egypt\", 63420)"
   ]
  },
  {
   "cell_type": "code",
   "execution_count": 14,
   "id": "77056440",
   "metadata": {
    "tags": []
   },
   "outputs": [],
   "source": [
    "df_eg = df_eg.head()"
   ]
  },
  {
   "cell_type": "code",
   "execution_count": 22,
   "id": "660df3fd-d62c-46dc-bf81-82cc01120041",
   "metadata": {
    "tags": []
   },
   "outputs": [
    {
     "data": {
      "text/html": [
       "<div>\n",
       "<style scoped>\n",
       "    .dataframe tbody tr th:only-of-type {\n",
       "        vertical-align: middle;\n",
       "    }\n",
       "\n",
       "    .dataframe tbody tr th {\n",
       "        vertical-align: top;\n",
       "    }\n",
       "\n",
       "    .dataframe thead th {\n",
       "        text-align: right;\n",
       "    }\n",
       "</style>\n",
       "<table border=\"1\" class=\"dataframe\">\n",
       "  <thead>\n",
       "    <tr style=\"text-align: right;\">\n",
       "      <th></th>\n",
       "      <th>MAIN_SYSTEM_ID</th>\n",
       "      <th>ID</th>\n",
       "      <th>LATITUDE</th>\n",
       "      <th>LONGITUDE</th>\n",
       "    </tr>\n",
       "  </thead>\n",
       "  <tbody>\n",
       "    <tr>\n",
       "      <th>0</th>\n",
       "      <td>762625</td>\n",
       "      <td>1965328</td>\n",
       "      <td>30.197507</td>\n",
       "      <td>31.748868</td>\n",
       "    </tr>\n",
       "    <tr>\n",
       "      <th>1</th>\n",
       "      <td>878325</td>\n",
       "      <td>2162305</td>\n",
       "      <td>29.974490</td>\n",
       "      <td>31.758904</td>\n",
       "    </tr>\n",
       "    <tr>\n",
       "      <th>2</th>\n",
       "      <td>685304</td>\n",
       "      <td>1841414</td>\n",
       "      <td>30.239491</td>\n",
       "      <td>31.721861</td>\n",
       "    </tr>\n",
       "    <tr>\n",
       "      <th>3</th>\n",
       "      <td>773250</td>\n",
       "      <td>1980573</td>\n",
       "      <td>30.998901</td>\n",
       "      <td>30.669067</td>\n",
       "    </tr>\n",
       "    <tr>\n",
       "      <th>4</th>\n",
       "      <td>769855</td>\n",
       "      <td>1976363</td>\n",
       "      <td>26.591611</td>\n",
       "      <td>31.683381</td>\n",
       "    </tr>\n",
       "  </tbody>\n",
       "</table>\n",
       "</div>"
      ],
      "text/plain": [
       "   MAIN_SYSTEM_ID       ID   LATITUDE  LONGITUDE\n",
       "0          762625  1965328  30.197507  31.748868\n",
       "1          878325  2162305  29.974490  31.758904\n",
       "2          685304  1841414  30.239491  31.721861\n",
       "3          773250  1980573  30.998901  30.669067\n",
       "4          769855  1976363  26.591611  31.683381"
      ]
     },
     "execution_count": 22,
     "metadata": {},
     "output_type": "execute_result"
    }
   ],
   "source": [
    "df_eg"
   ]
  },
  {
   "cell_type": "code",
   "execution_count": 15,
   "id": "cf3e8ab4",
   "metadata": {
    "tags": []
   },
   "outputs": [
    {
     "name": "stdout",
     "output_type": "stream",
     "text": [
      "5\n",
      "[[508388.0, 1216203.0, 'Ras Sedr, Al Qantra Sharq Road, Qantara East, Port Said, Egypt', 'Qantara East', 'Port Said', 'Egypt']]\n",
      "[[508388.0, 1216203.0, 'Ras Sedr, Al Qantra Sharq Road, Qantara East, Port Said, Egypt', 'Qantara East', 'Port Said', 'Egypt'], [918721.0, 2242866.0, 'Ad Dakahliya, 35616, Egypt', None, 'Ad Dakahliya', 'Egypt']]\n",
      "[[508388.0, 1216203.0, 'Ras Sedr, Al Qantra Sharq Road, Qantara East, Port Said, Egypt', 'Qantara East', 'Port Said', 'Egypt'], [918721.0, 2242866.0, 'Ad Dakahliya, 35616, Egypt', None, 'Ad Dakahliya', 'Egypt'], [757686.0, 1959027.0, 'Soliman Alley, Giza, 12874, Egypt', None, 'Giza', 'Egypt']]\n",
      "[[508388.0, 1216203.0, 'Ras Sedr, Al Qantra Sharq Road, Qantara East, Port Said, Egypt', 'Qantara East', 'Port Said', 'Egypt'], [918721.0, 2242866.0, 'Ad Dakahliya, 35616, Egypt', None, 'Ad Dakahliya', 'Egypt'], [757686.0, 1959027.0, 'Soliman Alley, Giza, 12874, Egypt', None, 'Giza', 'Egypt'], [791085.0, 2013566.0, '72, El Sheikh Abdallah El Habshy Street, First Settlement, El Tagamoa El Awal, Cairo, 11865, Egypt', 'Cairo', 'Cairo', 'Egypt']]\n",
      "[[508388.0, 1216203.0, 'Ras Sedr, Al Qantra Sharq Road, Qantara East, Port Said, Egypt', 'Qantara East', 'Port Said', 'Egypt'], [918721.0, 2242866.0, 'Ad Dakahliya, 35616, Egypt', None, 'Ad Dakahliya', 'Egypt'], [757686.0, 1959027.0, 'Soliman Alley, Giza, 12874, Egypt', None, 'Giza', 'Egypt'], [791085.0, 2013566.0, '72, El Sheikh Abdallah El Habshy Street, First Settlement, El Tagamoa El Awal, Cairo, 11865, Egypt', 'Cairo', 'Cairo', 'Egypt'], [915026.0, 2227178.0, 'Kafr Al Sheikh, Kafr El Sheikh, 33717, Egypt', 'Kafr Al Sheikh', 'Kafr El Sheikh', 'Egypt']]\n",
      "/home/ec2-user/service_account_key.json\n"
     ]
    },
    {
     "data": {
      "text/plain": [
       "True"
      ]
     },
     "execution_count": 15,
     "metadata": {},
     "output_type": "execute_result"
    }
   ],
   "source": [
    "# Initialize an empty list to store the updated data\n",
    "updated_data_2 = []\n",
    "print(len(df_eg))\n",
    "\n",
    "# Process retailers in batches of 50\n",
    "batch_size2 = 50\n",
    "\n",
    "\n",
    "for start in range(0, len(df_eg), batch_size2):\n",
    "    batch2 = df_eg.iloc[start:start + batch_size2]\n",
    "    for index, row in batch2.iterrows():\n",
    "        main_system_id2 = row['MAIN_SYSTEM_ID']\n",
    "        retailer_id2 =  row['ID']\n",
    "        lat2 = row['LATITUDE']\n",
    "        lon2 = row['LONGITUDE']\n",
    "        try:\n",
    "            display_name2, name2, road2, suburb2, city2, state2, country2 = address_details(lat2, lon2)\n",
    "        except Exception as e:\n",
    "            print(f\"Error processing retailer_id {retailer_id2}: {e}\")\n",
    "            display_name2, name2, road2, suburb2, city2, state2, country2 = [None] * 7\n",
    "        \n",
    "        updated_data_2.append([\n",
    "            main_system_id2, retailer_id2, display_name2, city2, state2, country2 ])\n",
    "        \n",
    "        print(updated_data_2)\n",
    "#         sleep(1)\n",
    "\n",
    "    df_temp_2 = pd.DataFrame(updated_data_2, columns=[\n",
    "        'main_system_id','retailer_id', 'address', 'district', 'state', 'country'])\n",
    "#     df_temp.to_excel('retailers_partial_output.xlsx', index=False)\n",
    "    \n",
    "\n",
    "\n",
    "# --- Step 4: Final save ---\n",
    "df_updated_eg = pd.DataFrame(updated_data_2, columns=[\n",
    "    'main_system_id','retailer_id', 'address', 'district', 'state', 'country'\n",
    "])\n",
    "upload_dataframe_to_snowflake(\"Egypt\", df_updated_eg, \"fintech\", \"retailer_addresses_v2\", \"overwrite\", auto_create_table=True, conn=None)\n",
    "# df_updated_2.to_excel('retailers_with_regions.xlsx', index=False)\n",
    "# print(\"✅ Exported final file: retailers_with_regions.xlsx\")"
   ]
  },
  {
   "cell_type": "code",
   "execution_count": 7,
   "id": "6b2a1902-810d-43d6-880f-8bba9654d84a",
   "metadata": {
    "tags": []
   },
   "outputs": [
    {
     "data": {
      "text/html": [
       "<div>\n",
       "<style scoped>\n",
       "    .dataframe tbody tr th:only-of-type {\n",
       "        vertical-align: middle;\n",
       "    }\n",
       "\n",
       "    .dataframe tbody tr th {\n",
       "        vertical-align: top;\n",
       "    }\n",
       "\n",
       "    .dataframe thead th {\n",
       "        text-align: right;\n",
       "    }\n",
       "</style>\n",
       "<table border=\"1\" class=\"dataframe\">\n",
       "  <thead>\n",
       "    <tr style=\"text-align: right;\">\n",
       "      <th></th>\n",
       "      <th>main_system_id</th>\n",
       "      <th>retailer_id</th>\n",
       "      <th>address</th>\n",
       "      <th>district</th>\n",
       "      <th>state</th>\n",
       "      <th>country</th>\n",
       "      <th>dispatched_at</th>\n",
       "    </tr>\n",
       "  </thead>\n",
       "  <tbody>\n",
       "    <tr>\n",
       "      <th>116337</th>\n",
       "      <td>81729</td>\n",
       "      <td>80971</td>\n",
       "      <td>Had Soualem, Pachalik de Had Soualem باشوية حد...</td>\n",
       "      <td>Had Soualem</td>\n",
       "      <td>None</td>\n",
       "      <td>Morocco</td>\n",
       "      <td>2025-08-25 20:27:30.949961</td>\n",
       "    </tr>\n",
       "    <tr>\n",
       "      <th>133615</th>\n",
       "      <td>81728</td>\n",
       "      <td>80970</td>\n",
       "      <td>Oujeh Arous, Meknes, Pachalik de Meknes, Meknè...</td>\n",
       "      <td>Meknes</td>\n",
       "      <td>None</td>\n",
       "      <td>Morocco</td>\n",
       "      <td>2025-08-25 20:47:57.414022</td>\n",
       "    </tr>\n",
       "    <tr>\n",
       "      <th>35689</th>\n",
       "      <td>81727</td>\n",
       "      <td>80969</td>\n",
       "      <td>Ksar-el-Kebir, caïdat de Sidi Slama, Pachalik ...</td>\n",
       "      <td>Ksar-el-Kebir</td>\n",
       "      <td>None</td>\n",
       "      <td>Morocco</td>\n",
       "      <td>2025-08-25 18:16:51.885772</td>\n",
       "    </tr>\n",
       "    <tr>\n",
       "      <th>80184</th>\n",
       "      <td>81726</td>\n",
       "      <td>80968</td>\n",
       "      <td>RR303, Bir Jdid, Pachalik de Bir Jdid, El Jadi...</td>\n",
       "      <td>Bir Jdid</td>\n",
       "      <td>None</td>\n",
       "      <td>Morocco</td>\n",
       "      <td>2025-08-25 19:36:30.032185</td>\n",
       "    </tr>\n",
       "    <tr>\n",
       "      <th>142798</th>\n",
       "      <td>81725</td>\n",
       "      <td>80967</td>\n",
       "      <td>Lotissement El Amri, Dhar Lamhala, Oujda, Pach...</td>\n",
       "      <td>Oujda</td>\n",
       "      <td>None</td>\n",
       "      <td>Morocco</td>\n",
       "      <td>2025-08-25 20:58:06.871341</td>\n",
       "    </tr>\n",
       "    <tr>\n",
       "      <th>...</th>\n",
       "      <td>...</td>\n",
       "      <td>...</td>\n",
       "      <td>...</td>\n",
       "      <td>...</td>\n",
       "      <td>...</td>\n",
       "      <td>...</td>\n",
       "      <td>...</td>\n",
       "    </tr>\n",
       "    <tr>\n",
       "      <th>142803</th>\n",
       "      <td>30164</td>\n",
       "      <td>27815</td>\n",
       "      <td>Quartier Al Whada, Kenitra, Assaknia, Kenitra,...</td>\n",
       "      <td>Kenitra</td>\n",
       "      <td>None</td>\n",
       "      <td>Morocco</td>\n",
       "      <td>2025-08-25 13:34:53.017788</td>\n",
       "    </tr>\n",
       "    <tr>\n",
       "      <th>142802</th>\n",
       "      <td>23837</td>\n",
       "      <td>51825</td>\n",
       "      <td>Rue de Grenade, Harhoura, Pachalik de Harhoura...</td>\n",
       "      <td>Harhoura</td>\n",
       "      <td>None</td>\n",
       "      <td>Morocco</td>\n",
       "      <td>2025-08-25 13:34:53.017788</td>\n",
       "    </tr>\n",
       "    <tr>\n",
       "      <th>142801</th>\n",
       "      <td>19092</td>\n",
       "      <td>50752</td>\n",
       "      <td>Rue A2 زنقة أ 2, Hay Slimani, Hay Nahda حي الن...</td>\n",
       "      <td>Oujda</td>\n",
       "      <td>None</td>\n",
       "      <td>Morocco</td>\n",
       "      <td>2025-08-25 13:34:53.017788</td>\n",
       "    </tr>\n",
       "    <tr>\n",
       "      <th>43599</th>\n",
       "      <td>18415</td>\n",
       "      <td>51183</td>\n",
       "      <td>RR201, Laattaouia, Pachalik de El Attaouia, Ke...</td>\n",
       "      <td>Laattaouia</td>\n",
       "      <td>None</td>\n",
       "      <td>Morocco</td>\n",
       "      <td>2025-08-25 18:32:03.844185</td>\n",
       "    </tr>\n",
       "    <tr>\n",
       "      <th>142800</th>\n",
       "      <td>11837</td>\n",
       "      <td>49154</td>\n",
       "      <td>Rue 2 زنقة, Hay Karim Al Omrani, Arrondissemen...</td>\n",
       "      <td>Fez</td>\n",
       "      <td>None</td>\n",
       "      <td>Morocco</td>\n",
       "      <td>2025-08-25 13:34:53.017788</td>\n",
       "    </tr>\n",
       "  </tbody>\n",
       "</table>\n",
       "<p>7700 rows × 7 columns</p>\n",
       "</div>"
      ],
      "text/plain": [
       "       main_system_id retailer_id  \\\n",
       "116337          81729       80971   \n",
       "133615          81728       80970   \n",
       "35689           81727       80969   \n",
       "80184           81726       80968   \n",
       "142798          81725       80967   \n",
       "...               ...         ...   \n",
       "142803          30164       27815   \n",
       "142802          23837       51825   \n",
       "142801          19092       50752   \n",
       "43599           18415       51183   \n",
       "142800          11837       49154   \n",
       "\n",
       "                                                  address       district  \\\n",
       "116337  Had Soualem, Pachalik de Had Soualem باشوية حد...    Had Soualem   \n",
       "133615  Oujeh Arous, Meknes, Pachalik de Meknes, Meknè...         Meknes   \n",
       "35689   Ksar-el-Kebir, caïdat de Sidi Slama, Pachalik ...  Ksar-el-Kebir   \n",
       "80184   RR303, Bir Jdid, Pachalik de Bir Jdid, El Jadi...       Bir Jdid   \n",
       "142798  Lotissement El Amri, Dhar Lamhala, Oujda, Pach...          Oujda   \n",
       "...                                                   ...            ...   \n",
       "142803  Quartier Al Whada, Kenitra, Assaknia, Kenitra,...        Kenitra   \n",
       "142802  Rue de Grenade, Harhoura, Pachalik de Harhoura...       Harhoura   \n",
       "142801  Rue A2 زنقة أ 2, Hay Slimani, Hay Nahda حي الن...          Oujda   \n",
       "43599   RR201, Laattaouia, Pachalik de El Attaouia, Ke...     Laattaouia   \n",
       "142800  Rue 2 زنقة, Hay Karim Al Omrani, Arrondissemen...            Fez   \n",
       "\n",
       "       state  country              dispatched_at  \n",
       "116337  None  Morocco 2025-08-25 20:27:30.949961  \n",
       "133615  None  Morocco 2025-08-25 20:47:57.414022  \n",
       "35689   None  Morocco 2025-08-25 18:16:51.885772  \n",
       "80184   None  Morocco 2025-08-25 19:36:30.032185  \n",
       "142798  None  Morocco 2025-08-25 20:58:06.871341  \n",
       "...      ...      ...                        ...  \n",
       "142803  None  Morocco 2025-08-25 13:34:53.017788  \n",
       "142802  None  Morocco 2025-08-25 13:34:53.017788  \n",
       "142801  None  Morocco 2025-08-25 13:34:53.017788  \n",
       "43599   None  Morocco 2025-08-25 18:32:03.844185  \n",
       "142800  None  Morocco 2025-08-25 13:34:53.017788  \n",
       "\n",
       "[7700 rows x 7 columns]"
      ]
     },
     "execution_count": 7,
     "metadata": {},
     "output_type": "execute_result"
    }
   ],
   "source": [
    "# check_df = snowflake_query(\"Morocco\", \"SELECT * FROM fintech.retailer_addresses_v2;\", warehouse=None, columns=[], conn=None)\n",
    "check_df = check_df.sort_values(by=\"main_system_id\", ascending=False)\n",
    "check_df = check_df.drop_duplicates(subset=['main_system_id'])\n",
    "check_df"
   ]
  },
  {
   "cell_type": "code",
   "execution_count": 8,
   "id": "bdb45d4d",
   "metadata": {
    "tags": []
   },
   "outputs": [
    {
     "name": "stdout",
     "output_type": "stream",
     "text": [
      "/home/ec2-user/service_account_key.json\n"
     ]
    },
    {
     "name": "stderr",
     "output_type": "stream",
     "text": [
      "/home/ec2-user/SageMaker/common_functions.py:503: UserWarning: Pandas Dataframe has non-standard index of type <class 'pandas.core.indexes.base.Index'> which will not be written. Consider changing the index to pd.RangeIndex(start=0,...,step=1) or call reset_index() to keep index as column(s)\n",
      "  success, _, _, _ = write_pandas(\n"
     ]
    },
    {
     "data": {
      "text/plain": [
       "True"
      ]
     },
     "execution_count": 8,
     "metadata": {},
     "output_type": "execute_result"
    }
   ],
   "source": [
    "upload_dataframe_to_snowflake(\"Morocco\", check_df, \"fintech\", \"retailer_addresses_v2\", \"overwrite\", auto_create_table=True, conn=None)"
   ]
  }
 ],
 "metadata": {
  "kernelspec": {
   "display_name": "conda_python3",
   "language": "python",
   "name": "conda_python3"
  },
  "language_info": {
   "codemirror_mode": {
    "name": "ipython",
    "version": 3
   },
   "file_extension": ".py",
   "mimetype": "text/x-python",
   "name": "python",
   "nbconvert_exporter": "python",
   "pygments_lexer": "ipython3",
   "version": "3.10.18"
  }
 },
 "nbformat": 4,
 "nbformat_minor": 5
}
